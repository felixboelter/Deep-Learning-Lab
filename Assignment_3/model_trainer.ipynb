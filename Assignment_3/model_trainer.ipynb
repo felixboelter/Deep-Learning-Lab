{
  "cells": [
    {
      "cell_type": "markdown",
      "metadata": {
        "id": "SVXdUxCGGFUo"
      },
      "source": [
        "# Imports"
      ]
    },
    {
      "cell_type": "code",
      "execution_count": 3,
      "metadata": {
        "id": "3YzLHKS8GFUs"
      },
      "outputs": [],
      "source": [
        "import torch\n",
        "import torch.nn as nn\n",
        "import torch.optim as optim\n",
        "import os\n",
        "import numpy as np\n",
        "from torchtext.legacy.data import Field\n",
        "from torchtext.legacy.datasets import LanguageModelingDataset\n",
        "from torchtext.legacy.data import BPTTIterator\n",
        "from src.model import LSTMModel\n",
        "from src.helper import counter, get_fables\n",
        "import matplotlib.pyplot as plt\n",
        "from tqdm import tqdm"
      ]
    },
    {
      "cell_type": "markdown",
      "source": [
        "# Hyperparameters"
      ],
      "metadata": {
        "id": "GKjbsi9UaNCa"
      }
    },
    {
      "cell_type": "code",
      "source": [
        "BATCH_SIZE = 64\n",
        "EMBEDDING_DIM = 1024\n",
        "HIDDEN_SIZE = 1024\n",
        "LAYERS = 2\n",
        "BPTT_LEN = 256\n",
        "model_parameters = {\n",
        "    'batch_size' : BATCH_SIZE,\n",
        "    'embedding_dim': EMBEDDING_DIM,\n",
        "    'hidden_size': HIDDEN_SIZE,\n",
        "    'num_layers': LAYERS\n",
        "}\n",
        "bonus_path = os.path.join('data', \"donaldtrump.txt\")\n",
        "book_path = os.path.join(os.path.join(\"data\",\"books\"), \"AesopsFables.txt\")"
      ],
      "metadata": {
        "id": "vvY6O70aaMV0"
      },
      "execution_count": 4,
      "outputs": []
    },
    {
      "cell_type": "markdown",
      "metadata": {
        "id": "UmiBZ3zuGFUu"
      },
      "source": [
        "# Training Class"
      ]
    },
    {
      "cell_type": "code",
      "execution_count": 5,
      "metadata": {
        "id": "ywD9xE1BGFUu"
      },
      "outputs": [],
      "source": [
        "class Trainer():\n",
        "    def __init__(self, model_parameters : dict, path : str, bptt_len : int, samples : list):\n",
        "        \"\"\"\n",
        "        We create a `LanguageModelingDataset` object from the `path` argument, which is a path to a text\n",
        "        file. We then create a `BPTTIterator` object from the `LanguageModelingDataset` object. We then\n",
        "        create a `LSTMModel` object from the `model_parameters` argument, which is a dictionary of model\n",
        "        parameters. We then create an `Adam` optimizer object from the `LSTMModel` object\n",
        "        \n",
        "        :param model_parameters: a dictionary containing the parameters for the model\n",
        "        :type model_parameters: dict\n",
        "        :param path: the path to the dataset\n",
        "        :type path: str\n",
        "        :param bptt_len: The length of the sequence to be fed into the model\n",
        "        :type bptt_len: int\n",
        "        :param samples: list of strings to be used for training\n",
        "        :type samples: list\n",
        "        \"\"\"\n",
        "        self.samples = samples\n",
        "        self.device = torch.device(\"cuda:0\" if torch.cuda.is_available() else \"cpu\")\n",
        "        _split_chars = lambda x: list(x) \n",
        "        self.train_field = Field(tokenize=_split_chars ,init_token ='<sos>',eos_token ='<eos>')\n",
        "        train_dataset = LanguageModelingDataset(\n",
        "            path = path,\n",
        "            text_field=self.train_field\n",
        "        )\n",
        "        self.train_field.build_vocab(train_dataset)\n",
        "        self.bptt_iterator = BPTTIterator(\n",
        "            dataset= train_dataset,\n",
        "            batch_size = model_parameters['batch_size'],\n",
        "            bptt_len = bptt_len,\n",
        "            shuffle = False\n",
        "        )\n",
        "        self.model = LSTMModel(**model_parameters, vocab_size = len(self.train_field.vocab)).to(self.device)\n",
        "        self.optimizer = optim.Adam(self.model.parameters(), lr=0.001)\n",
        "\n",
        "        \n",
        "    def predict(self, model : LSTMModel, prompt : str,sequence_length : int, method : str = 'greedy') -> str:\n",
        "        \"\"\"\n",
        "        The function takes in a model, a prompt, a sequence length, and a method. It then generates a\n",
        "        sentence of the specified length using the specified method\n",
        "        \n",
        "        :param model: the model to use for prediction\n",
        "        :type model: LSTMModel\n",
        "        :param prompt: The prompt to start the sentence with\n",
        "        :type prompt: str\n",
        "        :param sequence_length: The length of the generated sequence\n",
        "        :type sequence_length: int\n",
        "        :param method: 'greedy' or 'random', defaults to greedy\n",
        "        :type method: str (optional)\n",
        "        :return: A string of the generated sentence\n",
        "        \"\"\"\n",
        "        model.eval()\n",
        "        generated_sentence=[]\n",
        "        prompt = torch.tensor([self.train_field.vocab.stoi[t] for t in self.train_field.tokenize(prompt)]).long().to(self.device)\n",
        "        hidden = None\n",
        "        Softmax1D = nn.Softmax(dim=1)\n",
        "        if method == 'greedy':\n",
        "            out,hidden=model(prompt.view(-1,1),hidden)\n",
        "            ix = torch.argmax(Softmax1D(out), dim=1)[len(prompt)-1]\n",
        "            for i in range(sequence_length):\n",
        "                out,hidden=model(ix.view(-1,1),hidden)\n",
        "                ix = torch.argmax(Softmax1D(out), dim=1)\n",
        "                generated_sentence.append(self.train_field.vocab.itos[ix])\n",
        "        if method == 'random':\n",
        "            out,hidden=model(prompt.view(-1,1),hidden)\n",
        "            ix = torch.multinomial(Softmax1D(out),1)[len(prompt)-1]\n",
        "            for i in range(sequence_length):\n",
        "                out,hidden=model(ix.view(-1,1),hidden)\n",
        "                ix = torch.multinomial(Softmax1D(out),1)\n",
        "                generated_sentence.append(self.train_field.vocab.itos[ix])\n",
        "        return ''.join(generated_sentence)\n",
        "\n",
        "    def train_model(self, num_epochs : int) -> LSTMModel:\n",
        "        \"\"\"\n",
        "        The function takes in the number of epochs and the model and trains the model for the given\n",
        "        number of epochs\n",
        "        \n",
        "        :param num_epochs: Number of epochs to train for\n",
        "        :return: The model is being returned.\n",
        "        \"\"\"\n",
        "        # vocab_size = \n",
        "        loss_fn = nn.CrossEntropyLoss()\n",
        "        total_steps = 0\n",
        "        loss_plot =[]\n",
        "        perp_plot=[]\n",
        "        for epoch in range(1, num_epochs+1):\n",
        "            cost = 0\n",
        "            num_steps =0\n",
        "            hidden=None\n",
        "            print(\"___________________________________________________________________________\")\n",
        "            print(f\"EPOCH: {epoch}\")\n",
        "            print(f'Total Steps: {total_steps}')\n",
        "            print(\"___________________________________________________________________________\")\n",
        "            for batch in tqdm(self.bptt_iterator):\n",
        "                self.model.train()\n",
        "                self.optimizer.zero_grad()\n",
        "                output, hidden = self.model(batch.text.to(self.device),hidden)\n",
        "                hidden = (hidden[0].detach(), hidden[1].detach())\n",
        "                targets = batch.target\n",
        "                targets = targets.view(targets.shape[0]*targets.shape[1]).to(self.device)\n",
        "                out = output.view(-1, self.model.vocab_size)\n",
        "                loss = loss_fn(out,targets)\n",
        "                cost += loss.item()\n",
        "                num_steps += 1\n",
        "                total_steps+=1\n",
        "                loss.backward()\n",
        "                self.optimizer.step()\n",
        "            if epoch%10==0:\n",
        "                self.model.eval()\n",
        "                for prompt in self.samples:\n",
        "                    print()\n",
        "                    print('Greedy decoding')\n",
        "                    gen_text = self.predict(self.model, prompt, 100)\n",
        "                    print(f'Sample prompt: {prompt} | generated text: {gen_text}')\n",
        "                    print()\n",
        "                    print('Random decoding')\n",
        "                    gen_text = self.predict(self.model, prompt, 100, method='random')\n",
        "                    print(f'Sample prompt: {prompt} | generated text: {gen_text}')\n",
        "                    print()\n",
        "\n",
        "            perplexity = np.exp(cost/num_steps)\n",
        "            loss_plot.append(cost/num_steps)\n",
        "            perp_plot.append(perplexity)\n",
        "            print(f\"Training Loss: {cost/num_steps}, \\n Training perplexity: {perplexity}\")\n",
        "        _, ax1 = plt.subplots()\n",
        "        _, ax2 = plt.subplots()\n",
        "        ax1.plot(loss_plot,'coral')\n",
        "        ax1.set_xlabel('Epoch')\n",
        "        ax1.set_ylabel('Loss')\n",
        "        ax1.title.set_text('Train Loss Plot')\n",
        "        ax1.legend([\"Train Loss\"])\n",
        "        ax2.plot(perp_plot,'deepskyblue')\n",
        "        ax2.set_xlabel('Epoch')\n",
        "        ax2.set_ylabel('Loss')\n",
        "        ax2.title.set_text('Train Perplexity Plot')\n",
        "        ax2.legend([\"Train Perplexity\"])\n",
        "        plt.show()\n",
        "        return self.model"
      ]
    },
    {
      "cell_type": "markdown",
      "metadata": {
        "id": "W20rI4jSGFUx"
      },
      "source": [
        "# Train the fable and the trump models"
      ]
    },
    {
      "cell_type": "code",
      "execution_count": 6,
      "metadata": {
        "id": "0Mcc93DPGFUx",
        "outputId": "de9e0086-d751-401b-a4bb-4a785768cc5f",
        "colab": {
          "base_uri": "https://localhost:8080/",
          "height": 1000
        }
      },
      "outputs": [
        {
          "output_type": "stream",
          "name": "stdout",
          "text": [
            "Training on data from: data/books/AesopsFables.txt\n",
            "Fable Analysis\n",
            "Word Count:  5033\n",
            "Line Count:  5033\n",
            "Char Count:  138881\n",
            "Sentence Count:  1880\n",
            "Vocab Count:  108\n",
            "Count:  11\n",
            "___________________________________________________________________________\n",
            "EPOCH: 1\n",
            "Total Steps: 0\n",
            "___________________________________________________________________________\n"
          ]
        },
        {
          "output_type": "stream",
          "name": "stderr",
          "text": [
            "100%|██████████| 11/11 [00:05<00:00,  2.12it/s]\n"
          ]
        },
        {
          "output_type": "stream",
          "name": "stdout",
          "text": [
            "Training Loss: 3.5015296936035156, \n",
            " Training perplexity: 33.16614721795255\n",
            "___________________________________________________________________________\n",
            "EPOCH: 2\n",
            "Total Steps: 11\n",
            "___________________________________________________________________________\n"
          ]
        },
        {
          "output_type": "stream",
          "name": "stderr",
          "text": [
            "100%|██████████| 11/11 [00:05<00:00,  2.10it/s]\n"
          ]
        },
        {
          "output_type": "stream",
          "name": "stdout",
          "text": [
            "Training Loss: 2.7153718038038774, \n",
            " Training perplexity: 15.11022706752168\n",
            "___________________________________________________________________________\n",
            "EPOCH: 3\n",
            "Total Steps: 22\n",
            "___________________________________________________________________________\n"
          ]
        },
        {
          "output_type": "stream",
          "name": "stderr",
          "text": [
            "100%|██████████| 11/11 [00:05<00:00,  2.08it/s]\n"
          ]
        },
        {
          "output_type": "stream",
          "name": "stdout",
          "text": [
            "Training Loss: 2.362034494226629, \n",
            " Training perplexity: 10.612520615747519\n",
            "___________________________________________________________________________\n",
            "EPOCH: 4\n",
            "Total Steps: 33\n",
            "___________________________________________________________________________\n"
          ]
        },
        {
          "output_type": "stream",
          "name": "stderr",
          "text": [
            "100%|██████████| 11/11 [00:05<00:00,  2.06it/s]\n"
          ]
        },
        {
          "output_type": "stream",
          "name": "stdout",
          "text": [
            "Training Loss: 2.1242009943181817, \n",
            " Training perplexity: 8.36621016742036\n",
            "___________________________________________________________________________\n",
            "EPOCH: 5\n",
            "Total Steps: 44\n",
            "___________________________________________________________________________\n"
          ]
        },
        {
          "output_type": "stream",
          "name": "stderr",
          "text": [
            "100%|██████████| 11/11 [00:05<00:00,  2.07it/s]\n"
          ]
        },
        {
          "output_type": "stream",
          "name": "stdout",
          "text": [
            "Training Loss: 1.9490860267118975, \n",
            " Training perplexity: 7.022266482693182\n",
            "___________________________________________________________________________\n",
            "EPOCH: 6\n",
            "Total Steps: 55\n",
            "___________________________________________________________________________\n"
          ]
        },
        {
          "output_type": "stream",
          "name": "stderr",
          "text": [
            "100%|██████████| 11/11 [00:05<00:00,  2.08it/s]\n"
          ]
        },
        {
          "output_type": "stream",
          "name": "stdout",
          "text": [
            "Training Loss: 1.8146450519561768, \n",
            " Training perplexity: 6.1388968012743215\n",
            "___________________________________________________________________________\n",
            "EPOCH: 7\n",
            "Total Steps: 66\n",
            "___________________________________________________________________________\n"
          ]
        },
        {
          "output_type": "stream",
          "name": "stderr",
          "text": [
            "100%|██████████| 11/11 [00:05<00:00,  2.06it/s]\n"
          ]
        },
        {
          "output_type": "stream",
          "name": "stdout",
          "text": [
            "Training Loss: 1.7046420899304477, \n",
            " Training perplexity: 5.499417018205378\n",
            "___________________________________________________________________________\n",
            "EPOCH: 8\n",
            "Total Steps: 77\n",
            "___________________________________________________________________________\n"
          ]
        },
        {
          "output_type": "stream",
          "name": "stderr",
          "text": [
            "100%|██████████| 11/11 [00:05<00:00,  2.04it/s]\n"
          ]
        },
        {
          "output_type": "stream",
          "name": "stdout",
          "text": [
            "Training Loss: 1.6090871745889836, \n",
            " Training perplexity: 4.998246618281054\n",
            "___________________________________________________________________________\n",
            "EPOCH: 9\n",
            "Total Steps: 88\n",
            "___________________________________________________________________________\n"
          ]
        },
        {
          "output_type": "stream",
          "name": "stderr",
          "text": [
            "100%|██████████| 11/11 [00:05<00:00,  2.00it/s]\n"
          ]
        },
        {
          "output_type": "stream",
          "name": "stdout",
          "text": [
            "Training Loss: 1.526662750677629, \n",
            " Training perplexity: 4.602790503100714\n",
            "___________________________________________________________________________\n",
            "EPOCH: 10\n",
            "Total Steps: 99\n",
            "___________________________________________________________________________\n"
          ]
        },
        {
          "output_type": "stream",
          "name": "stderr",
          "text": [
            "100%|██████████| 11/11 [00:05<00:00,  1.98it/s]\n"
          ]
        },
        {
          "output_type": "stream",
          "name": "stdout",
          "text": [
            "\n",
            "Greedy decoding\n",
            "Sample prompt: Dogs like best to | generated text: the said, “I will be and the Fox and the Fox and the Fox and the Fox and the Fox and the Fox and the\n",
            "\n",
            "Random decoding\n",
            "Sample prompt: Dogs like best to | generated text: the bond, and way, has<eos>esten from paw, and lause of hissions<eos>fell eat into<eos>dy often, and atted to be\n",
            "\n",
            "\n",
            "Greedy decoding\n",
            "Sample prompt: THERE were once some Frogs who lived together | generated text: to the said, “I will be and the Fox and the Fox and the Fox and the Fox and the Fox and the Fox and \n",
            "\n",
            "Random decoding\n",
            "Sample prompt: THERE were once some Frogs who lived together | generated text:  What you hand of had<eos>do, and stighp, the gathing this seerss,” reploated at, he<eos>kill to rempent of \n",
            "\n",
            "\n",
            "Greedy decoding\n",
            "Sample prompt: THE WOMAN AND HER HEN | generated text: <eos><eos>A CORTIND AND THE FOX<eos><eos><eos>A WOLF and the Fox and the Fox and the Fox and the Fox and the Fox and the\n",
            "\n",
            "Random decoding\n",
            "Sample prompt: THE WOMAN AND HER HEN | generated text: <eos><eos>THE MAN AND THE BAT<eos><eos><eos>A GEAMAN was dony daributing out of some our often hemself. He was as then,”\n",
            "\n",
            "Training Loss: 1.4526694254441694, \n",
            " Training perplexity: 4.274509784170795\n",
            "___________________________________________________________________________\n",
            "EPOCH: 11\n",
            "Total Steps: 110\n",
            "___________________________________________________________________________\n"
          ]
        },
        {
          "output_type": "stream",
          "name": "stderr",
          "text": [
            "100%|██████████| 11/11 [00:05<00:00,  1.97it/s]\n"
          ]
        },
        {
          "output_type": "stream",
          "name": "stdout",
          "text": [
            "Training Loss: 1.389375307343223, \n",
            " Training perplexity: 4.012342788864317\n",
            "___________________________________________________________________________\n",
            "EPOCH: 12\n",
            "Total Steps: 121\n",
            "___________________________________________________________________________\n"
          ]
        },
        {
          "output_type": "stream",
          "name": "stderr",
          "text": [
            "100%|██████████| 11/11 [00:05<00:00,  1.96it/s]\n"
          ]
        },
        {
          "output_type": "stream",
          "name": "stdout",
          "text": [
            "Training Loss: 1.3393106027082964, \n",
            " Training perplexity: 3.8164115744441025\n",
            "___________________________________________________________________________\n",
            "EPOCH: 13\n",
            "Total Steps: 132\n",
            "___________________________________________________________________________\n"
          ]
        },
        {
          "output_type": "stream",
          "name": "stderr",
          "text": [
            "100%|██████████| 11/11 [00:05<00:00,  1.94it/s]\n"
          ]
        },
        {
          "output_type": "stream",
          "name": "stdout",
          "text": [
            "Training Loss: 1.2854208729483865, \n",
            " Training perplexity: 3.6161895933633246\n",
            "___________________________________________________________________________\n",
            "EPOCH: 14\n",
            "Total Steps: 143\n",
            "___________________________________________________________________________\n"
          ]
        },
        {
          "output_type": "stream",
          "name": "stderr",
          "text": [
            "100%|██████████| 11/11 [00:05<00:00,  1.96it/s]\n"
          ]
        },
        {
          "output_type": "stream",
          "name": "stdout",
          "text": [
            "Training Loss: 1.2326143980026245, \n",
            " Training perplexity: 3.4301856943353872\n",
            "___________________________________________________________________________\n",
            "EPOCH: 15\n",
            "Total Steps: 154\n",
            "___________________________________________________________________________\n"
          ]
        },
        {
          "output_type": "stream",
          "name": "stderr",
          "text": [
            "100%|██████████| 11/11 [00:05<00:00,  1.93it/s]\n"
          ]
        },
        {
          "output_type": "stream",
          "name": "stdout",
          "text": [
            "Training Loss: 1.1828736500306563, \n",
            " Training perplexity: 3.2637395853885867\n",
            "___________________________________________________________________________\n",
            "EPOCH: 16\n",
            "Total Steps: 165\n",
            "___________________________________________________________________________\n"
          ]
        },
        {
          "output_type": "stream",
          "name": "stderr",
          "text": [
            "100%|██████████| 11/11 [00:05<00:00,  1.90it/s]\n"
          ]
        },
        {
          "output_type": "stream",
          "name": "stdout",
          "text": [
            "Training Loss: 1.1391574577851729, \n",
            " Training perplexity: 3.124135040341952\n",
            "___________________________________________________________________________\n",
            "EPOCH: 17\n",
            "Total Steps: 176\n",
            "___________________________________________________________________________\n"
          ]
        },
        {
          "output_type": "stream",
          "name": "stderr",
          "text": [
            "100%|██████████| 11/11 [00:05<00:00,  1.88it/s]\n"
          ]
        },
        {
          "output_type": "stream",
          "name": "stdout",
          "text": [
            "Training Loss: 1.097182273864746, \n",
            " Training perplexity: 2.9957130215417895\n",
            "___________________________________________________________________________\n",
            "EPOCH: 18\n",
            "Total Steps: 187\n",
            "___________________________________________________________________________\n"
          ]
        },
        {
          "output_type": "stream",
          "name": "stderr",
          "text": [
            "100%|██████████| 11/11 [00:05<00:00,  1.86it/s]\n"
          ]
        },
        {
          "output_type": "stream",
          "name": "stdout",
          "text": [
            "Training Loss: 1.0647794550115413, \n",
            " Training perplexity: 2.900199289102725\n",
            "___________________________________________________________________________\n",
            "EPOCH: 19\n",
            "Total Steps: 198\n",
            "___________________________________________________________________________\n"
          ]
        },
        {
          "output_type": "stream",
          "name": "stderr",
          "text": [
            "100%|██████████| 11/11 [00:05<00:00,  1.85it/s]\n"
          ]
        },
        {
          "output_type": "stream",
          "name": "stdout",
          "text": [
            "Training Loss: 1.0292153033343228, \n",
            " Training perplexity: 2.798868709829268\n",
            "___________________________________________________________________________\n",
            "EPOCH: 20\n",
            "Total Steps: 209\n",
            "___________________________________________________________________________\n"
          ]
        },
        {
          "output_type": "stream",
          "name": "stderr",
          "text": [
            "100%|██████████| 11/11 [00:05<00:00,  1.83it/s]\n"
          ]
        },
        {
          "output_type": "stream",
          "name": "stdout",
          "text": [
            "\n",
            "Greedy decoding\n",
            "Sample prompt: Dogs like best to | generated text: the water the fables of the food of the food of the food of the food of the food of the food of the \n",
            "\n",
            "Random decoding\n",
            "Sample prompt: Dogs like best to | generated text: get upon its<eos>endeable upon him with of the tirst refund<eos>try the edges, pution the poor Donkeywere ap\n",
            "\n",
            "\n",
            "Greedy decoding\n",
            "Sample prompt: THERE were once some Frogs who lived together | generated text: he was the fables of the food of the food of the food of the food of the food of the food of the foo\n",
            "\n",
            "Random decoding\n",
            "Sample prompt: THERE were once some Frogs who lived together | generated text: themed<eos>timeed in<eos>from the primit of a slife, cannot free their happened his xittening courtedicλly.<eos>\n",
            "\n",
            "\n",
            "Greedy decoding\n",
            "Sample prompt: THE WOMAN AND HER HEN | generated text: <eos><eos>A DOG once came the Fox the same day the fable for the fables for the first before the first that \n",
            "\n",
            "Random decoding\n",
            "Sample prompt: THE WOMAN AND HER HEN | generated text: <eos>The Poor Fables of Ant satiw after her nest that no one keep a mouthful of lionesly deep<eos>big your a\n",
            "\n",
            "Training Loss: 0.9827417839657177, \n",
            " Training perplexity: 2.6717716293541565\n",
            "___________________________________________________________________________\n",
            "EPOCH: 21\n",
            "Total Steps: 220\n",
            "___________________________________________________________________________\n"
          ]
        },
        {
          "output_type": "stream",
          "name": "stderr",
          "text": [
            "100%|██████████| 11/11 [00:06<00:00,  1.82it/s]\n"
          ]
        },
        {
          "output_type": "stream",
          "name": "stdout",
          "text": [
            "Training Loss: 0.9360931624065746, \n",
            " Training perplexity: 2.5499994982524608\n",
            "___________________________________________________________________________\n",
            "EPOCH: 22\n",
            "Total Steps: 231\n",
            "___________________________________________________________________________\n"
          ]
        },
        {
          "output_type": "stream",
          "name": "stderr",
          "text": [
            "100%|██████████| 11/11 [00:06<00:00,  1.82it/s]\n"
          ]
        },
        {
          "output_type": "stream",
          "name": "stdout",
          "text": [
            "Training Loss: 0.8929724855856462, \n",
            " Training perplexity: 2.442378807746455\n",
            "___________________________________________________________________________\n",
            "EPOCH: 23\n",
            "Total Steps: 242\n",
            "___________________________________________________________________________\n"
          ]
        },
        {
          "output_type": "stream",
          "name": "stderr",
          "text": [
            "100%|██████████| 11/11 [00:06<00:00,  1.81it/s]\n"
          ]
        },
        {
          "output_type": "stream",
          "name": "stdout",
          "text": [
            "Training Loss: 0.861543292349035, \n",
            " Training perplexity: 2.3668105572027143\n",
            "___________________________________________________________________________\n",
            "EPOCH: 24\n",
            "Total Steps: 253\n",
            "___________________________________________________________________________\n"
          ]
        },
        {
          "output_type": "stream",
          "name": "stderr",
          "text": [
            "100%|██████████| 11/11 [00:06<00:00,  1.83it/s]\n"
          ]
        },
        {
          "output_type": "stream",
          "name": "stdout",
          "text": [
            "Training Loss: 0.8406629399819807, \n",
            " Training perplexity: 2.3179030981848285\n",
            "___________________________________________________________________________\n",
            "EPOCH: 25\n",
            "Total Steps: 264\n",
            "___________________________________________________________________________\n"
          ]
        },
        {
          "output_type": "stream",
          "name": "stderr",
          "text": [
            "100%|██████████| 11/11 [00:05<00:00,  1.85it/s]\n"
          ]
        },
        {
          "output_type": "stream",
          "name": "stdout",
          "text": [
            "Training Loss: 0.7983544523065741, \n",
            " Training perplexity: 2.2218817062890017\n",
            "___________________________________________________________________________\n",
            "EPOCH: 26\n",
            "Total Steps: 275\n",
            "___________________________________________________________________________\n"
          ]
        },
        {
          "output_type": "stream",
          "name": "stderr",
          "text": [
            "100%|██████████| 11/11 [00:05<00:00,  1.84it/s]\n"
          ]
        },
        {
          "output_type": "stream",
          "name": "stdout",
          "text": [
            "Training Loss: 0.7382796135815707, \n",
            " Training perplexity: 2.092332795424393\n",
            "___________________________________________________________________________\n",
            "EPOCH: 27\n",
            "Total Steps: 286\n",
            "___________________________________________________________________________\n"
          ]
        },
        {
          "output_type": "stream",
          "name": "stderr",
          "text": [
            "100%|██████████| 11/11 [00:05<00:00,  1.87it/s]\n"
          ]
        },
        {
          "output_type": "stream",
          "name": "stdout",
          "text": [
            "Training Loss: 0.6981368552554738, \n",
            " Training perplexity: 2.0100042877053967\n",
            "___________________________________________________________________________\n",
            "EPOCH: 28\n",
            "Total Steps: 297\n",
            "___________________________________________________________________________\n"
          ]
        },
        {
          "output_type": "stream",
          "name": "stderr",
          "text": [
            "100%|██████████| 11/11 [00:05<00:00,  1.86it/s]\n"
          ]
        },
        {
          "output_type": "stream",
          "name": "stdout",
          "text": [
            "Training Loss: 0.6558807383884083, \n",
            " Training perplexity: 1.9268388111804573\n",
            "___________________________________________________________________________\n",
            "EPOCH: 29\n",
            "Total Steps: 308\n",
            "___________________________________________________________________________\n"
          ]
        },
        {
          "output_type": "stream",
          "name": "stderr",
          "text": [
            "100%|██████████| 11/11 [00:05<00:00,  1.87it/s]\n"
          ]
        },
        {
          "output_type": "stream",
          "name": "stdout",
          "text": [
            "Training Loss: 0.612954394383864, \n",
            " Training perplexity: 1.8458767989390834\n",
            "___________________________________________________________________________\n",
            "EPOCH: 30\n",
            "Total Steps: 319\n",
            "___________________________________________________________________________\n"
          ]
        },
        {
          "output_type": "stream",
          "name": "stderr",
          "text": [
            "100%|██████████| 11/11 [00:05<00:00,  1.86it/s]\n"
          ]
        },
        {
          "output_type": "stream",
          "name": "stdout",
          "text": [
            "\n",
            "Greedy decoding\n",
            "Sample prompt: Dogs like best to | generated text: meet him corracted him to come and straight to the ground,<eos>that he was not a bird, but he was not a \n",
            "\n",
            "Random decoding\n",
            "Sample prompt: Dogs like best to | generated text: Gree yourself as<eos>insubsed on his false made the ambasked of way, she stretched his Mother to strong \n",
            "\n",
            "\n",
            "Greedy decoding\n",
            "Sample prompt: THERE were once some Frogs who lived together | generated text: that he could not reach the trees, the<eos>statue of a man came to the tree, he mounted to the ground be\n",
            "\n",
            "Random decoding\n",
            "Sample prompt: THERE were once some Frogs who lived together | generated text: to her publes for herself<eos>one browsed him by to the one to come out of good turn to his crike laughi\n",
            "\n",
            "\n",
            "Greedy decoding\n",
            "Sample prompt: THE WOMAN AND HER HEN | generated text: <eos><eos>A MONKEY and a Cat being that he was not a bird, but the man had only took the ground, and the Fox\n",
            "\n",
            "Random decoding\n",
            "Sample prompt: THE WOMAN AND HER HEN | generated text: <eos><eos>A COJUCG, modifify have been thravely traveled that his long throw throwever him that he was not a\n",
            "\n",
            "Training Loss: 0.5988868420774286, \n",
            " Training perplexity: 1.8200916229056532\n",
            "___________________________________________________________________________\n",
            "EPOCH: 31\n",
            "Total Steps: 330\n",
            "___________________________________________________________________________\n"
          ]
        },
        {
          "output_type": "stream",
          "name": "stderr",
          "text": [
            "100%|██████████| 11/11 [00:05<00:00,  1.85it/s]\n"
          ]
        },
        {
          "output_type": "stream",
          "name": "stdout",
          "text": [
            "Training Loss: 0.5768304467201233, \n",
            " Training perplexity: 1.7803864486447958\n",
            "___________________________________________________________________________\n",
            "EPOCH: 32\n",
            "Total Steps: 341\n",
            "___________________________________________________________________________\n"
          ]
        },
        {
          "output_type": "stream",
          "name": "stderr",
          "text": [
            "100%|██████████| 11/11 [00:05<00:00,  1.84it/s]\n"
          ]
        },
        {
          "output_type": "stream",
          "name": "stdout",
          "text": [
            "Training Loss: 0.5365211855281483, \n",
            " Training perplexity: 1.7100475643347197\n",
            "___________________________________________________________________________\n",
            "EPOCH: 33\n",
            "Total Steps: 352\n",
            "___________________________________________________________________________\n"
          ]
        },
        {
          "output_type": "stream",
          "name": "stderr",
          "text": [
            "100%|██████████| 11/11 [00:05<00:00,  1.87it/s]\n"
          ]
        },
        {
          "output_type": "stream",
          "name": "stdout",
          "text": [
            "Training Loss: 0.4959371333772486, \n",
            " Training perplexity: 1.6420363252955927\n",
            "___________________________________________________________________________\n",
            "EPOCH: 34\n",
            "Total Steps: 363\n",
            "___________________________________________________________________________\n"
          ]
        },
        {
          "output_type": "stream",
          "name": "stderr",
          "text": [
            "100%|██████████| 11/11 [00:05<00:00,  1.86it/s]\n"
          ]
        },
        {
          "output_type": "stream",
          "name": "stdout",
          "text": [
            "Training Loss: 0.4635348076170141, \n",
            " Training perplexity: 1.5896832898486923\n",
            "___________________________________________________________________________\n",
            "EPOCH: 35\n",
            "Total Steps: 374\n",
            "___________________________________________________________________________\n"
          ]
        },
        {
          "output_type": "stream",
          "name": "stderr",
          "text": [
            "100%|██████████| 11/11 [00:05<00:00,  1.85it/s]\n"
          ]
        },
        {
          "output_type": "stream",
          "name": "stdout",
          "text": [
            "Training Loss: 0.4412284872748635, \n",
            " Training perplexity: 1.5546158717089067\n",
            "___________________________________________________________________________\n",
            "EPOCH: 36\n",
            "Total Steps: 385\n",
            "___________________________________________________________________________\n"
          ]
        },
        {
          "output_type": "stream",
          "name": "stderr",
          "text": [
            "100%|██████████| 11/11 [00:05<00:00,  1.85it/s]\n"
          ]
        },
        {
          "output_type": "stream",
          "name": "stdout",
          "text": [
            "Training Loss: 0.4130805324424397, \n",
            " Training perplexity: 1.5114667431413276\n",
            "___________________________________________________________________________\n",
            "EPOCH: 37\n",
            "Total Steps: 396\n",
            "___________________________________________________________________________\n"
          ]
        },
        {
          "output_type": "stream",
          "name": "stderr",
          "text": [
            "100%|██████████| 11/11 [00:05<00:00,  1.84it/s]\n"
          ]
        },
        {
          "output_type": "stream",
          "name": "stdout",
          "text": [
            "Training Loss: 0.382128352468664, \n",
            " Training perplexity: 1.4654001607909324\n",
            "___________________________________________________________________________\n",
            "EPOCH: 38\n",
            "Total Steps: 407\n",
            "___________________________________________________________________________\n"
          ]
        },
        {
          "output_type": "stream",
          "name": "stderr",
          "text": [
            "100%|██████████| 11/11 [00:05<00:00,  1.83it/s]\n"
          ]
        },
        {
          "output_type": "stream",
          "name": "stdout",
          "text": [
            "Training Loss: 0.34603663195263257, \n",
            " Training perplexity: 1.4134543924636844\n",
            "___________________________________________________________________________\n",
            "EPOCH: 39\n",
            "Total Steps: 418\n",
            "___________________________________________________________________________\n"
          ]
        },
        {
          "output_type": "stream",
          "name": "stderr",
          "text": [
            "100%|██████████| 11/11 [00:05<00:00,  1.84it/s]\n"
          ]
        },
        {
          "output_type": "stream",
          "name": "stdout",
          "text": [
            "Training Loss: 0.3213204633105885, \n",
            " Training perplexity: 1.3789474121474437\n",
            "___________________________________________________________________________\n",
            "EPOCH: 40\n",
            "Total Steps: 429\n",
            "___________________________________________________________________________\n"
          ]
        },
        {
          "output_type": "stream",
          "name": "stderr",
          "text": [
            "100%|██████████| 11/11 [00:06<00:00,  1.83it/s]\n"
          ]
        },
        {
          "output_type": "stream",
          "name": "stdout",
          "text": [
            "\n",
            "Greedy decoding\n",
            "Sample prompt: Dogs like best to | generated text: the danger. Let us be the water.<eos><eos>“What good have to say to the terms of the water, by the way being\n",
            "\n",
            "Random decoding\n",
            "Sample prompt: Dogs like best to | generated text: the TartA Bull<eos>do not hart to her by and a Currier stood with it and heard the water.<eos><eos>“Can you swim\n",
            "\n",
            "\n",
            "Greedy decoding\n",
            "Sample prompt: THERE were once some Frogs who lived together | generated text: in the water.<eos><eos>“What good lay, but that was only beak, and a Weasel caught in the tail.”<eos><eos>“No, thank\n",
            "\n",
            "Random decoding\n",
            "Sample prompt: THERE were once some Frogs who lived together | generated text: in the bank.<eos><eos><eos><eos><eos>THE APASTING, AND ALD WALFLY MULES<eos><eos><eos>A PLISERAHIDID once made a other onap before t\n",
            "\n",
            "\n",
            "Greedy decoding\n",
            "Sample prompt: THE WOMAN AND HER HEN | generated text: <eos><eos>A WOMAN had a Hen that no one who had been the dinner of the water, became friends<eos>when he began t\n",
            "\n",
            "Random decoding\n",
            "Sample prompt: THE WOMAN AND HER HEN | generated text: <eos><eos>A WOMAN had a beast as they came to that which the dining room was made a handle to his ress.<eos><eos>He \n",
            "\n",
            "Training Loss: 0.3160240650177002, \n",
            " Training perplexity: 1.3716632643295985\n",
            "___________________________________________________________________________\n",
            "EPOCH: 41\n",
            "Total Steps: 440\n",
            "___________________________________________________________________________\n"
          ]
        },
        {
          "output_type": "stream",
          "name": "stderr",
          "text": [
            "100%|██████████| 11/11 [00:06<00:00,  1.83it/s]\n"
          ]
        },
        {
          "output_type": "stream",
          "name": "stdout",
          "text": [
            "Training Loss: 0.29525523565032263, \n",
            " Training perplexity: 1.3434692161687665\n",
            "___________________________________________________________________________\n",
            "EPOCH: 42\n",
            "Total Steps: 451\n",
            "___________________________________________________________________________\n"
          ]
        },
        {
          "output_type": "stream",
          "name": "stderr",
          "text": [
            "100%|██████████| 11/11 [00:05<00:00,  1.84it/s]\n"
          ]
        },
        {
          "output_type": "stream",
          "name": "stdout",
          "text": [
            "Training Loss: 0.2618998478759419, \n",
            " Training perplexity: 1.2993963986030868\n",
            "___________________________________________________________________________\n",
            "EPOCH: 43\n",
            "Total Steps: 462\n",
            "___________________________________________________________________________\n"
          ]
        },
        {
          "output_type": "stream",
          "name": "stderr",
          "text": [
            "100%|██████████| 11/11 [00:05<00:00,  1.83it/s]\n"
          ]
        },
        {
          "output_type": "stream",
          "name": "stdout",
          "text": [
            "Training Loss: 0.23606735196980563, \n",
            " Training perplexity: 1.266259592372717\n",
            "___________________________________________________________________________\n",
            "EPOCH: 44\n",
            "Total Steps: 473\n",
            "___________________________________________________________________________\n"
          ]
        },
        {
          "output_type": "stream",
          "name": "stderr",
          "text": [
            "100%|██████████| 11/11 [00:05<00:00,  1.83it/s]\n"
          ]
        },
        {
          "output_type": "stream",
          "name": "stdout",
          "text": [
            "Training Loss: 0.21783268722620877, \n",
            " Training perplexity: 1.2433790170225743\n",
            "___________________________________________________________________________\n",
            "EPOCH: 45\n",
            "Total Steps: 484\n",
            "___________________________________________________________________________\n"
          ]
        },
        {
          "output_type": "stream",
          "name": "stderr",
          "text": [
            "100%|██████████| 11/11 [00:05<00:00,  1.84it/s]\n"
          ]
        },
        {
          "output_type": "stream",
          "name": "stdout",
          "text": [
            "Training Loss: 0.19976684992963617, \n",
            " Training perplexity: 1.2211180212156714\n",
            "___________________________________________________________________________\n",
            "EPOCH: 46\n",
            "Total Steps: 495\n",
            "___________________________________________________________________________\n"
          ]
        },
        {
          "output_type": "stream",
          "name": "stderr",
          "text": [
            "100%|██████████| 11/11 [00:05<00:00,  1.84it/s]\n"
          ]
        },
        {
          "output_type": "stream",
          "name": "stdout",
          "text": [
            "Training Loss: 0.1782458871603012, \n",
            " Training perplexity: 1.1951191495629214\n",
            "___________________________________________________________________________\n",
            "EPOCH: 47\n",
            "Total Steps: 506\n",
            "___________________________________________________________________________\n"
          ]
        },
        {
          "output_type": "stream",
          "name": "stderr",
          "text": [
            "100%|██████████| 11/11 [00:05<00:00,  1.85it/s]\n"
          ]
        },
        {
          "output_type": "stream",
          "name": "stdout",
          "text": [
            "Training Loss: 0.15744233741001648, \n",
            " Training perplexity: 1.1705132612094418\n",
            "___________________________________________________________________________\n",
            "EPOCH: 48\n",
            "Total Steps: 517\n",
            "___________________________________________________________________________\n"
          ]
        },
        {
          "output_type": "stream",
          "name": "stderr",
          "text": [
            "100%|██████████| 11/11 [00:05<00:00,  1.84it/s]\n"
          ]
        },
        {
          "output_type": "stream",
          "name": "stdout",
          "text": [
            "Training Loss: 0.14476064050739462, \n",
            " Training perplexity: 1.1557628943368767\n",
            "___________________________________________________________________________\n",
            "EPOCH: 49\n",
            "Total Steps: 528\n",
            "___________________________________________________________________________\n"
          ]
        },
        {
          "output_type": "stream",
          "name": "stderr",
          "text": [
            "100%|██████████| 11/11 [00:05<00:00,  1.84it/s]\n"
          ]
        },
        {
          "output_type": "stream",
          "name": "stdout",
          "text": [
            "Training Loss: 0.1301800933751193, \n",
            " Training perplexity: 1.1390334972411307\n",
            "___________________________________________________________________________\n",
            "EPOCH: 50\n",
            "Total Steps: 539\n",
            "___________________________________________________________________________\n"
          ]
        },
        {
          "output_type": "stream",
          "name": "stderr",
          "text": [
            "100%|██████████| 11/11 [00:06<00:00,  1.83it/s]\n"
          ]
        },
        {
          "output_type": "stream",
          "name": "stdout",
          "text": [
            "\n",
            "Greedy decoding\n",
            "Sample prompt: Dogs like best to | generated text: eat at him,<eos>and greedy as to be as desperate as great candbed to be stickeny accepted in the<eos>water. \n",
            "\n",
            "Random decoding\n",
            "Sample prompt: Dogs like best to | generated text: amuse himself at time that was glad at the original Oak. Great returns<eos>or emplieated for this eyes<eos>a\n",
            "\n",
            "\n",
            "Greedy decoding\n",
            "Sample prompt: THERE were once some Frogs who lived together | generated text: in<eos>the collection are in the command<eos>of the river. As the water carried it away remedy about<eos>firm. T\n",
            "\n",
            "Random decoding\n",
            "Sample prompt: THERE were once some Frogs who lived together | generated text: in<eos>the Ants was drowned.<eos><eos>The hogs as served a stickane dawned, and knew he away from him to<eos>spring \n",
            "\n",
            "\n",
            "Greedy decoding\n",
            "Sample prompt: THE WOMAN AND HER HEN | generated text: <eos><eos>A THRIFTY Woman kept a Hen that could be still to itself of<eos>avainsanguagand to consider what could\n",
            "\n",
            "Random decoding\n",
            "Sample prompt: THE WOMAN AND HER HEN | generated text: <eos><eos>A THRIFTLY to Rode, speeciled the ax that to consider what could be<eos>defense.<eos><eos>Hearing Dog         \n",
            "\n",
            "Training Loss: 0.11900237473574551, \n",
            " Training perplexity: 1.1263725931224366\n",
            "___________________________________________________________________________\n",
            "EPOCH: 51\n",
            "Total Steps: 550\n",
            "___________________________________________________________________________\n"
          ]
        },
        {
          "output_type": "stream",
          "name": "stderr",
          "text": [
            "100%|██████████| 11/11 [00:06<00:00,  1.83it/s]\n"
          ]
        },
        {
          "output_type": "stream",
          "name": "stdout",
          "text": [
            "Training Loss: 0.11151364784349095, \n",
            " Training perplexity: 1.1179690017673767\n",
            "___________________________________________________________________________\n",
            "EPOCH: 52\n",
            "Total Steps: 561\n",
            "___________________________________________________________________________\n"
          ]
        },
        {
          "output_type": "stream",
          "name": "stderr",
          "text": [
            "100%|██████████| 11/11 [00:05<00:00,  1.85it/s]\n"
          ]
        },
        {
          "output_type": "stream",
          "name": "stdout",
          "text": [
            "Training Loss: 0.09307985414158214, \n",
            " Training perplexity: 1.0975493756320476\n",
            "___________________________________________________________________________\n",
            "EPOCH: 53\n",
            "Total Steps: 572\n",
            "___________________________________________________________________________\n"
          ]
        },
        {
          "output_type": "stream",
          "name": "stderr",
          "text": [
            "100%|██████████| 11/11 [00:05<00:00,  1.84it/s]\n"
          ]
        },
        {
          "output_type": "stream",
          "name": "stdout",
          "text": [
            "Training Loss: 0.08056241070682352, \n",
            " Training perplexity: 1.0838964912774982\n",
            "___________________________________________________________________________\n",
            "EPOCH: 54\n",
            "Total Steps: 583\n",
            "___________________________________________________________________________\n"
          ]
        },
        {
          "output_type": "stream",
          "name": "stderr",
          "text": [
            "100%|██████████| 11/11 [00:05<00:00,  1.85it/s]\n"
          ]
        },
        {
          "output_type": "stream",
          "name": "stdout",
          "text": [
            "Training Loss: 0.06770942156965082, \n",
            " Training perplexity: 1.0700543285917483\n",
            "___________________________________________________________________________\n",
            "EPOCH: 55\n",
            "Total Steps: 594\n",
            "___________________________________________________________________________\n"
          ]
        },
        {
          "output_type": "stream",
          "name": "stderr",
          "text": [
            "100%|██████████| 11/11 [00:05<00:00,  1.84it/s]\n"
          ]
        },
        {
          "output_type": "stream",
          "name": "stdout",
          "text": [
            "Training Loss: 0.055899836122989655, \n",
            " Training perplexity: 1.0574917559574482\n",
            "___________________________________________________________________________\n",
            "EPOCH: 56\n",
            "Total Steps: 605\n",
            "___________________________________________________________________________\n"
          ]
        },
        {
          "output_type": "stream",
          "name": "stderr",
          "text": [
            "100%|██████████| 11/11 [00:05<00:00,  1.85it/s]\n"
          ]
        },
        {
          "output_type": "stream",
          "name": "stdout",
          "text": [
            "Training Loss: 0.045805785804986954, \n",
            " Training perplexity: 1.0468710739891962\n",
            "___________________________________________________________________________\n",
            "EPOCH: 57\n",
            "Total Steps: 616\n",
            "___________________________________________________________________________\n"
          ]
        },
        {
          "output_type": "stream",
          "name": "stderr",
          "text": [
            "100%|██████████| 11/11 [00:05<00:00,  1.85it/s]\n"
          ]
        },
        {
          "output_type": "stream",
          "name": "stdout",
          "text": [
            "Training Loss: 0.040103873068636116, \n",
            " Training perplexity: 1.040918892016541\n",
            "___________________________________________________________________________\n",
            "EPOCH: 58\n",
            "Total Steps: 627\n",
            "___________________________________________________________________________\n"
          ]
        },
        {
          "output_type": "stream",
          "name": "stderr",
          "text": [
            "100%|██████████| 11/11 [00:05<00:00,  1.84it/s]\n"
          ]
        },
        {
          "output_type": "stream",
          "name": "stdout",
          "text": [
            "Training Loss: 0.03641099431975321, \n",
            " Training perplexity: 1.0370819937214175\n",
            "___________________________________________________________________________\n",
            "EPOCH: 59\n",
            "Total Steps: 638\n",
            "___________________________________________________________________________\n"
          ]
        },
        {
          "output_type": "stream",
          "name": "stderr",
          "text": [
            "100%|██████████| 11/11 [00:05<00:00,  1.84it/s]\n"
          ]
        },
        {
          "output_type": "stream",
          "name": "stdout",
          "text": [
            "Training Loss: 0.035148761827837334, \n",
            " Training perplexity: 1.0357737809401912\n",
            "___________________________________________________________________________\n",
            "EPOCH: 60\n",
            "Total Steps: 649\n",
            "___________________________________________________________________________\n"
          ]
        },
        {
          "output_type": "stream",
          "name": "stderr",
          "text": [
            "100%|██████████| 11/11 [00:05<00:00,  1.85it/s]\n"
          ]
        },
        {
          "output_type": "stream",
          "name": "stdout",
          "text": [
            "\n",
            "Greedy decoding\n",
            "Sample prompt: Dogs like best to | generated text: eat at home. And you will get them<eos>easily.”<eos><eos><eos><eos><eos>THE MISER<eos><eos><eos>A MISER who had buried a lump of gold in\n",
            "\n",
            "Random decoding\n",
            "Sample prompt: Dogs like best to | generated text: ear about noisela<eos>providing to be acceptaly together.<eos><eos>They were a lot of the food which his friends\n",
            "\n",
            "\n",
            "Greedy decoding\n",
            "Sample prompt: THERE were once some Frogs who lived together | generated text: in perfect security in a<eos>beautiful lake. They were a large company, and were very comfortable,<eos>but t\n",
            "\n",
            "Random decoding\n",
            "Sample prompt: THERE were once some Frogs who lived together | generated text: in perfect mean.<eos><eos>The Argodes and the Hen grew very fat and sleek; but she<eos>forgot to elect a Fine wa\n",
            "\n",
            "\n",
            "Greedy decoding\n",
            "Sample prompt: THE WOMAN AND HER HEN | generated text: <eos><eos>A THRIFTY Woman kept a Hen that could be depended on to lay an egg<eos>every morning. The watchful Wom\n",
            "\n",
            "Random decoding\n",
            "Sample prompt: THE WOMAN AND HER HEN | generated text: <eos><eos>A THRIFTY Woman kept a Hen that could be depended on to lay an egg<eos>every morning. The watchful AND\n",
            "\n",
            "Training Loss: 0.03061210618100383, \n",
            " Training perplexity: 1.0310854746246358\n",
            "___________________________________________________________________________\n",
            "EPOCH: 61\n",
            "Total Steps: 660\n",
            "___________________________________________________________________________\n"
          ]
        },
        {
          "output_type": "stream",
          "name": "stderr",
          "text": [
            "100%|██████████| 11/11 [00:05<00:00,  1.86it/s]\n"
          ]
        },
        {
          "output_type": "stream",
          "name": "stdout",
          "text": [
            "Training Loss: 0.027635549449107864, \n",
            " Training perplexity: 1.0280209533373255\n",
            "___________________________________________________________________________\n",
            "EPOCH: 62\n",
            "Total Steps: 671\n",
            "___________________________________________________________________________\n"
          ]
        },
        {
          "output_type": "stream",
          "name": "stderr",
          "text": [
            "100%|██████████| 11/11 [00:05<00:00,  1.86it/s]\n"
          ]
        },
        {
          "output_type": "stream",
          "name": "stdout",
          "text": [
            "Training Loss: 0.023981252685189247, \n",
            " Training perplexity: 1.0242711153775728\n",
            "___________________________________________________________________________\n",
            "EPOCH: 63\n",
            "Total Steps: 682\n",
            "___________________________________________________________________________\n"
          ]
        },
        {
          "output_type": "stream",
          "name": "stderr",
          "text": [
            "100%|██████████| 11/11 [00:05<00:00,  1.85it/s]\n"
          ]
        },
        {
          "output_type": "stream",
          "name": "stdout",
          "text": [
            "Training Loss: 0.021356963298537514, \n",
            " Training perplexity: 1.0215866555008477\n",
            "___________________________________________________________________________\n",
            "EPOCH: 64\n",
            "Total Steps: 693\n",
            "___________________________________________________________________________\n"
          ]
        },
        {
          "output_type": "stream",
          "name": "stderr",
          "text": [
            "100%|██████████| 11/11 [00:05<00:00,  1.86it/s]\n"
          ]
        },
        {
          "output_type": "stream",
          "name": "stdout",
          "text": [
            "Training Loss: 0.019896251742135395, \n",
            " Training perplexity: 1.020095501405438\n",
            "___________________________________________________________________________\n",
            "EPOCH: 65\n",
            "Total Steps: 704\n",
            "___________________________________________________________________________\n"
          ]
        },
        {
          "output_type": "stream",
          "name": "stderr",
          "text": [
            "100%|██████████| 11/11 [00:05<00:00,  1.86it/s]\n"
          ]
        },
        {
          "output_type": "stream",
          "name": "stdout",
          "text": [
            "Training Loss: 0.01767748585817489, \n",
            " Training perplexity: 1.0178346573778334\n",
            "___________________________________________________________________________\n",
            "EPOCH: 66\n",
            "Total Steps: 715\n",
            "___________________________________________________________________________\n"
          ]
        },
        {
          "output_type": "stream",
          "name": "stderr",
          "text": [
            "100%|██████████| 11/11 [00:05<00:00,  1.84it/s]\n"
          ]
        },
        {
          "output_type": "stream",
          "name": "stdout",
          "text": [
            "Training Loss: 0.016597446562214332, \n",
            " Training perplexity: 1.0167359493817822\n",
            "___________________________________________________________________________\n",
            "EPOCH: 67\n",
            "Total Steps: 726\n",
            "___________________________________________________________________________\n"
          ]
        },
        {
          "output_type": "stream",
          "name": "stderr",
          "text": [
            "100%|██████████| 11/11 [00:05<00:00,  1.86it/s]\n"
          ]
        },
        {
          "output_type": "stream",
          "name": "stdout",
          "text": [
            "Training Loss: 0.016361320729960094, \n",
            " Training perplexity: 1.016495900101585\n",
            "___________________________________________________________________________\n",
            "EPOCH: 68\n",
            "Total Steps: 737\n",
            "___________________________________________________________________________\n"
          ]
        },
        {
          "output_type": "stream",
          "name": "stderr",
          "text": [
            "100%|██████████| 11/11 [00:05<00:00,  1.84it/s]\n"
          ]
        },
        {
          "output_type": "stream",
          "name": "stdout",
          "text": [
            "Training Loss: 0.015405807051468979, \n",
            " Training perplexity: 1.0155250882507723\n",
            "___________________________________________________________________________\n",
            "EPOCH: 69\n",
            "Total Steps: 748\n",
            "___________________________________________________________________________\n"
          ]
        },
        {
          "output_type": "stream",
          "name": "stderr",
          "text": [
            "100%|██████████| 11/11 [00:05<00:00,  1.85it/s]\n"
          ]
        },
        {
          "output_type": "stream",
          "name": "stdout",
          "text": [
            "Training Loss: 0.01482875653627244, \n",
            " Training perplexity: 1.0149392480213617\n",
            "___________________________________________________________________________\n",
            "EPOCH: 70\n",
            "Total Steps: 759\n",
            "___________________________________________________________________________\n"
          ]
        },
        {
          "output_type": "stream",
          "name": "stderr",
          "text": [
            "100%|██████████| 11/11 [00:05<00:00,  1.85it/s]\n"
          ]
        },
        {
          "output_type": "stream",
          "name": "stdout",
          "text": [
            "\n",
            "Greedy decoding\n",
            "Sample prompt: Dogs like best to | generated text: eat at home, and<eos>he was not a Frog left in the lake. Petrible drinking, let me<eos>ask how you expect to\n",
            "\n",
            "Random decoding\n",
            "Sample prompt: Dogs like best to | generated text: eat at home, and he<eos>ground, and a Wolf with his new don’t blow out. Know that<eos>not even the stars nee\n",
            "\n",
            "\n",
            "Greedy decoding\n",
            "Sample prompt: THERE were once some Frogs who lived together | generated text: in perfect security in a<eos>beautiful lake. They were a large company, and were very comfortable,<eos>but t\n",
            "\n",
            "Random decoding\n",
            "Sample prompt: THERE were once some Frogs who lived together | generated text: in perfect<eos>station in the world’s literature, and the titles have been<eos>chosen for their genuine appe\n",
            "\n",
            "\n",
            "Greedy decoding\n",
            "Sample prompt: THE WOMAN AND HER HEN | generated text: <eos><eos>A WOMAN had a Hen that laid an egg every day. The eggs were large, and<eos>sold for a good price. The \n",
            "\n",
            "Random decoding\n",
            "Sample prompt: THE WOMAN AND HER HEN | generated text: <eos><eos>A MOTHER danger in it it to the other format used in the official Project Gutenberg-tm<eos><eos>Project Gu\n",
            "\n",
            "Training Loss: 0.014682902531190352, \n",
            " Training perplexity: 1.0147912258621976\n",
            "___________________________________________________________________________\n",
            "EPOCH: 71\n",
            "Total Steps: 770\n",
            "___________________________________________________________________________\n"
          ]
        },
        {
          "output_type": "stream",
          "name": "stderr",
          "text": [
            "100%|██████████| 11/11 [00:05<00:00,  1.84it/s]\n"
          ]
        },
        {
          "output_type": "stream",
          "name": "stdout",
          "text": [
            "Training Loss: 0.01589966370639476, \n",
            " Training perplexity: 1.0160267359346769\n",
            "___________________________________________________________________________\n",
            "EPOCH: 72\n",
            "Total Steps: 781\n",
            "___________________________________________________________________________\n"
          ]
        },
        {
          "output_type": "stream",
          "name": "stderr",
          "text": [
            "100%|██████████| 11/11 [00:05<00:00,  1.84it/s]\n"
          ]
        },
        {
          "output_type": "stream",
          "name": "stdout",
          "text": [
            "Training Loss: 0.0158264593813907, \n",
            " Training perplexity: 1.0159523611055994\n",
            "___________________________________________________________________________\n",
            "EPOCH: 73\n",
            "Total Steps: 792\n",
            "___________________________________________________________________________\n"
          ]
        },
        {
          "output_type": "stream",
          "name": "stderr",
          "text": [
            "100%|██████████| 11/11 [00:05<00:00,  1.84it/s]\n"
          ]
        },
        {
          "output_type": "stream",
          "name": "stdout",
          "text": [
            "Training Loss: 0.015834820541468533, \n",
            " Training perplexity: 1.0159608556814343\n",
            "___________________________________________________________________________\n",
            "EPOCH: 74\n",
            "Total Steps: 803\n",
            "___________________________________________________________________________\n"
          ]
        },
        {
          "output_type": "stream",
          "name": "stderr",
          "text": [
            "100%|██████████| 11/11 [00:05<00:00,  1.83it/s]\n"
          ]
        },
        {
          "output_type": "stream",
          "name": "stdout",
          "text": [
            "Training Loss: 0.014655256389894268, \n",
            " Training perplexity: 1.0147631711883849\n",
            "___________________________________________________________________________\n",
            "EPOCH: 75\n",
            "Total Steps: 814\n",
            "___________________________________________________________________________\n"
          ]
        },
        {
          "output_type": "stream",
          "name": "stderr",
          "text": [
            "100%|██████████| 11/11 [00:06<00:00,  1.83it/s]\n"
          ]
        },
        {
          "output_type": "stream",
          "name": "stdout",
          "text": [
            "Training Loss: 0.013588251122696833, \n",
            " Training perplexity: 1.0136809909884275\n",
            "___________________________________________________________________________\n",
            "EPOCH: 76\n",
            "Total Steps: 825\n",
            "___________________________________________________________________________\n"
          ]
        },
        {
          "output_type": "stream",
          "name": "stderr",
          "text": [
            "100%|██████████| 11/11 [00:05<00:00,  1.84it/s]\n"
          ]
        },
        {
          "output_type": "stream",
          "name": "stdout",
          "text": [
            "Training Loss: 0.013531879352574999, \n",
            " Training perplexity: 1.013623849607222\n",
            "___________________________________________________________________________\n",
            "EPOCH: 77\n",
            "Total Steps: 836\n",
            "___________________________________________________________________________\n"
          ]
        },
        {
          "output_type": "stream",
          "name": "stderr",
          "text": [
            "100%|██████████| 11/11 [00:06<00:00,  1.83it/s]\n"
          ]
        },
        {
          "output_type": "stream",
          "name": "stdout",
          "text": [
            "Training Loss: 0.013684585605832663, \n",
            " Training perplexity: 1.0137786481265583\n",
            "___________________________________________________________________________\n",
            "EPOCH: 78\n",
            "Total Steps: 847\n",
            "___________________________________________________________________________\n"
          ]
        },
        {
          "output_type": "stream",
          "name": "stderr",
          "text": [
            "100%|██████████| 11/11 [00:05<00:00,  1.83it/s]\n"
          ]
        },
        {
          "output_type": "stream",
          "name": "stdout",
          "text": [
            "Training Loss: 0.012998961166224697, \n",
            " Training perplexity: 1.0130838149335784\n",
            "___________________________________________________________________________\n",
            "EPOCH: 79\n",
            "Total Steps: 858\n",
            "___________________________________________________________________________\n"
          ]
        },
        {
          "output_type": "stream",
          "name": "stderr",
          "text": [
            "100%|██████████| 11/11 [00:05<00:00,  1.84it/s]\n"
          ]
        },
        {
          "output_type": "stream",
          "name": "stdout",
          "text": [
            "Training Loss: 0.012450266121463343, \n",
            " Training perplexity: 1.0125280933391814\n",
            "___________________________________________________________________________\n",
            "EPOCH: 80\n",
            "Total Steps: 869\n",
            "___________________________________________________________________________\n"
          ]
        },
        {
          "output_type": "stream",
          "name": "stderr",
          "text": [
            "100%|██████████| 11/11 [00:05<00:00,  1.83it/s]\n"
          ]
        },
        {
          "output_type": "stream",
          "name": "stdout",
          "text": [
            "\n",
            "Greedy decoding\n",
            "Sample prompt: Dogs like best to | generated text: eat at home. “Why do you make<eos>see my sight,” said the Boar, “it is time to think of<eos>something else.”\n",
            "\n",
            "Random decoding\n",
            "Sample prompt: Dogs like best to | generated text: hearts haym.<eos><eos>On their ard saddle, and the Ant was overjoyed to think he had<eos>beast, and Hound the Ma\n",
            "\n",
            "\n",
            "Greedy decoding\n",
            "Sample prompt: THERE were once some Frogs who lived together | generated text: in the<eos>ground. Another Weasel came out of his hole and caught him.<eos><eos>“Pray don’t kill me,” said the B\n",
            "\n",
            "Random decoding\n",
            "Sample prompt: THERE were once some Frogs who lived together | generated text: in the<eos>gra_faces to the hole.<eos><eos>“Look home!” said the most more part of this help proceeded to inaval\n",
            "\n",
            "\n",
            "Greedy decoding\n",
            "Sample prompt: THE WOMAN AND HER HEN | generated text: <eos><eos>A WOMAN had a Hen that laid an egg every day. The eggs were large, and<eos>sold for a good price. The \n",
            "\n",
            "Random decoding\n",
            "Sample prompt: THE WOMAN AND HER HEN | generated text: <eos><eos>A WOMAN had a Hen that laid an egg every day. The eggs were large, and<eos>sold for a good price. The \n",
            "\n",
            "Training Loss: 0.012701098807156086, \n",
            " Training perplexity: 1.0127821003354698\n",
            "___________________________________________________________________________\n",
            "EPOCH: 81\n",
            "Total Steps: 880\n",
            "___________________________________________________________________________\n"
          ]
        },
        {
          "output_type": "stream",
          "name": "stderr",
          "text": [
            "100%|██████████| 11/11 [00:06<00:00,  1.83it/s]\n"
          ]
        },
        {
          "output_type": "stream",
          "name": "stdout",
          "text": [
            "Training Loss: 0.012228052639825777, \n",
            " Training perplexity: 1.01230312094318\n",
            "___________________________________________________________________________\n",
            "EPOCH: 82\n",
            "Total Steps: 891\n",
            "___________________________________________________________________________\n"
          ]
        },
        {
          "output_type": "stream",
          "name": "stderr",
          "text": [
            "100%|██████████| 11/11 [00:06<00:00,  1.82it/s]\n"
          ]
        },
        {
          "output_type": "stream",
          "name": "stdout",
          "text": [
            "Training Loss: 0.01126992812549526, \n",
            " Training perplexity: 1.0113336730071505\n",
            "___________________________________________________________________________\n",
            "EPOCH: 83\n",
            "Total Steps: 902\n",
            "___________________________________________________________________________\n"
          ]
        },
        {
          "output_type": "stream",
          "name": "stderr",
          "text": [
            "100%|██████████| 11/11 [00:06<00:00,  1.83it/s]\n"
          ]
        },
        {
          "output_type": "stream",
          "name": "stdout",
          "text": [
            "Training Loss: 0.009960374583236196, \n",
            " Training perplexity: 1.0100101442183116\n",
            "___________________________________________________________________________\n",
            "EPOCH: 84\n",
            "Total Steps: 913\n",
            "___________________________________________________________________________\n"
          ]
        },
        {
          "output_type": "stream",
          "name": "stderr",
          "text": [
            "100%|██████████| 11/11 [00:06<00:00,  1.83it/s]\n"
          ]
        },
        {
          "output_type": "stream",
          "name": "stdout",
          "text": [
            "Training Loss: 0.00876977624879642, \n",
            " Training perplexity: 1.008808343395832\n",
            "___________________________________________________________________________\n",
            "EPOCH: 85\n",
            "Total Steps: 924\n",
            "___________________________________________________________________________\n"
          ]
        },
        {
          "output_type": "stream",
          "name": "stderr",
          "text": [
            "100%|██████████| 11/11 [00:06<00:00,  1.83it/s]\n"
          ]
        },
        {
          "output_type": "stream",
          "name": "stdout",
          "text": [
            "Training Loss: 0.008192753080617298, \n",
            " Training perplexity: 1.0082264055214047\n",
            "___________________________________________________________________________\n",
            "EPOCH: 86\n",
            "Total Steps: 935\n",
            "___________________________________________________________________________\n"
          ]
        },
        {
          "output_type": "stream",
          "name": "stderr",
          "text": [
            "100%|██████████| 11/11 [00:06<00:00,  1.81it/s]\n"
          ]
        },
        {
          "output_type": "stream",
          "name": "stdout",
          "text": [
            "Training Loss: 0.007824167312884872, \n",
            " Training perplexity: 1.0078548560957992\n",
            "___________________________________________________________________________\n",
            "EPOCH: 87\n",
            "Total Steps: 946\n",
            "___________________________________________________________________________\n"
          ]
        },
        {
          "output_type": "stream",
          "name": "stderr",
          "text": [
            "100%|██████████| 11/11 [00:06<00:00,  1.83it/s]\n"
          ]
        },
        {
          "output_type": "stream",
          "name": "stdout",
          "text": [
            "Training Loss: 0.00798238284716552, \n",
            " Training perplexity: 1.0080143270053885\n",
            "___________________________________________________________________________\n",
            "EPOCH: 88\n",
            "Total Steps: 957\n",
            "___________________________________________________________________________\n"
          ]
        },
        {
          "output_type": "stream",
          "name": "stderr",
          "text": [
            "100%|██████████| 11/11 [00:06<00:00,  1.83it/s]\n"
          ]
        },
        {
          "output_type": "stream",
          "name": "stdout",
          "text": [
            "Training Loss: 0.007143624169244008, \n",
            " Training perplexity: 1.0071692007191935\n",
            "___________________________________________________________________________\n",
            "EPOCH: 89\n",
            "Total Steps: 968\n",
            "___________________________________________________________________________\n"
          ]
        },
        {
          "output_type": "stream",
          "name": "stderr",
          "text": [
            "100%|██████████| 11/11 [00:05<00:00,  1.84it/s]\n"
          ]
        },
        {
          "output_type": "stream",
          "name": "stdout",
          "text": [
            "Training Loss: 0.006249055139381777, \n",
            " Training perplexity: 1.0062686212197214\n",
            "___________________________________________________________________________\n",
            "EPOCH: 90\n",
            "Total Steps: 979\n",
            "___________________________________________________________________________\n"
          ]
        },
        {
          "output_type": "stream",
          "name": "stderr",
          "text": [
            "100%|██████████| 11/11 [00:06<00:00,  1.82it/s]\n"
          ]
        },
        {
          "output_type": "stream",
          "name": "stdout",
          "text": [
            "\n",
            "Greedy decoding\n",
            "Sample prompt: Dogs like best to | generated text: eat at home. “I have been appointed Nightingale to<eos>these woods, and yet the birds dare laugh at my s\n",
            "\n",
            "Random decoding\n",
            "Sample prompt: Dogs like best to | generated text: eat another.<eos><eos><eos><eos><eos>THE BOAR AND THE FOX<eos><eos><eos>A BOAR stood whetting his tusks against a tree.<eos><eos>“What do yo\n",
            "\n",
            "\n",
            "Greedy decoding\n",
            "Sample prompt: THERE were once some Frogs who lived together | generated text: in perfect security in a<eos>beautiful lake. They were a large company, and were very comfortable,<eos>but t\n",
            "\n",
            "Random decoding\n",
            "Sample prompt: THERE were once some Frogs who lived together | generated text: in<eos>the obtaining for his life.<eos><eos>In most piteous tones the Mouse said: “Do not eat me. I meant no har\n",
            "\n",
            "\n",
            "Greedy decoding\n",
            "Sample prompt: THE WOMAN AND HER HEN | generated text: <eos><eos>A WOMAN had a Hen that laid an egg every day. The eggs were large, and<eos>sold for a good price. The \n",
            "\n",
            "Random decoding\n",
            "Sample prompt: THE WOMAN AND HER HEN | generated text: <eos><eos>A WOMAN had a Hen that laid an egg every day, pending in down to the little<eos>stiff on his sheep for\n",
            "\n",
            "Training Loss: 0.006057176569646055, \n",
            " Training perplexity: 1.0060755583588168\n",
            "___________________________________________________________________________\n",
            "EPOCH: 91\n",
            "Total Steps: 990\n",
            "___________________________________________________________________________\n"
          ]
        },
        {
          "output_type": "stream",
          "name": "stderr",
          "text": [
            "100%|██████████| 11/11 [00:05<00:00,  1.85it/s]\n"
          ]
        },
        {
          "output_type": "stream",
          "name": "stdout",
          "text": [
            "Training Loss: 0.006069232921370051, \n",
            " Training perplexity: 1.006087688032729\n",
            "___________________________________________________________________________\n",
            "EPOCH: 92\n",
            "Total Steps: 1001\n",
            "___________________________________________________________________________\n"
          ]
        },
        {
          "output_type": "stream",
          "name": "stderr",
          "text": [
            "100%|██████████| 11/11 [00:05<00:00,  1.84it/s]\n"
          ]
        },
        {
          "output_type": "stream",
          "name": "stdout",
          "text": [
            "Training Loss: 0.006697755222293464, \n",
            " Training perplexity: 1.0067202353455649\n",
            "___________________________________________________________________________\n",
            "EPOCH: 93\n",
            "Total Steps: 1012\n",
            "___________________________________________________________________________\n"
          ]
        },
        {
          "output_type": "stream",
          "name": "stderr",
          "text": [
            "100%|██████████| 11/11 [00:05<00:00,  1.84it/s]\n"
          ]
        },
        {
          "output_type": "stream",
          "name": "stdout",
          "text": [
            "Training Loss: 0.006226048889485272, \n",
            " Training perplexity: 1.0062454710186592\n",
            "___________________________________________________________________________\n",
            "EPOCH: 94\n",
            "Total Steps: 1023\n",
            "___________________________________________________________________________\n"
          ]
        },
        {
          "output_type": "stream",
          "name": "stderr",
          "text": [
            "100%|██████████| 11/11 [00:05<00:00,  1.84it/s]\n"
          ]
        },
        {
          "output_type": "stream",
          "name": "stdout",
          "text": [
            "Training Loss: 0.006246887570755048, \n",
            " Training perplexity: 1.0062664400657917\n",
            "___________________________________________________________________________\n",
            "EPOCH: 95\n",
            "Total Steps: 1034\n",
            "___________________________________________________________________________\n"
          ]
        },
        {
          "output_type": "stream",
          "name": "stderr",
          "text": [
            "100%|██████████| 11/11 [00:05<00:00,  1.85it/s]\n"
          ]
        },
        {
          "output_type": "stream",
          "name": "stdout",
          "text": [
            "Training Loss: 0.005956578407097946, \n",
            " Training perplexity: 1.0059743540968282\n",
            "___________________________________________________________________________\n",
            "EPOCH: 96\n",
            "Total Steps: 1045\n",
            "___________________________________________________________________________\n"
          ]
        },
        {
          "output_type": "stream",
          "name": "stderr",
          "text": [
            "100%|██████████| 11/11 [00:05<00:00,  1.84it/s]\n"
          ]
        },
        {
          "output_type": "stream",
          "name": "stdout",
          "text": [
            "Training Loss: 0.005873646057972854, \n",
            " Training perplexity: 1.00589092973982\n",
            "___________________________________________________________________________\n",
            "EPOCH: 97\n",
            "Total Steps: 1056\n",
            "___________________________________________________________________________\n"
          ]
        },
        {
          "output_type": "stream",
          "name": "stderr",
          "text": [
            "100%|██████████| 11/11 [00:05<00:00,  1.86it/s]\n"
          ]
        },
        {
          "output_type": "stream",
          "name": "stdout",
          "text": [
            "Training Loss: 0.005958105141127651, \n",
            " Training perplexity: 1.00597588995328\n",
            "___________________________________________________________________________\n",
            "EPOCH: 98\n",
            "Total Steps: 1067\n",
            "___________________________________________________________________________\n"
          ]
        },
        {
          "output_type": "stream",
          "name": "stderr",
          "text": [
            "100%|██████████| 11/11 [00:05<00:00,  1.85it/s]\n"
          ]
        },
        {
          "output_type": "stream",
          "name": "stdout",
          "text": [
            "Training Loss: 0.005229503297331658, \n",
            " Training perplexity: 1.0052432010167138\n",
            "___________________________________________________________________________\n",
            "EPOCH: 99\n",
            "Total Steps: 1078\n",
            "___________________________________________________________________________\n"
          ]
        },
        {
          "output_type": "stream",
          "name": "stderr",
          "text": [
            "100%|██████████| 11/11 [00:05<00:00,  1.84it/s]\n"
          ]
        },
        {
          "output_type": "stream",
          "name": "stdout",
          "text": [
            "Training Loss: 0.0051056962587277994, \n",
            " Training perplexity: 1.005118752536877\n",
            "___________________________________________________________________________\n",
            "EPOCH: 100\n",
            "Total Steps: 1089\n",
            "___________________________________________________________________________\n"
          ]
        },
        {
          "output_type": "stream",
          "name": "stderr",
          "text": [
            "100%|██████████| 11/11 [00:05<00:00,  1.85it/s]\n"
          ]
        },
        {
          "output_type": "stream",
          "name": "stdout",
          "text": [
            "\n",
            "Greedy decoding\n",
            "Sample prompt: Dogs like best to | generated text: eat at home. “I have found nothing to be wary my brook<eos>and was my could only lick the brim for the b\n",
            "\n",
            "Random decoding\n",
            "Sample prompt: Dogs like best to | generated text: eat out.<eos><eos>“My dear friend,” said the Wolf, “be careful! I am afraid you will fall<eos>and break your not\n",
            "\n",
            "\n",
            "Greedy decoding\n",
            "Sample prompt: THERE were once some Frogs who lived together | generated text: in perfect security in a<eos>beautiful lake. They were a large company, and were very comfortable,<eos>but t\n",
            "\n",
            "Random decoding\n",
            "Sample prompt: THERE were once some Frogs who lived together | generated text: in perfect security in a<eos>beautiful lake. They were a large company, and were very comfortable,<eos>but t\n",
            "\n",
            "\n",
            "Greedy decoding\n",
            "Sample prompt: THE WOMAN AND HER HEN | generated text: <eos><eos>A WOMAN had a Hen that laid an egg every day. The eggs were large, and<eos>sold for a good price. The \n",
            "\n",
            "Random decoding\n",
            "Sample prompt: THE WOMAN AND HER HEN | generated text: <eos><eos>A WOMAN had a Hen that laid an egg every day. The eggs were large, and<eos>sold for a good price. The \n",
            "\n",
            "Training Loss: 0.00526842593469403, \n",
            " Training perplexity: 1.0052823284947552\n"
          ]
        },
        {
          "output_type": "display_data",
          "data": {
            "text/plain": [
              "<Figure size 432x288 with 1 Axes>"
            ],
            "image/png": "[encoded data removed]"
          },
          "metadata": {
            "needs_background": "light"
          }
        },
        {
          "output_type": "display_data",
          "data": {
            "text/plain": [
              "<Figure size 432x288 with 1 Axes>"
            ],
            "image/png": "[encoded data removed]"
          },
          "metadata": {
            "needs_background": "light"
          }
        }
      ],
      "source": [
        "fable_samples = ['Dogs like best to', 'THERE were once some Frogs who lived together', 'THE WOMAN AND HER HEN']\n",
        "get_fables()\n",
        "PATH = book_path\n",
        "trainer = Trainer(model_parameters = model_parameters, path = PATH, bptt_len = BPTT_LEN, samples = fable_samples)\n",
        "print(f\"Training on data from: {PATH}\")\n",
        "print(\"Fable Analysis\")\n",
        "counter(PATH)\n",
        "print(\"Vocab Count: \", len(trainer.train_field.vocab))\n",
        "print(\"Count: \", len(trainer.bptt_iterator))\n",
        "fable_model = trainer.train_model(num_epochs=100)\n",
        "torch.save(fable_model.state_dict(), 'fable_model.pt')"
      ]
    },
    {
      "cell_type": "code",
      "execution_count": 7,
      "metadata": {
        "id": "pSfdOw1FGFUy",
        "outputId": "4172a8c4-2515-4527-e0d9-7a3006fe2990",
        "colab": {
          "base_uri": "https://localhost:8080/",
          "height": 1000
        }
      },
      "outputs": [
        {
          "output_type": "stream",
          "name": "stdout",
          "text": [
            "Word Count:  1785\n",
            "Line Count:  1785\n",
            "Char Count:  212573\n",
            "Sentence Count:  4852\n",
            "Vocab Count:  86\n",
            "Count:  16\n",
            "___________________________________________________________________________\n",
            "EPOCH: 1\n",
            "Total Steps: 0\n",
            "___________________________________________________________________________\n"
          ]
        },
        {
          "output_type": "stream",
          "name": "stderr",
          "text": [
            "100%|██████████| 16/16 [00:08<00:00,  1.85it/s]\n"
          ]
        },
        {
          "output_type": "stream",
          "name": "stdout",
          "text": [
            "Training Loss: 3.2571451514959335, \n",
            " Training perplexity: 25.975275713377215\n",
            "___________________________________________________________________________\n",
            "EPOCH: 2\n",
            "Total Steps: 16\n",
            "___________________________________________________________________________\n"
          ]
        },
        {
          "output_type": "stream",
          "name": "stderr",
          "text": [
            "100%|██████████| 16/16 [00:08<00:00,  1.84it/s]\n"
          ]
        },
        {
          "output_type": "stream",
          "name": "stdout",
          "text": [
            "Training Loss: 2.4017930030822754, \n",
            " Training perplexity: 11.042958699448073\n",
            "___________________________________________________________________________\n",
            "EPOCH: 3\n",
            "Total Steps: 32\n",
            "___________________________________________________________________________\n"
          ]
        },
        {
          "output_type": "stream",
          "name": "stderr",
          "text": [
            "100%|██████████| 16/16 [00:08<00:00,  1.84it/s]\n"
          ]
        },
        {
          "output_type": "stream",
          "name": "stdout",
          "text": [
            "Training Loss: 1.9851548224687576, \n",
            " Training perplexity: 7.280174432783706\n",
            "___________________________________________________________________________\n",
            "EPOCH: 4\n",
            "Total Steps: 48\n",
            "___________________________________________________________________________\n"
          ]
        },
        {
          "output_type": "stream",
          "name": "stderr",
          "text": [
            "100%|██████████| 16/16 [00:08<00:00,  1.85it/s]\n"
          ]
        },
        {
          "output_type": "stream",
          "name": "stdout",
          "text": [
            "Training Loss: 1.7022864744067192, \n",
            " Training perplexity: 5.486477752057189\n",
            "___________________________________________________________________________\n",
            "EPOCH: 5\n",
            "Total Steps: 64\n",
            "___________________________________________________________________________\n"
          ]
        },
        {
          "output_type": "stream",
          "name": "stderr",
          "text": [
            "100%|██████████| 16/16 [00:08<00:00,  1.84it/s]\n"
          ]
        },
        {
          "output_type": "stream",
          "name": "stdout",
          "text": [
            "Training Loss: 1.5073883086442947, \n",
            " Training perplexity: 4.514923795458787\n",
            "___________________________________________________________________________\n",
            "EPOCH: 6\n",
            "Total Steps: 80\n",
            "___________________________________________________________________________\n"
          ]
        },
        {
          "output_type": "stream",
          "name": "stderr",
          "text": [
            "100%|██████████| 16/16 [00:08<00:00,  1.82it/s]\n"
          ]
        },
        {
          "output_type": "stream",
          "name": "stdout",
          "text": [
            "Training Loss: 1.3672349900007248, \n",
            " Training perplexity: 3.9244844410209088\n",
            "___________________________________________________________________________\n",
            "EPOCH: 7\n",
            "Total Steps: 96\n",
            "___________________________________________________________________________\n"
          ]
        },
        {
          "output_type": "stream",
          "name": "stderr",
          "text": [
            "100%|██████████| 16/16 [00:08<00:00,  1.84it/s]\n"
          ]
        },
        {
          "output_type": "stream",
          "name": "stdout",
          "text": [
            "Training Loss: 1.2644379809498787, \n",
            " Training perplexity: 3.541102009960352\n",
            "___________________________________________________________________________\n",
            "EPOCH: 8\n",
            "Total Steps: 112\n",
            "___________________________________________________________________________\n"
          ]
        },
        {
          "output_type": "stream",
          "name": "stderr",
          "text": [
            "100%|██████████| 16/16 [00:08<00:00,  1.84it/s]\n"
          ]
        },
        {
          "output_type": "stream",
          "name": "stdout",
          "text": [
            "Training Loss: 1.1861360594630241, \n",
            " Training perplexity: 3.2744046276046297\n",
            "___________________________________________________________________________\n",
            "EPOCH: 9\n",
            "Total Steps: 128\n",
            "___________________________________________________________________________\n"
          ]
        },
        {
          "output_type": "stream",
          "name": "stderr",
          "text": [
            "100%|██████████| 16/16 [00:08<00:00,  1.84it/s]\n"
          ]
        },
        {
          "output_type": "stream",
          "name": "stdout",
          "text": [
            "Training Loss: 1.1239720061421394, \n",
            " Training perplexity: 3.0770520319013994\n",
            "___________________________________________________________________________\n",
            "EPOCH: 10\n",
            "Total Steps: 144\n",
            "___________________________________________________________________________\n"
          ]
        },
        {
          "output_type": "stream",
          "name": "stderr",
          "text": [
            "100%|██████████| 16/16 [00:08<00:00,  1.83it/s]\n"
          ]
        },
        {
          "output_type": "stream",
          "name": "stdout",
          "text": [
            "\n",
            "Greedy decoding\n",
            "Sample prompt: Good morning America | generated text:  people that we will be the state of the problem the world and the world and the way we will be the \n",
            "\n",
            "Random decoding\n",
            "Sample prompt: Good morning America | generated text:  Adread Washington Michiga walk about this thing, nuclup expers in the Bacmoss, and we reasons, you \n",
            "\n",
            "\n",
            "Greedy decoding\n",
            "Sample prompt: Very good | generated text: to the problem the world and the world and the way we will be the state of the problem the world and\n",
            "\n",
            "Random decoding\n",
            "Sample prompt: Very good | generated text:  We whoweven to come. Thill he swinped her want to we cut beor. We’ve been to do, unforces I could f\n",
            "\n",
            "\n",
            "Greedy decoding\n",
            "Sample prompt: Donald Trump: | generated text: (01:01:00)<eos>I said, “What we will be the state of the problem the world and the world and the way we \n",
            "\n",
            "Random decoding\n",
            "Sample prompt: Donald Trump: | generated text: (10:59)<eos>Now it’s very nimage First taxkes of door as bectar.<eos><eos>Vice President Donald J. Trump: (14:23\n",
            "\n",
            "Training Loss: 1.0694655776023865, \n",
            " Training perplexity: 2.9138218721273432\n",
            "___________________________________________________________________________\n",
            "EPOCH: 11\n",
            "Total Steps: 160\n",
            "___________________________________________________________________________\n"
          ]
        },
        {
          "output_type": "stream",
          "name": "stderr",
          "text": [
            "100%|██████████| 16/16 [00:08<00:00,  1.82it/s]\n"
          ]
        },
        {
          "output_type": "stream",
          "name": "stdout",
          "text": [
            "Training Loss: 1.021485198289156, \n",
            " Training perplexity: 2.777316568173853\n",
            "___________________________________________________________________________\n",
            "EPOCH: 12\n",
            "Total Steps: 176\n",
            "___________________________________________________________________________\n"
          ]
        },
        {
          "output_type": "stream",
          "name": "stderr",
          "text": [
            "100%|██████████| 16/16 [00:08<00:00,  1.82it/s]\n"
          ]
        },
        {
          "output_type": "stream",
          "name": "stdout",
          "text": [
            "Training Loss: 0.9770585708320141, \n",
            " Training perplexity: 2.656630447774579\n",
            "___________________________________________________________________________\n",
            "EPOCH: 13\n",
            "Total Steps: 192\n",
            "___________________________________________________________________________\n"
          ]
        },
        {
          "output_type": "stream",
          "name": "stderr",
          "text": [
            "100%|██████████| 16/16 [00:08<00:00,  1.83it/s]\n"
          ]
        },
        {
          "output_type": "stream",
          "name": "stdout",
          "text": [
            "Training Loss: 0.9334794841706753, \n",
            " Training perplexity: 2.5433433224025026\n",
            "___________________________________________________________________________\n",
            "EPOCH: 14\n",
            "Total Steps: 208\n",
            "___________________________________________________________________________\n"
          ]
        },
        {
          "output_type": "stream",
          "name": "stderr",
          "text": [
            "100%|██████████| 16/16 [00:08<00:00,  1.82it/s]\n"
          ]
        },
        {
          "output_type": "stream",
          "name": "stdout",
          "text": [
            "Training Loss: 0.8985811546444893, \n",
            " Training perplexity: 2.456115789276545\n",
            "___________________________________________________________________________\n",
            "EPOCH: 15\n",
            "Total Steps: 224\n",
            "___________________________________________________________________________\n"
          ]
        },
        {
          "output_type": "stream",
          "name": "stderr",
          "text": [
            "100%|██████████| 16/16 [00:08<00:00,  1.83it/s]\n"
          ]
        },
        {
          "output_type": "stream",
          "name": "stdout",
          "text": [
            "Training Loss: 0.8648763820528984, \n",
            " Training perplexity: 2.374712510746367\n",
            "___________________________________________________________________________\n",
            "EPOCH: 16\n",
            "Total Steps: 240\n",
            "___________________________________________________________________________\n"
          ]
        },
        {
          "output_type": "stream",
          "name": "stderr",
          "text": [
            "100%|██████████| 16/16 [00:08<00:00,  1.83it/s]\n"
          ]
        },
        {
          "output_type": "stream",
          "name": "stdout",
          "text": [
            "Training Loss: 0.8286845274269581, \n",
            " Training perplexity: 2.2903039257477804\n",
            "___________________________________________________________________________\n",
            "EPOCH: 17\n",
            "Total Steps: 256\n",
            "___________________________________________________________________________\n"
          ]
        },
        {
          "output_type": "stream",
          "name": "stderr",
          "text": [
            "100%|██████████| 16/16 [00:08<00:00,  1.82it/s]\n"
          ]
        },
        {
          "output_type": "stream",
          "name": "stdout",
          "text": [
            "Training Loss: 0.7999284192919731, \n",
            " Training perplexity: 2.225381628398538\n",
            "___________________________________________________________________________\n",
            "EPOCH: 18\n",
            "Total Steps: 272\n",
            "___________________________________________________________________________\n"
          ]
        },
        {
          "output_type": "stream",
          "name": "stderr",
          "text": [
            "100%|██████████| 16/16 [00:08<00:00,  1.82it/s]\n"
          ]
        },
        {
          "output_type": "stream",
          "name": "stdout",
          "text": [
            "Training Loss: 0.7654283158481121, \n",
            " Training perplexity: 2.1499150201528425\n",
            "___________________________________________________________________________\n",
            "EPOCH: 19\n",
            "Total Steps: 288\n",
            "___________________________________________________________________________\n"
          ]
        },
        {
          "output_type": "stream",
          "name": "stderr",
          "text": [
            "100%|██████████| 16/16 [00:08<00:00,  1.82it/s]\n"
          ]
        },
        {
          "output_type": "stream",
          "name": "stdout",
          "text": [
            "Training Loss: 0.7253978252410889, \n",
            " Training perplexity: 2.065552665523037\n",
            "___________________________________________________________________________\n",
            "EPOCH: 20\n",
            "Total Steps: 304\n",
            "___________________________________________________________________________\n"
          ]
        },
        {
          "output_type": "stream",
          "name": "stderr",
          "text": [
            "100%|██████████| 16/16 [00:08<00:00,  1.82it/s]\n"
          ]
        },
        {
          "output_type": "stream",
          "name": "stdout",
          "text": [
            "\n",
            "Greedy decoding\n",
            "Sample prompt: Good morning America | generated text:  flag. And we will end our reliance on China on the state of Michigan, we will make America great ag\n",
            "\n",
            "Random decoding\n",
            "Sample prompt: Good morning America | generated text: s flast, counting for that? I saw so you from $10 million joins to continue to come the smart on Chi\n",
            "\n",
            "\n",
            "Greedy decoding\n",
            "Sample prompt: Very good | generated text:  And we will end our reliance on China on the state of Michigan, we will make America great again. T\n",
            "\n",
            "Random decoding\n",
            "Sample prompt: Very good | generated text:  And I think you’w ever wene. She reject on anyway, which was one people on really well. The great j\n",
            "\n",
            "\n",
            "Greedy decoding\n",
            "Sample prompt: Donald Trump: | generated text: (01:01:00)<eos>Well, he said, “I had a lot of work to do what we have to do what we have to do what we h\n",
            "\n",
            "Random decoding\n",
            "Sample prompt: Donald Trump: | generated text: (30:43)<eos>One, many is that he spent the disease. It wouldn’t feel that none so much. I said, “Becanso\n",
            "\n",
            "Training Loss: 0.6990790218114853, \n",
            " Training perplexity: 2.011898938921065\n",
            "___________________________________________________________________________\n",
            "EPOCH: 21\n",
            "Total Steps: 320\n",
            "___________________________________________________________________________\n"
          ]
        },
        {
          "output_type": "stream",
          "name": "stderr",
          "text": [
            "100%|██████████| 16/16 [00:08<00:00,  1.82it/s]\n"
          ]
        },
        {
          "output_type": "stream",
          "name": "stdout",
          "text": [
            "Training Loss: 0.6751954779028893, \n",
            " Training perplexity: 1.964416938544072\n",
            "___________________________________________________________________________\n",
            "EPOCH: 22\n",
            "Total Steps: 336\n",
            "___________________________________________________________________________\n"
          ]
        },
        {
          "output_type": "stream",
          "name": "stderr",
          "text": [
            "100%|██████████| 16/16 [00:08<00:00,  1.81it/s]\n"
          ]
        },
        {
          "output_type": "stream",
          "name": "stdout",
          "text": [
            "Training Loss: 0.6335835196077824, \n",
            " Training perplexity: 1.8843511037785325\n",
            "___________________________________________________________________________\n",
            "EPOCH: 23\n",
            "Total Steps: 352\n",
            "___________________________________________________________________________\n"
          ]
        },
        {
          "output_type": "stream",
          "name": "stderr",
          "text": [
            "100%|██████████| 16/16 [00:08<00:00,  1.82it/s]\n"
          ]
        },
        {
          "output_type": "stream",
          "name": "stdout",
          "text": [
            "Training Loss: 0.5961959660053253, \n",
            " Training perplexity: 1.8152005654745147\n",
            "___________________________________________________________________________\n",
            "EPOCH: 24\n",
            "Total Steps: 368\n",
            "___________________________________________________________________________\n"
          ]
        },
        {
          "output_type": "stream",
          "name": "stderr",
          "text": [
            "100%|██████████| 16/16 [00:08<00:00,  1.83it/s]\n"
          ]
        },
        {
          "output_type": "stream",
          "name": "stdout",
          "text": [
            "Training Loss: 0.5675549805164337, \n",
            " Training perplexity: 1.7639488851923377\n",
            "___________________________________________________________________________\n",
            "EPOCH: 25\n",
            "Total Steps: 384\n",
            "___________________________________________________________________________\n"
          ]
        },
        {
          "output_type": "stream",
          "name": "stderr",
          "text": [
            "100%|██████████| 16/16 [00:08<00:00,  1.82it/s]\n"
          ]
        },
        {
          "output_type": "stream",
          "name": "stdout",
          "text": [
            "Training Loss: 0.5451462306082249, \n",
            " Training perplexity: 1.7248605913490263\n",
            "___________________________________________________________________________\n",
            "EPOCH: 26\n",
            "Total Steps: 400\n",
            "___________________________________________________________________________\n"
          ]
        },
        {
          "output_type": "stream",
          "name": "stderr",
          "text": [
            "100%|██████████| 16/16 [00:08<00:00,  1.84it/s]\n"
          ]
        },
        {
          "output_type": "stream",
          "name": "stdout",
          "text": [
            "Training Loss: 0.5141462776809931, \n",
            " Training perplexity: 1.6722102889899157\n",
            "___________________________________________________________________________\n",
            "EPOCH: 27\n",
            "Total Steps: 416\n",
            "___________________________________________________________________________\n"
          ]
        },
        {
          "output_type": "stream",
          "name": "stderr",
          "text": [
            "100%|██████████| 16/16 [00:08<00:00,  1.83it/s]\n"
          ]
        },
        {
          "output_type": "stream",
          "name": "stdout",
          "text": [
            "Training Loss: 0.48824636824429035, \n",
            " Training perplexity: 1.6294562467995002\n",
            "___________________________________________________________________________\n",
            "EPOCH: 28\n",
            "Total Steps: 432\n",
            "___________________________________________________________________________\n"
          ]
        },
        {
          "output_type": "stream",
          "name": "stderr",
          "text": [
            "100%|██████████| 16/16 [00:08<00:00,  1.83it/s]\n"
          ]
        },
        {
          "output_type": "stream",
          "name": "stdout",
          "text": [
            "Training Loss: 0.462318466976285, \n",
            " Training perplexity: 1.5877508689366553\n",
            "___________________________________________________________________________\n",
            "EPOCH: 29\n",
            "Total Steps: 448\n",
            "___________________________________________________________________________\n"
          ]
        },
        {
          "output_type": "stream",
          "name": "stderr",
          "text": [
            "100%|██████████| 16/16 [00:08<00:00,  1.83it/s]\n"
          ]
        },
        {
          "output_type": "stream",
          "name": "stdout",
          "text": [
            "Training Loss: 0.42731332406401634, \n",
            " Training perplexity: 1.5331329539243383\n",
            "___________________________________________________________________________\n",
            "EPOCH: 30\n",
            "Total Steps: 464\n",
            "___________________________________________________________________________\n"
          ]
        },
        {
          "output_type": "stream",
          "name": "stderr",
          "text": [
            "100%|██████████| 16/16 [00:08<00:00,  1.83it/s]\n"
          ]
        },
        {
          "output_type": "stream",
          "name": "stdout",
          "text": [
            "\n",
            "Greedy decoding\n",
            "Sample prompt: Good morning America | generated text:  dream. And as I said, “What the hell is going on? Is that the president said, “No, no, no, no, not \n",
            "\n",
            "Random decoding\n",
            "Sample prompt: Good morning America | generated text:  dream. That was a Trump back, and I appreciate it. That’s all I case, but we want up, and we nave i\n",
            "\n",
            "\n",
            "Greedy decoding\n",
            "Sample prompt: Very good | generated text: ratings that they have to come in the one that nobody believed. It was one of the most invest the oi\n",
            "\n",
            "Random decoding\n",
            "Sample prompt: Very good | generated text: ratings to many of you have been to call Ever.<eos><eos>Donald Trump: (01:58:07)<eos>How a by the way, and that’\n",
            "\n",
            "\n",
            "Greedy decoding\n",
            "Sample prompt: Donald Trump: | generated text: (01:01:03)<eos>… some great warriors. I don’t know. I don’t know. I don’t know. I don’t know. I don’t kn\n",
            "\n",
            "Random decoding\n",
            "Sample prompt: Donald Trump: | generated text: (01:27:19)<eos>The only Marson and Kamala Harris is not good for the United States. I could be great for\n",
            "\n",
            "Training Loss: 0.4022822491824627, \n",
            " Training perplexity: 1.495233301500003\n",
            "___________________________________________________________________________\n",
            "EPOCH: 31\n",
            "Total Steps: 480\n",
            "___________________________________________________________________________\n"
          ]
        },
        {
          "output_type": "stream",
          "name": "stderr",
          "text": [
            "100%|██████████| 16/16 [00:08<00:00,  1.83it/s]\n"
          ]
        },
        {
          "output_type": "stream",
          "name": "stdout",
          "text": [
            "Training Loss: 0.37967382557690144, \n",
            " Training perplexity: 1.4618077073794524\n",
            "___________________________________________________________________________\n",
            "EPOCH: 32\n",
            "Total Steps: 496\n",
            "___________________________________________________________________________\n"
          ]
        },
        {
          "output_type": "stream",
          "name": "stderr",
          "text": [
            "100%|██████████| 16/16 [00:08<00:00,  1.84it/s]\n"
          ]
        },
        {
          "output_type": "stream",
          "name": "stdout",
          "text": [
            "Training Loss: 0.34847475588321686, \n",
            " Training perplexity: 1.4169047739623728\n",
            "___________________________________________________________________________\n",
            "EPOCH: 33\n",
            "Total Steps: 512\n",
            "___________________________________________________________________________\n"
          ]
        },
        {
          "output_type": "stream",
          "name": "stderr",
          "text": [
            "100%|██████████| 16/16 [00:08<00:00,  1.85it/s]\n"
          ]
        },
        {
          "output_type": "stream",
          "name": "stdout",
          "text": [
            "Training Loss: 0.3280080817639828, \n",
            " Training perplexity: 1.3882001913503847\n",
            "___________________________________________________________________________\n",
            "EPOCH: 34\n",
            "Total Steps: 528\n",
            "___________________________________________________________________________\n"
          ]
        },
        {
          "output_type": "stream",
          "name": "stderr",
          "text": [
            "100%|██████████| 16/16 [00:08<00:00,  1.84it/s]\n"
          ]
        },
        {
          "output_type": "stream",
          "name": "stdout",
          "text": [
            "Training Loss: 0.30459695030003786, \n",
            " Training perplexity: 1.3560783258822273\n",
            "___________________________________________________________________________\n",
            "EPOCH: 35\n",
            "Total Steps: 544\n",
            "___________________________________________________________________________\n"
          ]
        },
        {
          "output_type": "stream",
          "name": "stderr",
          "text": [
            "100%|██████████| 16/16 [00:08<00:00,  1.84it/s]\n"
          ]
        },
        {
          "output_type": "stream",
          "name": "stdout",
          "text": [
            "Training Loss: 0.27801018580794334, \n",
            " Training perplexity: 1.3204996474963928\n",
            "___________________________________________________________________________\n",
            "EPOCH: 36\n",
            "Total Steps: 560\n",
            "___________________________________________________________________________\n"
          ]
        },
        {
          "output_type": "stream",
          "name": "stderr",
          "text": [
            "100%|██████████| 16/16 [00:08<00:00,  1.84it/s]\n"
          ]
        },
        {
          "output_type": "stream",
          "name": "stdout",
          "text": [
            "Training Loss: 0.2531714681535959, \n",
            " Training perplexity: 1.2881041267359776\n",
            "___________________________________________________________________________\n",
            "EPOCH: 37\n",
            "Total Steps: 576\n",
            "___________________________________________________________________________\n"
          ]
        },
        {
          "output_type": "stream",
          "name": "stderr",
          "text": [
            "100%|██████████| 16/16 [00:08<00:00,  1.84it/s]\n"
          ]
        },
        {
          "output_type": "stream",
          "name": "stdout",
          "text": [
            "Training Loss: 0.2338552512228489, \n",
            " Training perplexity: 1.2634615944502097\n",
            "___________________________________________________________________________\n",
            "EPOCH: 38\n",
            "Total Steps: 592\n",
            "___________________________________________________________________________\n"
          ]
        },
        {
          "output_type": "stream",
          "name": "stderr",
          "text": [
            "100%|██████████| 16/16 [00:08<00:00,  1.84it/s]\n"
          ]
        },
        {
          "output_type": "stream",
          "name": "stdout",
          "text": [
            "Training Loss: 0.2146493373438716, \n",
            " Training perplexity: 1.239427199920504\n",
            "___________________________________________________________________________\n",
            "EPOCH: 39\n",
            "Total Steps: 608\n",
            "___________________________________________________________________________\n"
          ]
        },
        {
          "output_type": "stream",
          "name": "stderr",
          "text": [
            "100%|██████████| 16/16 [00:08<00:00,  1.85it/s]\n"
          ]
        },
        {
          "output_type": "stream",
          "name": "stdout",
          "text": [
            "Training Loss: 0.19454912468791008, \n",
            " Training perplexity: 1.21476315628025\n",
            "___________________________________________________________________________\n",
            "EPOCH: 40\n",
            "Total Steps: 624\n",
            "___________________________________________________________________________\n"
          ]
        },
        {
          "output_type": "stream",
          "name": "stderr",
          "text": [
            "100%|██████████| 16/16 [00:08<00:00,  1.83it/s]\n"
          ]
        },
        {
          "output_type": "stream",
          "name": "stdout",
          "text": [
            "\n",
            "Greedy decoding\n",
            "Sample prompt: Good morning America | generated text:  blood and treasure in endless foreign, ridiculous working all the time. Thank you very much, I appr\n",
            "\n",
            "Random decoding\n",
            "Sample prompt: Good morning America | generated text:  got each and sent and women of Willient New York 91p, some beautiful, beautiful Abriotits, ran expl\n",
            "\n",
            "\n",
            "Greedy decoding\n",
            "Sample prompt: Very good | generated text: ratings the things that the hell out of our country. I see who’s had so many different problem. Ever\n",
            "\n",
            "Random decoding\n",
            "Sample prompt: Very good | generated text: ratings the things that the great Whith you ever seen. And over administration?<eos><eos>Donald Trump: (02:3\n",
            "\n",
            "\n",
            "Greedy decoding\n",
            "Sample prompt: Donald Trump: | generated text: (01:21:11)<eos>No, we’ve done a good job. They loved how to do it. It’s not fair. You’re sending them ba\n",
            "\n",
            "Random decoding\n",
            "Sample prompt: Donald Trump: | generated text: (01:51:41)<eos>Joe Biden stated with oil against fracking. The only bad under President and Elicuments. \n",
            "\n",
            "Training Loss: 0.1802372820675373, \n",
            " Training perplexity: 1.1975014750390218\n",
            "___________________________________________________________________________\n",
            "EPOCH: 41\n",
            "Total Steps: 640\n",
            "___________________________________________________________________________\n"
          ]
        },
        {
          "output_type": "stream",
          "name": "stderr",
          "text": [
            "100%|██████████| 16/16 [00:08<00:00,  1.84it/s]\n"
          ]
        },
        {
          "output_type": "stream",
          "name": "stdout",
          "text": [
            "Training Loss: 0.17467504926025867, \n",
            " Training perplexity: 1.190859183159865\n",
            "___________________________________________________________________________\n",
            "EPOCH: 42\n",
            "Total Steps: 656\n",
            "___________________________________________________________________________\n"
          ]
        },
        {
          "output_type": "stream",
          "name": "stderr",
          "text": [
            "100%|██████████| 16/16 [00:08<00:00,  1.83it/s]\n"
          ]
        },
        {
          "output_type": "stream",
          "name": "stdout",
          "text": [
            "Training Loss: 0.162528021261096, \n",
            " Training perplexity: 1.1764812844760604\n",
            "___________________________________________________________________________\n",
            "EPOCH: 43\n",
            "Total Steps: 672\n",
            "___________________________________________________________________________\n"
          ]
        },
        {
          "output_type": "stream",
          "name": "stderr",
          "text": [
            "100%|██████████| 16/16 [00:08<00:00,  1.83it/s]\n"
          ]
        },
        {
          "output_type": "stream",
          "name": "stdout",
          "text": [
            "Training Loss: 0.14813608769327402, \n",
            " Training perplexity: 1.159670702535857\n",
            "___________________________________________________________________________\n",
            "EPOCH: 44\n",
            "Total Steps: 688\n",
            "___________________________________________________________________________\n"
          ]
        },
        {
          "output_type": "stream",
          "name": "stderr",
          "text": [
            "100%|██████████| 16/16 [00:08<00:00,  1.82it/s]\n"
          ]
        },
        {
          "output_type": "stream",
          "name": "stdout",
          "text": [
            "Training Loss: 0.1386572546325624, \n",
            " Training perplexity: 1.148730310530332\n",
            "___________________________________________________________________________\n",
            "EPOCH: 45\n",
            "Total Steps: 704\n",
            "___________________________________________________________________________\n"
          ]
        },
        {
          "output_type": "stream",
          "name": "stderr",
          "text": [
            "100%|██████████| 16/16 [00:08<00:00,  1.83it/s]\n"
          ]
        },
        {
          "output_type": "stream",
          "name": "stdout",
          "text": [
            "Training Loss: 0.1266387738287449, \n",
            " Training perplexity: 1.1350069495075306\n",
            "___________________________________________________________________________\n",
            "EPOCH: 46\n",
            "Total Steps: 720\n",
            "___________________________________________________________________________\n"
          ]
        },
        {
          "output_type": "stream",
          "name": "stderr",
          "text": [
            "100%|██████████| 16/16 [00:08<00:00,  1.81it/s]\n"
          ]
        },
        {
          "output_type": "stream",
          "name": "stdout",
          "text": [
            "Training Loss: 0.11229809606447816, \n",
            " Training perplexity: 1.1188463346280433\n",
            "___________________________________________________________________________\n",
            "EPOCH: 47\n",
            "Total Steps: 736\n",
            "___________________________________________________________________________\n"
          ]
        },
        {
          "output_type": "stream",
          "name": "stderr",
          "text": [
            "100%|██████████| 16/16 [00:08<00:00,  1.82it/s]\n"
          ]
        },
        {
          "output_type": "stream",
          "name": "stdout",
          "text": [
            "Training Loss: 0.09663460543379188, \n",
            " Training perplexity: 1.1014578333752574\n",
            "___________________________________________________________________________\n",
            "EPOCH: 48\n",
            "Total Steps: 752\n",
            "___________________________________________________________________________\n"
          ]
        },
        {
          "output_type": "stream",
          "name": "stderr",
          "text": [
            "100%|██████████| 16/16 [00:08<00:00,  1.82it/s]\n"
          ]
        },
        {
          "output_type": "stream",
          "name": "stdout",
          "text": [
            "Training Loss: 0.08705348987132311, \n",
            " Training perplexity: 1.0909550332019489\n",
            "___________________________________________________________________________\n",
            "EPOCH: 49\n",
            "Total Steps: 768\n",
            "___________________________________________________________________________\n"
          ]
        },
        {
          "output_type": "stream",
          "name": "stderr",
          "text": [
            "100%|██████████| 16/16 [00:08<00:00,  1.82it/s]\n"
          ]
        },
        {
          "output_type": "stream",
          "name": "stdout",
          "text": [
            "Training Loss: 0.07698982208967209, \n",
            " Training perplexity: 1.080031083877137\n",
            "___________________________________________________________________________\n",
            "EPOCH: 50\n",
            "Total Steps: 784\n",
            "___________________________________________________________________________\n"
          ]
        },
        {
          "output_type": "stream",
          "name": "stderr",
          "text": [
            "100%|██████████| 16/16 [00:08<00:00,  1.83it/s]\n"
          ]
        },
        {
          "output_type": "stream",
          "name": "stdout",
          "text": [
            "\n",
            "Greedy decoding\n",
            "Sample prompt: Good morning America | generated text: strong again. We have made America proud again. We have made America safe again, and we will make Am\n",
            "\n",
            "Random decoding\n",
            "Sample prompt: Good morning America | generated text:  economy from the world, and now they all was the great plague, and they want to touch. They want to\n",
            "\n",
            "\n",
            "Greedy decoding\n",
            "Sample prompt: Very good | generated text: ratings the other night, a fake report, but the ratings go through the roof. 60 Minutes had very goo\n",
            "\n",
            "Random decoding\n",
            "Sample prompt: Very good | generated text: allying the fastest growth, by the way, do. I think they’d been fighting for 400 years, you want to \n",
            "\n",
            "\n",
            "Greedy decoding\n",
            "Sample prompt: Donald Trump: | generated text: (01:11:03)<eos>For years, you had a president who apologized for America. Now you have a president who i\n",
            "\n",
            "Random decoding\n",
            "Sample prompt: Donald Trump: | generated text: (01:01:24)<eos>A vote for sleepy Joe, at the announcer, ran refugees and what’s right for the White Hous\n",
            "\n",
            "Training Loss: 0.07014856371097267, \n",
            " Training perplexity: 1.0726675288860168\n",
            "___________________________________________________________________________\n",
            "EPOCH: 51\n",
            "Total Steps: 800\n",
            "___________________________________________________________________________\n"
          ]
        },
        {
          "output_type": "stream",
          "name": "stderr",
          "text": [
            "100%|██████████| 16/16 [00:08<00:00,  1.82it/s]\n"
          ]
        },
        {
          "output_type": "stream",
          "name": "stdout",
          "text": [
            "Training Loss: 0.06545031210407615, \n",
            " Training perplexity: 1.0676396872258722\n",
            "___________________________________________________________________________\n",
            "EPOCH: 52\n",
            "Total Steps: 816\n",
            "___________________________________________________________________________\n"
          ]
        },
        {
          "output_type": "stream",
          "name": "stderr",
          "text": [
            "100%|██████████| 16/16 [00:08<00:00,  1.81it/s]\n"
          ]
        },
        {
          "output_type": "stream",
          "name": "stdout",
          "text": [
            "Training Loss: 0.05995371378958225, \n",
            " Training perplexity: 1.0617873992929658\n",
            "___________________________________________________________________________\n",
            "EPOCH: 53\n",
            "Total Steps: 832\n",
            "___________________________________________________________________________\n"
          ]
        },
        {
          "output_type": "stream",
          "name": "stderr",
          "text": [
            "100%|██████████| 16/16 [00:08<00:00,  1.82it/s]\n"
          ]
        },
        {
          "output_type": "stream",
          "name": "stdout",
          "text": [
            "Training Loss: 0.050775231095030904, \n",
            " Training perplexity: 1.0520863903990496\n",
            "___________________________________________________________________________\n",
            "EPOCH: 54\n",
            "Total Steps: 848\n",
            "___________________________________________________________________________\n"
          ]
        },
        {
          "output_type": "stream",
          "name": "stderr",
          "text": [
            "100%|██████████| 16/16 [00:08<00:00,  1.81it/s]\n"
          ]
        },
        {
          "output_type": "stream",
          "name": "stdout",
          "text": [
            "Training Loss: 0.0448023471981287, \n",
            " Training perplexity: 1.0458211300024163\n",
            "___________________________________________________________________________\n",
            "EPOCH: 55\n",
            "Total Steps: 864\n",
            "___________________________________________________________________________\n"
          ]
        },
        {
          "output_type": "stream",
          "name": "stderr",
          "text": [
            "100%|██████████| 16/16 [00:08<00:00,  1.81it/s]\n"
          ]
        },
        {
          "output_type": "stream",
          "name": "stdout",
          "text": [
            "Training Loss: 0.03998419945128262, \n",
            " Training perplexity: 1.0407943289409674\n",
            "___________________________________________________________________________\n",
            "EPOCH: 56\n",
            "Total Steps: 880\n",
            "___________________________________________________________________________\n"
          ]
        },
        {
          "output_type": "stream",
          "name": "stderr",
          "text": [
            "100%|██████████| 16/16 [00:08<00:00,  1.82it/s]\n"
          ]
        },
        {
          "output_type": "stream",
          "name": "stdout",
          "text": [
            "Training Loss: 0.036542543675750494, \n",
            " Training perplexity: 1.0372184301636742\n",
            "___________________________________________________________________________\n",
            "EPOCH: 57\n",
            "Total Steps: 896\n",
            "___________________________________________________________________________\n"
          ]
        },
        {
          "output_type": "stream",
          "name": "stderr",
          "text": [
            "100%|██████████| 16/16 [00:08<00:00,  1.82it/s]\n"
          ]
        },
        {
          "output_type": "stream",
          "name": "stdout",
          "text": [
            "Training Loss: 0.03209973324555904, \n",
            " Training perplexity: 1.032620486762271\n",
            "___________________________________________________________________________\n",
            "EPOCH: 58\n",
            "Total Steps: 912\n",
            "___________________________________________________________________________\n"
          ]
        },
        {
          "output_type": "stream",
          "name": "stderr",
          "text": [
            "100%|██████████| 16/16 [00:08<00:00,  1.83it/s]\n"
          ]
        },
        {
          "output_type": "stream",
          "name": "stdout",
          "text": [
            "Training Loss: 0.027843429939821362, \n",
            " Training perplexity: 1.0282346810517102\n",
            "___________________________________________________________________________\n",
            "EPOCH: 59\n",
            "Total Steps: 928\n",
            "___________________________________________________________________________\n"
          ]
        },
        {
          "output_type": "stream",
          "name": "stderr",
          "text": [
            "100%|██████████| 16/16 [00:08<00:00,  1.82it/s]\n"
          ]
        },
        {
          "output_type": "stream",
          "name": "stdout",
          "text": [
            "Training Loss: 0.023934513214044273, \n",
            " Training perplexity: 1.0242232426061137\n",
            "___________________________________________________________________________\n",
            "EPOCH: 60\n",
            "Total Steps: 944\n",
            "___________________________________________________________________________\n"
          ]
        },
        {
          "output_type": "stream",
          "name": "stderr",
          "text": [
            "100%|██████████| 16/16 [00:08<00:00,  1.82it/s]\n"
          ]
        },
        {
          "output_type": "stream",
          "name": "stdout",
          "text": [
            "\n",
            "Greedy decoding\n",
            "Sample prompt: Good morning America | generated text:  blood and treasure in endless foreign wars in countries that most of you have never even heard of, \n",
            "\n",
            "Random decoding\n",
            "Sample prompt: Good morning America | generated text:  unemployment all reached their lowest levels, ever recorded. Think of that, what we had going and w\n",
            "\n",
            "\n",
            "Greedy decoding\n",
            "Sample prompt: Very good | generated text:  She would call me, I’d come. I’d make a speech, I’d leave. Call me the next day.<eos><eos>Donald Trump: (01\n",
            "\n",
            "Random decoding\n",
            "Sample prompt: Very good | generated text:  State, You know, we have to wrong for a long time. You’re going to do the job we’ve done, when we h\n",
            "\n",
            "\n",
            "Greedy decoding\n",
            "Sample prompt: Donald Trump: | generated text: (01:11:03)<eos>Michigan gave us Motown, the Mustang and the unrivaled might of the American Midwest, the\n",
            "\n",
            "Random decoding\n",
            "Sample prompt: Donald Trump: | generated text: (01:01:09)<eos>“Sir, you have to do this? You have to get out the great people of Michigan.<eos><eos>Donald Trum\n",
            "\n",
            "Training Loss: 0.022392700775526464, \n",
            " Training perplexity: 1.0226452992297956\n",
            "___________________________________________________________________________\n",
            "EPOCH: 61\n",
            "Total Steps: 960\n",
            "___________________________________________________________________________\n"
          ]
        },
        {
          "output_type": "stream",
          "name": "stderr",
          "text": [
            "100%|██████████| 16/16 [00:08<00:00,  1.83it/s]\n"
          ]
        },
        {
          "output_type": "stream",
          "name": "stdout",
          "text": [
            "Training Loss: 0.020796125754714012, \n",
            " Training perplexity: 1.0210138719844375\n",
            "___________________________________________________________________________\n",
            "EPOCH: 62\n",
            "Total Steps: 976\n",
            "___________________________________________________________________________\n"
          ]
        },
        {
          "output_type": "stream",
          "name": "stderr",
          "text": [
            "100%|██████████| 16/16 [00:08<00:00,  1.84it/s]\n"
          ]
        },
        {
          "output_type": "stream",
          "name": "stdout",
          "text": [
            "Training Loss: 0.01960402785334736, \n",
            " Training perplexity: 1.019797448682266\n",
            "___________________________________________________________________________\n",
            "EPOCH: 63\n",
            "Total Steps: 992\n",
            "___________________________________________________________________________\n"
          ]
        },
        {
          "output_type": "stream",
          "name": "stderr",
          "text": [
            "100%|██████████| 16/16 [00:08<00:00,  1.83it/s]\n"
          ]
        },
        {
          "output_type": "stream",
          "name": "stdout",
          "text": [
            "Training Loss: 0.018446171190589666, \n",
            " Training perplexity: 1.0186173527344635\n",
            "___________________________________________________________________________\n",
            "EPOCH: 64\n",
            "Total Steps: 1008\n",
            "___________________________________________________________________________\n"
          ]
        },
        {
          "output_type": "stream",
          "name": "stderr",
          "text": [
            "100%|██████████| 16/16 [00:08<00:00,  1.84it/s]\n"
          ]
        },
        {
          "output_type": "stream",
          "name": "stdout",
          "text": [
            "Training Loss: 0.017899772385135293, \n",
            " Training perplexity: 1.018060933456972\n",
            "___________________________________________________________________________\n",
            "EPOCH: 65\n",
            "Total Steps: 1024\n",
            "___________________________________________________________________________\n"
          ]
        },
        {
          "output_type": "stream",
          "name": "stderr",
          "text": [
            "100%|██████████| 16/16 [00:08<00:00,  1.83it/s]\n"
          ]
        },
        {
          "output_type": "stream",
          "name": "stdout",
          "text": [
            "Training Loss: 0.016348902776371688, \n",
            " Training perplexity: 1.016483277381049\n",
            "___________________________________________________________________________\n",
            "EPOCH: 66\n",
            "Total Steps: 1040\n",
            "___________________________________________________________________________\n"
          ]
        },
        {
          "output_type": "stream",
          "name": "stderr",
          "text": [
            "100%|██████████| 16/16 [00:08<00:00,  1.83it/s]\n"
          ]
        },
        {
          "output_type": "stream",
          "name": "stdout",
          "text": [
            "Training Loss: 0.015064496721606702, \n",
            " Training perplexity: 1.0151785381918397\n",
            "___________________________________________________________________________\n",
            "EPOCH: 67\n",
            "Total Steps: 1056\n",
            "___________________________________________________________________________\n"
          ]
        },
        {
          "output_type": "stream",
          "name": "stderr",
          "text": [
            "100%|██████████| 16/16 [00:08<00:00,  1.84it/s]\n"
          ]
        },
        {
          "output_type": "stream",
          "name": "stdout",
          "text": [
            "Training Loss: 0.012971938063856214, \n",
            " Training perplexity: 1.0130564386358374\n",
            "___________________________________________________________________________\n",
            "EPOCH: 68\n",
            "Total Steps: 1072\n",
            "___________________________________________________________________________\n"
          ]
        },
        {
          "output_type": "stream",
          "name": "stderr",
          "text": [
            "100%|██████████| 16/16 [00:08<00:00,  1.82it/s]\n"
          ]
        },
        {
          "output_type": "stream",
          "name": "stdout",
          "text": [
            "Training Loss: 0.011608745087869465, \n",
            " Training perplexity: 1.0116763880657444\n",
            "___________________________________________________________________________\n",
            "EPOCH: 69\n",
            "Total Steps: 1088\n",
            "___________________________________________________________________________\n"
          ]
        },
        {
          "output_type": "stream",
          "name": "stderr",
          "text": [
            "100%|██████████| 16/16 [00:08<00:00,  1.83it/s]\n"
          ]
        },
        {
          "output_type": "stream",
          "name": "stdout",
          "text": [
            "Training Loss: 0.010624007845763117, \n",
            " Training perplexity: 1.0106806430035449\n",
            "___________________________________________________________________________\n",
            "EPOCH: 70\n",
            "Total Steps: 1104\n",
            "___________________________________________________________________________\n"
          ]
        },
        {
          "output_type": "stream",
          "name": "stderr",
          "text": [
            "100%|██████████| 16/16 [00:08<00:00,  1.82it/s]\n"
          ]
        },
        {
          "output_type": "stream",
          "name": "stdout",
          "text": [
            "\n",
            "Greedy decoding\n",
            "Sample prompt: Good morning America | generated text:  blood and treasure in endless foreign, ridiculous wars. Countries you’ve never even heard of. In 20\n",
            "\n",
            "Random decoding\n",
            "Sample prompt: Good morning America | generated text:  blood and treasure on foreign Wars. You know what they call them? The endless foreign wars, countri\n",
            "\n",
            "\n",
            "Greedy decoding\n",
            "Sample prompt: Very good | generated text: all over. We have to do it. It’s just we could be a little bit superstitious, right? But you people,\n",
            "\n",
            "Random decoding\n",
            "Sample prompt: Very good | generated text: all over the last few years. A lot of great things. And you’re paying, what, $2 a gallon for your ga\n",
            "\n",
            "\n",
            "Greedy decoding\n",
            "Sample prompt: Donald Trump: | generated text: (01:51:31)<eos>No, he’s the best loser I’ve ever seen. He could lose … He lost with Hillary and they did\n",
            "\n",
            "Random decoding\n",
            "Sample prompt: Donald Trump: | generated text: (01:52:41)<eos>o let me saved to the people of Michigan. Now it’s our taxes.” I never heard that before.\n",
            "\n",
            "Training Loss: 0.009756486106198281, \n",
            " Training perplexity: 1.0098042357801063\n",
            "___________________________________________________________________________\n",
            "EPOCH: 71\n",
            "Total Steps: 1120\n",
            "___________________________________________________________________________\n"
          ]
        },
        {
          "output_type": "stream",
          "name": "stderr",
          "text": [
            "100%|██████████| 16/16 [00:08<00:00,  1.83it/s]\n"
          ]
        },
        {
          "output_type": "stream",
          "name": "stdout",
          "text": [
            "Training Loss: 0.008756377879763022, \n",
            " Training perplexity: 1.0087948270999114\n",
            "___________________________________________________________________________\n",
            "EPOCH: 72\n",
            "Total Steps: 1136\n",
            "___________________________________________________________________________\n"
          ]
        },
        {
          "output_type": "stream",
          "name": "stderr",
          "text": [
            "100%|██████████| 16/16 [00:08<00:00,  1.85it/s]\n"
          ]
        },
        {
          "output_type": "stream",
          "name": "stdout",
          "text": [
            "Training Loss: 0.007955691777169704, \n",
            " Training perplexity: 1.007987422383488\n",
            "___________________________________________________________________________\n",
            "EPOCH: 73\n",
            "Total Steps: 1152\n",
            "___________________________________________________________________________\n"
          ]
        },
        {
          "output_type": "stream",
          "name": "stderr",
          "text": [
            "100%|██████████| 16/16 [00:08<00:00,  1.84it/s]\n"
          ]
        },
        {
          "output_type": "stream",
          "name": "stdout",
          "text": [
            "Training Loss: 0.007351701467996463, \n",
            " Training perplexity: 1.0073787915706587\n",
            "___________________________________________________________________________\n",
            "EPOCH: 74\n",
            "Total Steps: 1168\n",
            "___________________________________________________________________________\n"
          ]
        },
        {
          "output_type": "stream",
          "name": "stderr",
          "text": [
            "100%|██████████| 16/16 [00:08<00:00,  1.83it/s]\n"
          ]
        },
        {
          "output_type": "stream",
          "name": "stdout",
          "text": [
            "Training Loss: 0.0067021446011494845, \n",
            " Training perplexity: 1.0067246542317778\n",
            "___________________________________________________________________________\n",
            "EPOCH: 75\n",
            "Total Steps: 1184\n",
            "___________________________________________________________________________\n"
          ]
        },
        {
          "output_type": "stream",
          "name": "stderr",
          "text": [
            "100%|██████████| 16/16 [00:08<00:00,  1.84it/s]\n"
          ]
        },
        {
          "output_type": "stream",
          "name": "stdout",
          "text": [
            "Training Loss: 0.006214951368747279, \n",
            " Training perplexity: 1.0062343042506388\n",
            "___________________________________________________________________________\n",
            "EPOCH: 76\n",
            "Total Steps: 1200\n",
            "___________________________________________________________________________\n"
          ]
        },
        {
          "output_type": "stream",
          "name": "stderr",
          "text": [
            "100%|██████████| 16/16 [00:08<00:00,  1.84it/s]\n"
          ]
        },
        {
          "output_type": "stream",
          "name": "stdout",
          "text": [
            "Training Loss: 0.0059674931690096855, \n",
            " Training perplexity: 1.0059853341273146\n",
            "___________________________________________________________________________\n",
            "EPOCH: 77\n",
            "Total Steps: 1216\n",
            "___________________________________________________________________________\n"
          ]
        },
        {
          "output_type": "stream",
          "name": "stderr",
          "text": [
            "100%|██████████| 16/16 [00:08<00:00,  1.84it/s]\n"
          ]
        },
        {
          "output_type": "stream",
          "name": "stdout",
          "text": [
            "Training Loss: 0.005637408728944138, \n",
            " Training perplexity: 1.0056533288194924\n",
            "___________________________________________________________________________\n",
            "EPOCH: 78\n",
            "Total Steps: 1232\n",
            "___________________________________________________________________________\n"
          ]
        },
        {
          "output_type": "stream",
          "name": "stderr",
          "text": [
            "100%|██████████| 16/16 [00:08<00:00,  1.84it/s]\n"
          ]
        },
        {
          "output_type": "stream",
          "name": "stdout",
          "text": [
            "Training Loss: 0.00524668357684277, \n",
            " Training perplexity: 1.0052604715242395\n",
            "___________________________________________________________________________\n",
            "EPOCH: 79\n",
            "Total Steps: 1248\n",
            "___________________________________________________________________________\n"
          ]
        },
        {
          "output_type": "stream",
          "name": "stderr",
          "text": [
            "100%|██████████| 16/16 [00:08<00:00,  1.84it/s]\n"
          ]
        },
        {
          "output_type": "stream",
          "name": "stdout",
          "text": [
            "Training Loss: 0.004952140967361629, \n",
            " Training perplexity: 1.004964423083329\n",
            "___________________________________________________________________________\n",
            "EPOCH: 80\n",
            "Total Steps: 1264\n",
            "___________________________________________________________________________\n"
          ]
        },
        {
          "output_type": "stream",
          "name": "stderr",
          "text": [
            "100%|██████████| 16/16 [00:08<00:00,  1.84it/s]\n"
          ]
        },
        {
          "output_type": "stream",
          "name": "stdout",
          "text": [
            "\n",
            "Greedy decoding\n",
            "Sample prompt: Good morning America | generated text:  blood and treasure in endless foreign, ridiculous wars. Countries you’ve never even heard of. In 20\n",
            "\n",
            "Random decoding\n",
            "Sample prompt: Good morning America | generated text:  plague and we’re going to pull it tomorrow. So I got to ask you to do a couple of things. Air Force\n",
            "\n",
            "\n",
            "Greedy decoding\n",
            "Sample prompt: Very good | generated text: ratings the other night, a fake report, but the ratings go through the roof.<eos><eos>Donald Trump: (11:35)<eos>\n",
            "\n",
            "Random decoding\n",
            "Sample prompt: Very good | generated text: ratings the other night, a fake report, but the ratings go through the roof.<eos><eos>Donald Trump: (11:35)<eos>\n",
            "\n",
            "\n",
            "Greedy decoding\n",
            "Sample prompt: Donald Trump: | generated text: (01:40:53)<eos>This is the only man that I’ve ever seen run for office on the fact that he wants to give\n",
            "\n",
            "Random decoding\n",
            "Sample prompt: Donald Trump: | generated text: (01:41:03)<eos>You know what? I wasn’t going to take my chance. I said, “You have something, give it to \n",
            "\n",
            "Training Loss: 0.004761239979416132, \n",
            " Training perplexity: 1.0047725926930005\n",
            "___________________________________________________________________________\n",
            "EPOCH: 81\n",
            "Total Steps: 1280\n",
            "___________________________________________________________________________\n"
          ]
        },
        {
          "output_type": "stream",
          "name": "stderr",
          "text": [
            "100%|██████████| 16/16 [00:08<00:00,  1.83it/s]\n"
          ]
        },
        {
          "output_type": "stream",
          "name": "stdout",
          "text": [
            "Training Loss: 0.004579582076985389, \n",
            " Training perplexity: 1.0045900843889317\n",
            "___________________________________________________________________________\n",
            "EPOCH: 82\n",
            "Total Steps: 1296\n",
            "___________________________________________________________________________\n"
          ]
        },
        {
          "output_type": "stream",
          "name": "stderr",
          "text": [
            "100%|██████████| 16/16 [00:08<00:00,  1.83it/s]\n"
          ]
        },
        {
          "output_type": "stream",
          "name": "stdout",
          "text": [
            "Training Loss: 0.0044949140574317425, \n",
            " Training perplexity: 1.0045050313367108\n",
            "___________________________________________________________________________\n",
            "EPOCH: 83\n",
            "Total Steps: 1312\n",
            "___________________________________________________________________________\n"
          ]
        },
        {
          "output_type": "stream",
          "name": "stderr",
          "text": [
            "100%|██████████| 16/16 [00:08<00:00,  1.83it/s]\n"
          ]
        },
        {
          "output_type": "stream",
          "name": "stdout",
          "text": [
            "Training Loss: 0.004183710261713713, \n",
            " Training perplexity: 1.0041924741951478\n",
            "___________________________________________________________________________\n",
            "EPOCH: 84\n",
            "Total Steps: 1328\n",
            "___________________________________________________________________________\n"
          ]
        },
        {
          "output_type": "stream",
          "name": "stderr",
          "text": [
            "100%|██████████| 16/16 [00:08<00:00,  1.82it/s]\n"
          ]
        },
        {
          "output_type": "stream",
          "name": "stdout",
          "text": [
            "Training Loss: 0.003944873664295301, \n",
            " Training perplexity: 1.0039526649202135\n",
            "___________________________________________________________________________\n",
            "EPOCH: 85\n",
            "Total Steps: 1344\n",
            "___________________________________________________________________________\n"
          ]
        },
        {
          "output_type": "stream",
          "name": "stderr",
          "text": [
            "100%|██████████| 16/16 [00:08<00:00,  1.82it/s]\n"
          ]
        },
        {
          "output_type": "stream",
          "name": "stdout",
          "text": [
            "Training Loss: 0.003789000169490464, \n",
            " Training perplexity: 1.0037961875053714\n",
            "___________________________________________________________________________\n",
            "EPOCH: 86\n",
            "Total Steps: 1360\n",
            "___________________________________________________________________________\n"
          ]
        },
        {
          "output_type": "stream",
          "name": "stderr",
          "text": [
            "100%|██████████| 16/16 [00:08<00:00,  1.82it/s]\n"
          ]
        },
        {
          "output_type": "stream",
          "name": "stdout",
          "text": [
            "Training Loss: 0.00366502815450076, \n",
            " Training perplexity: 1.0036717525827508\n",
            "___________________________________________________________________________\n",
            "EPOCH: 87\n",
            "Total Steps: 1376\n",
            "___________________________________________________________________________\n"
          ]
        },
        {
          "output_type": "stream",
          "name": "stderr",
          "text": [
            "100%|██████████| 16/16 [00:08<00:00,  1.83it/s]\n"
          ]
        },
        {
          "output_type": "stream",
          "name": "stdout",
          "text": [
            "Training Loss: 0.0036175523709971458, \n",
            " Training perplexity: 1.0036241036110114\n",
            "___________________________________________________________________________\n",
            "EPOCH: 88\n",
            "Total Steps: 1392\n",
            "___________________________________________________________________________\n"
          ]
        },
        {
          "output_type": "stream",
          "name": "stderr",
          "text": [
            "100%|██████████| 16/16 [00:08<00:00,  1.82it/s]\n"
          ]
        },
        {
          "output_type": "stream",
          "name": "stdout",
          "text": [
            "Training Loss: 0.00347554667678196, \n",
            " Training perplexity: 1.0034815933923178\n",
            "___________________________________________________________________________\n",
            "EPOCH: 89\n",
            "Total Steps: 1408\n",
            "___________________________________________________________________________\n"
          ]
        },
        {
          "output_type": "stream",
          "name": "stderr",
          "text": [
            "100%|██████████| 16/16 [00:08<00:00,  1.82it/s]\n"
          ]
        },
        {
          "output_type": "stream",
          "name": "stdout",
          "text": [
            "Training Loss: 0.003400022746063769, \n",
            " Training perplexity: 1.0034058093797709\n",
            "___________________________________________________________________________\n",
            "EPOCH: 90\n",
            "Total Steps: 1424\n",
            "___________________________________________________________________________\n"
          ]
        },
        {
          "output_type": "stream",
          "name": "stderr",
          "text": [
            "100%|██████████| 16/16 [00:08<00:00,  1.82it/s]\n"
          ]
        },
        {
          "output_type": "stream",
          "name": "stdout",
          "text": [
            "\n",
            "Greedy decoding\n",
            "Sample prompt: Good morning America | generated text:  plague. I’m make a speech, I’d leave. Call me the next day.<eos><eos>Donald Trump: (01:01:09)<eos>“Sir, you hav\n",
            "\n",
            "Random decoding\n",
            "Sample prompt: Good morning America | generated text:  blood and treasure on foreign Wars. You know what they call them? The endless foreign wars, countri\n",
            "\n",
            "\n",
            "Greedy decoding\n",
            "Sample prompt: Very good | generated text: ratings the other night, a fake report, but the ratings go through the roof.<eos><eos>Donald Trump: (11:35)<eos>\n",
            "\n",
            "Random decoding\n",
            "Sample prompt: Very good | generated text:  She did a great job. Thank you, honey, thank you very much. And Michael, thank you very much. Thank\n",
            "\n",
            "\n",
            "Greedy decoding\n",
            "Sample prompt: Donald Trump: | generated text: (01:40:50)<eos>This group over here. They’re an activist group. Thank you very much. Thank you, fellas.<eos>\n",
            "\n",
            "Random decoding\n",
            "Sample prompt: Donald Trump: | generated text: (01:09:24)<eos>America will land the first woman on the moon, and the United States will be the first na\n",
            "\n",
            "Training Loss: 0.0032235033431788906, \n",
            " Training perplexity: 1.0032287044171389\n",
            "___________________________________________________________________________\n",
            "EPOCH: 91\n",
            "Total Steps: 1440\n",
            "___________________________________________________________________________\n"
          ]
        },
        {
          "output_type": "stream",
          "name": "stderr",
          "text": [
            "100%|██████████| 16/16 [00:08<00:00,  1.82it/s]\n"
          ]
        },
        {
          "output_type": "stream",
          "name": "stdout",
          "text": [
            "Training Loss: 0.0032626007014187053, \n",
            " Training perplexity: 1.0032679287759714\n",
            "___________________________________________________________________________\n",
            "EPOCH: 92\n",
            "Total Steps: 1456\n",
            "___________________________________________________________________________\n"
          ]
        },
        {
          "output_type": "stream",
          "name": "stderr",
          "text": [
            "100%|██████████| 16/16 [00:08<00:00,  1.82it/s]\n"
          ]
        },
        {
          "output_type": "stream",
          "name": "stdout",
          "text": [
            "Training Loss: 0.0032148269965546206, \n",
            " Training perplexity: 1.0032200000949167\n",
            "___________________________________________________________________________\n",
            "EPOCH: 93\n",
            "Total Steps: 1472\n",
            "___________________________________________________________________________\n"
          ]
        },
        {
          "output_type": "stream",
          "name": "stderr",
          "text": [
            "100%|██████████| 16/16 [00:08<00:00,  1.82it/s]\n"
          ]
        },
        {
          "output_type": "stream",
          "name": "stdout",
          "text": [
            "Training Loss: 0.003133122925646603, \n",
            " Training perplexity: 1.0031380362853268\n",
            "___________________________________________________________________________\n",
            "EPOCH: 94\n",
            "Total Steps: 1488\n",
            "___________________________________________________________________________\n"
          ]
        },
        {
          "output_type": "stream",
          "name": "stderr",
          "text": [
            "100%|██████████| 16/16 [00:08<00:00,  1.83it/s]\n"
          ]
        },
        {
          "output_type": "stream",
          "name": "stdout",
          "text": [
            "Training Loss: 0.003094815998338163, \n",
            " Training perplexity: 1.0030996098854938\n",
            "___________________________________________________________________________\n",
            "EPOCH: 95\n",
            "Total Steps: 1504\n",
            "___________________________________________________________________________\n"
          ]
        },
        {
          "output_type": "stream",
          "name": "stderr",
          "text": [
            "100%|██████████| 16/16 [00:08<00:00,  1.81it/s]\n"
          ]
        },
        {
          "output_type": "stream",
          "name": "stdout",
          "text": [
            "Training Loss: 0.00312476851104293, \n",
            " Training perplexity: 1.0031296556892744\n",
            "___________________________________________________________________________\n",
            "EPOCH: 96\n",
            "Total Steps: 1520\n",
            "___________________________________________________________________________\n"
          ]
        },
        {
          "output_type": "stream",
          "name": "stderr",
          "text": [
            "100%|██████████| 16/16 [00:08<00:00,  1.82it/s]\n"
          ]
        },
        {
          "output_type": "stream",
          "name": "stdout",
          "text": [
            "Training Loss: 0.003021825512405485, \n",
            " Training perplexity: 1.0030263958295267\n",
            "___________________________________________________________________________\n",
            "EPOCH: 97\n",
            "Total Steps: 1536\n",
            "___________________________________________________________________________\n"
          ]
        },
        {
          "output_type": "stream",
          "name": "stderr",
          "text": [
            "100%|██████████| 16/16 [00:08<00:00,  1.82it/s]\n"
          ]
        },
        {
          "output_type": "stream",
          "name": "stdout",
          "text": [
            "Training Loss: 0.0029716700955759734, \n",
            " Training perplexity: 1.0029760898841211\n",
            "___________________________________________________________________________\n",
            "EPOCH: 98\n",
            "Total Steps: 1552\n",
            "___________________________________________________________________________\n"
          ]
        },
        {
          "output_type": "stream",
          "name": "stderr",
          "text": [
            "100%|██████████| 16/16 [00:08<00:00,  1.82it/s]\n"
          ]
        },
        {
          "output_type": "stream",
          "name": "stdout",
          "text": [
            "Training Loss: 0.002815191837726161, \n",
            " Training perplexity: 1.0028191582114288\n",
            "___________________________________________________________________________\n",
            "EPOCH: 99\n",
            "Total Steps: 1568\n",
            "___________________________________________________________________________\n"
          ]
        },
        {
          "output_type": "stream",
          "name": "stderr",
          "text": [
            "100%|██████████| 16/16 [00:08<00:00,  1.81it/s]\n"
          ]
        },
        {
          "output_type": "stream",
          "name": "stdout",
          "text": [
            "Training Loss: 0.002792594736092724, \n",
            " Training perplexity: 1.002796497661023\n",
            "___________________________________________________________________________\n",
            "EPOCH: 100\n",
            "Total Steps: 1584\n",
            "___________________________________________________________________________\n"
          ]
        },
        {
          "output_type": "stream",
          "name": "stderr",
          "text": [
            "100%|██████████| 16/16 [00:08<00:00,  1.81it/s]\n"
          ]
        },
        {
          "output_type": "stream",
          "name": "stdout",
          "text": [
            "\n",
            "Greedy decoding\n",
            "Sample prompt: Good morning America | generated text:  plague. I’m make a speech, I’d leave. Call me the next day.<eos><eos>Donald Trump: (01:01:09)<eos>“Sir, you hav\n",
            "\n",
            "Random decoding\n",
            "Sample prompt: Good morning America | generated text:  life and next year will be the greatest economic year in the history of our country. That’s where w\n",
            "\n",
            "\n",
            "Greedy decoding\n",
            "Sample prompt: Very good | generated text: ratings the other night, a fake report, but the ratings go through the roof.<eos><eos>Donald Trump: (11:35)<eos>\n",
            "\n",
            "Random decoding\n",
            "Sample prompt: Very good | generated text: all over. We have to do it. It’s just we could be a little bit superstitious, right? But you people,\n",
            "\n",
            "\n",
            "Greedy decoding\n",
            "Sample prompt: Donald Trump: | generated text: (01:40:50)<eos>This group over here. They’re an activist group. Thank you very much. Thank you, fellas.<eos>\n",
            "\n",
            "Random decoding\n",
            "Sample prompt: Donald Trump: | generated text: (01:40:40)<eos>And you know what? It was a disaster. He was a disaster. He’s still a disaster actually.<eos>\n",
            "\n",
            "Training Loss: 0.0028944583027623594, \n",
            " Training perplexity: 1.0028986512916969\n"
          ]
        },
        {
          "output_type": "display_data",
          "data": {
            "text/plain": [
              "<Figure size 432x288 with 1 Axes>"
            ],
            "image/png": "[encoded data removed]"
          },
          "metadata": {
            "needs_background": "light"
          }
        },
        {
          "output_type": "display_data",
          "data": {
            "text/plain": [
              "<Figure size 432x288 with 1 Axes>"
            ],
            "image/png": "[encoded data removed]"
          },
          "metadata": {
            "needs_background": "light"
          }
        }
      ],
      "source": [
        "trump_samples = ['Good morning America', 'Very good', 'Donald Trump:']\n",
        "PATH = bonus_path\n",
        "trainer = Trainer(model_parameters = model_parameters, path = PATH, bptt_len = BPTT_LEN, samples = trump_samples)\n",
        "counter(PATH)\n",
        "print(\"Vocab Count: \", len(trainer.train_field.vocab))\n",
        "print(\"Count: \", len(trainer.bptt_iterator))\n",
        "trump_model = trainer.train_model(num_epochs=100)\n",
        "torch.save(trump_model.state_dict(), 'trump_model.pt')"
      ]
    },
    {
      "cell_type": "markdown",
      "source": [
        "# Load Fable and Trump models"
      ],
      "metadata": {
        "id": "i26a5-l_aBLJ"
      }
    },
    {
      "cell_type": "code",
      "source": [
        "# Fable Model\n",
        "PATH = book_path\n",
        "fable_trainer = Trainer(model_parameters = model_parameters, path = PATH, bptt_len = BPTT_LEN, samples = fable_samples)\n",
        "fable_model = fable_trainer.model\n",
        "fable_model.load_state_dict(torch.load('fable_model.pt'))\n",
        "\n",
        "# Trump Model\n",
        "PATH = bonus_path\n",
        "trump_trainer = Trainer(model_parameters = model_parameters, path = PATH, bptt_len = BPTT_LEN, samples = trump_samples)\n",
        "trump_model = trump_trainer.model\n",
        "trump_model.load_state_dict(torch.load('trump_model.pt'))\n"
      ],
      "metadata": {
        "id": "n_aqoSYxaAtA",
        "outputId": "56724671-f0b4-42e5-bd64-ed3004fae0d1",
        "colab": {
          "base_uri": "https://localhost:8080/"
        }
      },
      "execution_count": 8,
      "outputs": [
        {
          "output_type": "execute_result",
          "data": {
            "text/plain": [
              "<All keys matched successfully>"
            ]
          },
          "metadata": {},
          "execution_count": 8
        }
      ]
    },
    {
      "cell_type": "markdown",
      "metadata": {
        "id": "uxxpYCYkGFUy"
      },
      "source": [
        "# Greedy decoding for the fable model"
      ]
    },
    {
      "cell_type": "code",
      "execution_count": 10,
      "metadata": {
        "id": "r4XASfKGGFUz",
        "outputId": "5d34be43-de41-467d-f90a-5f344eaf9c67",
        "colab": {
          "base_uri": "https://localhost:8080/"
        }
      },
      "outputs": [
        {
          "output_type": "stream",
          "name": "stdout",
          "text": [
            "Greedy Decoding\n",
            "A title in the book\n",
            "Sample prompt: THE FOX AND THE LION | generated text: <eos><eos>THE first time the Fox saw the Lion, he was ready to die of fear. The<eos>second time he took courage and could even bear to look upon him. The<eos>third time he had the impudence to come up to him, to salute him, and<eos>to enter into familiar conversation with him.<eos><eos><eos><eos><eos>THE DOG AND HIS SHADOW<eos><eos><eos>A DOG had sto\n",
            "A title in similar style\n",
            "Sample prompt: THE TURTLE AND THE BIRD | generated text: <eos><eos><eos>TWO Women all who had guessed the tree, the Dog indignant, and each plucking<eos>from the Jackdaw his own kind of feathers, they left the proposed king<eos>a plain Jackdaw with no claim to superior beauty.<eos><eos><eos><eos><eos>THE DONKEY AND THE LAP DOG<eos><eos><eos>THERE was once a man who had a Donkey and a little pet Dog. The Do\n",
            "Some texts in similar style\n",
            "Sample prompt: Back in my day | generated text:  and a Fox and was easily to get out of<eos>sight, and fell a prey to the dogs.<eos><eos><eos><eos><eos>THE MONKEY AND THE CAT<eos><eos><eos>A MONKEY and a Cat lived in the same family, and it was hard to tell<eos>which was the greater thief.<eos><eos>One day, as they were roaming together, they spied some chestnuts<eos>roasting in the ashes of a fir\n",
            "Anything Interesting\n",
            "Sample prompt: Dallmayr to go | generated text: when you have once<eos>seen the city you will never be willing to return to this quiet place.”<eos><eos>[Illustration]<eos><eos>After being urged a long time, the Country Mouse at last agreed to go<eos>to the city that very night. So they started off together, and about<eos>midnight came to the great house where the City Mouse\n",
            "Sample prompt: Covid-19 is | generated text: cold and comfort. People are drawn<eos>to me in their need, and they remember me afterward with gratitude. But<eos>you have nothing in you but noise, and you must be struck to make you<eos>give that out. I would not boast so much if I were you.”<eos><eos><eos><eos><eos>THE TWO FROGS<eos><eos><eos>ONCE there were two Frogs who were dear friend\n",
            "Random Decoding\n",
            "A title in the book\n",
            "Sample prompt: THE FOX AND THE LION | generated text: <eos><eos>A LITTLE fox was out playing one day, when a Lion came roaring along.<eos>“Dear me,” said the Fox, as he hid behind a tree, “I never saw a Lion<eos>before. What a terrible creature! His voice makes me tremble.”<eos><eos>The next time the Fox met the Lion he was not so much afraid, but he<eos>kept a great spring and n\n",
            "A title in similar style\n",
            "Sample prompt: THE TURTLE AND THE BIRD | generated text: <eos><eos><eos>TWO Women came the purpose of the fable is not merely to entertain but<eos>especially to point some general truth or to draw a helpful lesson,<eos>no two versions of the same came in and with him and chased the deer.<eos><eos>[Illustration]<eos><eos>At times he would snap at his prey, and at times play with him and<eos>lido\n",
            "Some texts in similar style\n",
            "Sample prompt: Back in my day | generated text:  and a Fox and was easily. Now, if you will<eos>stop quarreling and stand by each other, a should, as the fox and was burned.<eos><eos>“Oh, one you may do not see the difference between us. He was running for his life,<eos>while I was only running for my dinner.”<eos><eos><eos><eos><eos>THE OWL AND THE GRASSHOPPER<eos><eos><eos>AN Owl, who was si\n",
            "Anything Interesting\n",
            "Sample prompt: Dallmayr to go | generated text: when you have once<eos>heer no become so all that which do me all the field where well-proved by what means it<eos>meauthers and hunger, approached with great humility and begged<eos>that they would relieve his necessity with one grain of wheat or rye.<eos>One of the Ants asked him how he had disposed of his time i\n",
            "Sample prompt: Covid-19 is | generated text: creature, that you can<eos>annoy me. This ill language that you are using I regard as coming, not<eos>from you, but from the safe place on which you stand. You would be in a<eos>different mood if you were down here by my side.”<eos><eos><eos><eos><eos>THE GOURD AND THE PINE<eos><eos><eos>A GOURD was once plane in the way that it was not his, \n",
            "Sample prompt: The Angry Turtle was | generated text: on mitter place.<eos><eos>              To growing and this time in every way to a good grace from the<eos>country house, and could even bear to look upon him. The<eos>third time he had the impudence to come up to him, to salute him, and<eos>to enter into familiar conversation with him.<eos><eos><eos><eos><eos>THE DOG AND HIS SHADOW<eos><eos><eos>A D\n",
            "Greedy Decoding\n",
            "A title in the book\n",
            "Sample prompt:   | generated text:                                                                                                                                                                                                                                                                                                             \n",
            "A title in similar style\n",
            "Sample prompt: A very nice day | generated text: <eos>The leaves were so large and the flowers and fruit so fair that the<eos>Gourd, comparing them with the slender needles of the Pine, had the<eos>assurance to think itself of greater value in the comparison.<eos><eos>“Why,” said the Gourd, “you have been more years in growing to this<eos>stature than I have been days.”<eos>\n",
            "Sample prompt: I once was | generated text: able to do with them, but left the woods where they lived and<eos>came among men, building her nests in barns and along the eaves of<eos>houses.<eos><eos><eos><eos><eos>THE FARMER AND THE SNAKE<eos><eos><eos>ONE wintry day a Farmer found a Snake lying on the frozen ground, quite<eos>stiff and nearly dead with cold.<eos><eos>In a fit of compassion the\n",
            "Anything Interesting\n",
            "Sample prompt: Birds are flying | generated text: away,<eos>some laughing and others abusing it. The Cuckoo grew angry, and<eos>hastened to the Eagle with a complaint against the birds.<eos><eos>“Have pity on me!” it begged. “I have been appointed Nightingale to<eos>these woods, and yet the birds dare laugh at my singing.”<eos><eos>“My friend,” answered the Eagle, “I am a kin\n",
            "Sample prompt: Coca Cola | generated text: ing on the one<eos>here was any water in it.<eos><eos>When she looked in, she saw that there was water, but that it was so<eos>far from the top that she could not reach it, though she stretched her<eos>neck as far as she could.<eos><eos>She stopped, and thought they might be eaten. Not being able to<eos>reach them, they set to wor\n"
          ]
        }
      ],
      "source": [
        "trainer = fable_trainer\n",
        "#Greedy\n",
        "prompt = 'THE FOX AND THE LION'\n",
        "gen_text = trainer.predict(fable_model,prompt,300)\n",
        "print(\"Greedy Decoding\")\n",
        "print(\"A title in the book\")\n",
        "print(f'Sample prompt: {prompt} | generated text: {gen_text}')\n",
        "\n",
        "#A title which you invent, which is not in the book, but similar in the style.\n",
        "prompt = 'THE TURTLE AND THE BIRD'\n",
        "gen_text = fable_trainer.predict(fable_model,prompt,300)\n",
        "print(\"A title in similar style\")\n",
        "print(f'Sample prompt: {prompt} | generated text: {gen_text}')\n",
        "# Some texts in a similar style.\n",
        "print(\"Some texts in similar style\")\n",
        "prompt = 'Back in my day'\n",
        "gen_text = trainer.predict(fable_model,prompt,300)\n",
        "print(f'Sample prompt: {prompt} | generated text: {gen_text}')\n",
        "#Anything you might find interesting\n",
        "print(\"Anything Interesting\")\n",
        "prompt = 'Dallmayr to go'\n",
        "gen_text = trainer.predict(fable_model,prompt,300)\n",
        "print(f'Sample prompt: {prompt} | generated text: {gen_text}')\n",
        "prompt = 'Covid-19 is'\n",
        "gen_text = trainer.predict(fable_model,prompt,300)\n",
        "print(f'Sample prompt: {prompt} | generated text: {gen_text}')\n",
        "#Multinomial\n",
        "print(\"Random Decoding\")\n",
        "print(\"A title in the book\")\n",
        "prompt = 'THE FOX AND THE LION'\n",
        "gen_text = trainer.predict(fable_model,prompt,300,method=\"random\")\n",
        "print(f'Sample prompt: {prompt} | generated text: {gen_text}')\n",
        "#A title which you invent, which is not in the book, but similar in the style.\n",
        "print(\"A title in similar style\")\n",
        "prompt = 'THE TURTLE AND THE BIRD'\n",
        "gen_text = trainer.predict(fable_model,prompt,300,method=\"random\")\n",
        "print(f'Sample prompt: {prompt} | generated text: {gen_text}')\n",
        "# Some texts in a similar style.\n",
        "print(\"Some texts in similar style\")\n",
        "prompt = 'Back in my day'\n",
        "gen_text = trainer.predict(fable_model,prompt,300,method=\"random\")\n",
        "print(f'Sample prompt: {prompt} | generated text: {gen_text}')\n",
        "#Anything you might find interesting\n",
        "print(\"Anything Interesting\")\n",
        "prompt = 'Dallmayr to go'\n",
        "gen_text = trainer.predict(fable_model,prompt,300,method=\"random\")\n",
        "print(f'Sample prompt: {prompt} | generated text: {gen_text}')\n",
        "prompt = 'Covid-19 is'\n",
        "gen_text = trainer.predict(fable_model,prompt,300,method=\"random\")\n",
        "print(f'Sample prompt: {prompt} | generated text: {gen_text}')\n",
        "prompt = 'The Angry Turtle was'\n",
        "gen_text = trainer.predict(fable_model,prompt,300,method=\"random\")\n",
        "print(f'Sample prompt: {prompt} | generated text: {gen_text}')\n",
        "\n",
        "#Greedy\n",
        "print(\"Greedy Decoding\")\n",
        "\n",
        "prompt = ' '\n",
        "gen_text = trainer.predict(fable_model,prompt,300)\n",
        "print(\"A title in the book\")\n",
        "print(f'Sample prompt: {prompt} | generated text: {gen_text}')\n",
        "#A title which you invent, which is not in the book, but similar in the style.\n",
        "prompt = 'A very nice day'\n",
        "gen_text = trainer.predict(fable_model,prompt,300)\n",
        "print(\"A title in similar style\")\n",
        "print(f'Sample prompt: {prompt} | generated text: {gen_text}')\n",
        "# Some texts in a similar style.\n",
        "prompt = 'I once was'\n",
        "gen_text = trainer.predict(fable_model,prompt,300)\n",
        "print(f'Sample prompt: {prompt} | generated text: {gen_text}')\n",
        "#Anything you might find interesting\n",
        "print(\"Anything Interesting\")\n",
        "prompt = 'Birds are flying'\n",
        "gen_text = trainer.predict(fable_model,prompt,300)\n",
        "print(f'Sample prompt: {prompt} | generated text: {gen_text}')\n",
        "prompt = 'Coca Cola'\n",
        "gen_text = trainer.predict(fable_model,prompt,300)\n",
        "print(f'Sample prompt: {prompt} | generated text: {gen_text}')\n",
        "#Multinomial\n",
        "\n",
        "\n",
        "\n"
      ]
    },
    {
      "cell_type": "markdown",
      "metadata": {
        "id": "oMM2BNGNGFUz"
      },
      "source": [
        "# Random decoding for the fable model"
      ]
    },
    {
      "cell_type": "code",
      "execution_count": 12,
      "metadata": {
        "id": "6kKgQ-A0GFU0",
        "outputId": "db98ba91-4e05-4a00-915b-9578cb7cf198",
        "colab": {
          "base_uri": "https://localhost:8080/"
        }
      },
      "outputs": [
        {
          "output_type": "stream",
          "name": "stdout",
          "text": [
            "Random Decoding\n",
            "Sample prompt:   | generated text: aid White-whisker; “she is so bold we could not frighten her. I<eos>have thought of something better than that. Let us hang a bell round<eos>her neck. Then, if she moves, the bell will ring, and we shall hear it, it<eos>he saw his mother will nature should not have been, for a year ago I was<eos>not born.”<eos><eos>“Well, \n",
            "Sample prompt: A very nice day | generated text: <eos>I meant, the Dove killed him with others, that it was<eos>not quiet like the pond, and the horses made the water muddy and foul.<eos><eos>One day the Frog from the pond said to the other, “Do come and live<eos>with me; I have plenty of food and water, and nothing to disturb me;<eos>and it is so pleasant in my pond. No\n",
            "Sample prompt: I once was | generated text: my strong rope, proyong<eos>meat, you must have a part of though I but see<eos>the way.”<eos><eos>“Oh, then we may help each other,” said the Lame Man. “If you will take<eos>me on your shoulders, we will seece if I were to place my forelegs inside the tent.”<eos><eos>“You may place your forelegs within the tent,” said the Arab\n",
            "Anything Interesting\n",
            "Sample prompt: Birds are flying | generated text: away,<eos>some laughing and others abusing it. The Cuckoo grew angry, and<eos>hastened to the Eagle with a complaint against the birds.<eos><eos>“Have pity on me!” it begged. “I have been appointed Nightingale to<eos>these woods, and yet the birds dare laugh at my singing.”<eos><eos>“My friend,” answered the Eagle, “I am a kin\n",
            "Sample prompt: Coca Cola | generated text: ing on the house.<eos><eos><eos><eos>       *       *       *       *       *       *       *       *<eos><eos>Gentle, kindly folk sometimes have to learn that kindness must be mixed<eos>with caution.<eos><eos><eos><eos><eos>THE ANTS AND THE GRASSHOPPERS<eos><eos><eos>THE Ants and the Grasshoppers lived together in the great field-.<eos><eos><eos><eos><eos>THE FOX AND THE GRAPE\n",
            "Sample prompt: The Fox | generated text: s and with the meat<eos>in his mouth, as happy as a king.<eos><eos>On the dog’s way there was a stream with a plank across it. As the<eos>water was still and clear, he stopped to take a look at it. What<eos>should he see, as he gazed into its bright depths, but a dog and was out big down to her charges, and<eos>began to pl\n",
            "Sample prompt: The Angry Turtle was | generated text: on made a<eos>breakfast, cried out, “Wolf! Wolf!” tiped at the poor Fly had nothing<eos>along the road. “But you must have some salt,” said the cook.<eos><eos>“Do you think so?” courteously replied the stranger. She gave him the<eos>sun is well up. She tried to for ne: “had you come in.”<eos><eos><eos><eos><eos>THE COCK AND THE JEWEL<eos><eos><eos>“C\n"
          ]
        }
      ],
      "source": [
        "trainer = fable_trainer\n",
        "print(\"Random Decoding\")\n",
        "prompt = ' '\n",
        "gen_text = trainer.predict(fable_model,prompt,300,method=\"random\")\n",
        "print(f'Sample prompt: {prompt} | generated text: {gen_text}')\n",
        "#A title which you invent, which is not in the book, but similar in the style.\n",
        "prompt = 'A very nice day'\n",
        "gen_text = trainer.predict(fable_model,prompt,300,method=\"random\")\n",
        "print(f'Sample prompt: {prompt} | generated text: {gen_text}')\n",
        "# Some texts in a similar style.\n",
        "prompt = 'I once was'\n",
        "gen_text = trainer.predict(fable_model,prompt,300,method=\"random\")\n",
        "print(f'Sample prompt: {prompt} | generated text: {gen_text}')\n",
        "#Anything you might find interesting\"\n",
        "print(\"Anything Interesting\")\n",
        "prompt = 'Birds are flying'\n",
        "gen_text = trainer.predict(fable_model,prompt,300,method=\"random\")\n",
        "print(f'Sample prompt: {prompt} | generated text: {gen_text}')\n",
        "prompt = 'Coca Cola'\n",
        "gen_text = trainer.predict(fable_model,prompt,300,method=\"random\")\n",
        "print(f'Sample prompt: {prompt} | generated text: {gen_text}')\n",
        "prompt = 'The Fox'\n",
        "gen_text = trainer.predict(fable_model,prompt,300,method=\"random\")\n",
        "print(f'Sample prompt: {prompt} | generated text: {gen_text}')\n",
        "\n",
        "prompt = 'The Angry Turtle was'\n",
        "gen_text = trainer.predict(fable_model,prompt,300,method=\"random\")\n",
        "print(f'Sample prompt: {prompt} | generated text: {gen_text}')\n",
        "\n"
      ]
    },
    {
      "cell_type": "markdown",
      "metadata": {
        "id": "YED1sEBHGFU1"
      },
      "source": [
        "# Greedy decoding for the trump model"
      ]
    },
    {
      "cell_type": "code",
      "execution_count": 13,
      "metadata": {
        "id": "OKqZ-BakGFU1",
        "outputId": "260cd825-b611-4deb-862a-d2580b89f991",
        "colab": {
          "base_uri": "https://localhost:8080/"
        }
      },
      "outputs": [
        {
          "output_type": "stream",
          "name": "stdout",
          "text": [
            "Greedy Decoding\n",
            "Sample prompt: Thank You | generated text: for the year. “Where’s Hunter?”<eos><eos>Donald Trump: (01:57:59)<eos>You know where Hunter is? He’s buying vacuum cleaners, because he follows his father and he vacuums in money from every country that his father sees. No, seriously, Ukraine. His father was a judge of Russia, Ukraine, and China. President Obam\n",
            "Sample prompt: Good | generated text:  You know, we have to win both Nebraska’s, you know that right? You have two, you’re cut. We’re going to win both. This election is a choice between the Trump super recovery, which is what we’re having, or a Biden depression, sad to say. And some bad news just came out on Biden. But I won’t tell you\n",
            "Sample prompt: China | generated text: will own the USA. If Biden wins he will do bad things. By the way, he’s not a good guy. Just so you understand.<eos><eos>Donald Trump: (08:20)<eos>Is there any place you would rather be than a Trump rally on about a 10 degree evening? 10 degrees. Yeah, it’s cold out here, but that’s okay. You know, we just left\n",
            "Sample prompt: We have to | generated text: a find on election. The only bad part is I probably wouldn’t be standing out here in the freezing rain with you. I’d be home in the White House, doing whatever the hell I was doing. I wouldn’t be out here. And we’re going to do other great places after this. You know that, right? This is stop number\n"
          ]
        }
      ],
      "source": [
        "trainer = trump_trainer\n",
        "#Greedy\n",
        "prompt = 'Thank You'\n",
        "gen_text = trainer.predict(trump_model,prompt,300)\n",
        "print(\"Greedy Decoding\")\n",
        "print(f'Sample prompt: {prompt} | generated text: {gen_text}')\n",
        "#A title which you invent, which is not in the book, but similar in the style.\n",
        "prompt = 'Good'\n",
        "gen_text = trainer.predict(trump_model,prompt,300)\n",
        "print(f'Sample prompt: {prompt} | generated text: {gen_text}')\n",
        "# Some texts in a similar style.\n",
        "prompt = 'China'\n",
        "gen_text = trainer.predict(trump_model,prompt,300)\n",
        "print(f'Sample prompt: {prompt} | generated text: {gen_text}')\n",
        "#Anything you might find interesting\n",
        "prompt = 'We have to'\n",
        "gen_text = trainer.predict(trump_model,prompt,300)\n",
        "print(f'Sample prompt: {prompt} | generated text: {gen_text}')\n"
      ]
    },
    {
      "cell_type": "markdown",
      "metadata": {
        "id": "lbVBsPwsGFU1"
      },
      "source": [
        "# Random decoding for the trump model"
      ]
    },
    {
      "cell_type": "code",
      "execution_count": 14,
      "metadata": {
        "id": "axOZ54UGGFU1",
        "outputId": "0622a2bd-5646-4248-e0fa-5aecf833dab1",
        "colab": {
          "base_uri": "https://localhost:8080/"
        }
      },
      "outputs": [
        {
          "output_type": "stream",
          "name": "stdout",
          "text": [
            "Random Decoding\n",
            "Sample prompt: Thank You | generated text: for the great people of… How many times did he do that? Seven? Standing up for the great people of Iowa. “Sir, sir, it’s Michigan.” There’s no recovery from that, right? When you do that, you just walk off the stage, right? I always say the great Winston Churchill, he was a great orator, even if Win\n",
            "Sample prompt: Good | generated text:  Thank you. Thank you. Thank you must more things to do. I try and stay uninvolved. Going too slowly. “No sir, we’d rather not do anything before the election.” Well they did it to me before, they did during, before, and after. These are bad people, Comey, the worst director in the history of the FB\n",
            "Sample prompt: China | generated text: plague. That’s what I tested positive for. But it was amazing. And it was actually an experience.<eos><eos>Donald Trump: (26:04)<eos>And until I came along, you were supposed to have lifetime immunity. Right? I said, “Well, I’m recovered. I feel great. And I’m immune.” I could jump right into this road. I could\n",
            "Sample prompt: We have to | generated text: finish off here. We have to do it. It’s just we could be a little bit superstitious, right? But you peopl, you will see you that right now. I’m telling you that right now, that if people are, I hate to see where they put boards up on a window, this shouldn’t be that, it shouldn’t be that, but we are\n",
            "Sample prompt:   | generated text: he right to life, and the right to keep and bear arms.<eos><eos>Donald Trump: (43:27)<eos>We will maintain America’s unrivaled military might, and we will ensure peace through strength. We will end surprise medical billing, require price transparency, already signed January 1st, lower drug prices, even more, and we will always protect patients with pre- existing conditions. We will stop the radical indoctrination of our students and restore patriotic education to our schools. We will teach our children to love our country, honor our history and always respect our great American flag. And we will live by the timeless words of our national motto, in God we trust. For years you had a president who apologized for America. Now you have a president who is standing up for America and standing up for the great people of Michigan. See, now Biden would do that, and he’d say for the great people of… How many times did he do that? Seven? Standing up for the great people of Iowa. “Sir, sir, it’s Michigan.” The\n",
            "Sample prompt:   | generated text: 22:49)<eos>Doesn’t he deserve some credit for that? It’s better. The USMCA is better than NAFTA.<eos><eos>Joe Biden: (22:53)<eos>It is better than NAFTA.<eos><eos>Joe Biden: (22:57)<eos>I have never said I oppose fracking.<eos><eos>Donald Trump: (23:01)<eos>You said it on tape.<eos><eos>Joe Biden: (23:02)<eos>I did … Show the tape, put it on your website.<eos><eos>Donald Trump: (23:05)<eos>I’ll put it on.<eos><eos>Joe Biden: (23:05)<eos>Put it on the website.<eos><eos>Dana Bash: (23:08)<eos>Would there be any place for fossil fuels, including coal and fracking in a Biden administration?<eos><eos>Joe Biden: (23:15)<eos>No, we would work it out. We would make sure it’s eliminated. I guaranteed we’re going to end fossil fuel. No more, no new fracking. I’d gradually move away from fracking.<eos><eos>Kamala Harris: (23:28)<eos>And I think it’s critically important on day one that we end any fossil fuel leases on public lands.<eos><eos>Speaker 2: (23:35)<eos>What about states stopping fracking and stopping pipeline infrastructure?<eos><eos>Joe Biden: (23:39)<eos>Yeah. New pipeline, exactly.<eos><eos>Kamala Harris: (23:41)<eos>There’s no\n",
            "Something not in the text\n"
          ]
        }
      ],
      "source": [
        "trainer = trump_trainer\n",
        "\n",
        "print(\"Random Decoding\")\n",
        "prompt = 'Thank You'\n",
        "gen_text = trainer.predict(trump_model,prompt,300,method=\"random\")\n",
        "print(f'Sample prompt: {prompt} | generated text: {gen_text}')\n",
        "#A title which you invent, which is not in the book, but similar in the style.\n",
        "prompt = 'Good'\n",
        "gen_text = trainer.predict(trump_model,prompt,300,method=\"random\")\n",
        "print(f'Sample prompt: {prompt} | generated text: {gen_text}')\n",
        "# Some texts in a similar style.\n",
        "prompt = 'China'\n",
        "gen_text = trainer.predict(trump_model,prompt,300,method=\"random\")\n",
        "print(f'Sample prompt: {prompt} | generated text: {gen_text}')\n",
        "#Anything you might find interesting\n",
        "prompt = 'We have to'\n",
        "gen_text = trainer.predict(trump_model,prompt,300,method=\"random\")\n",
        "print(f'Sample prompt: {prompt} | generated text: {gen_text}')\n",
        "prompt = ' '\n",
        "gen_text = trainer.predict(trump_model,prompt,1000,method=\"greedy\")\n",
        "print(f'Sample prompt: {prompt} | generated text: {gen_text}')\n",
        "prompt = ' '\n",
        "gen_text = trainer.predict(trump_model,prompt,1000,method=\"random\")\n",
        "print(f'Sample prompt: {prompt} | generated text: {gen_text}')\n",
        "print(\"Something not in the text\")"
      ]
    },
    {
      "cell_type": "markdown",
      "metadata": {
        "id": "zhB1N00bGFU2"
      },
      "source": [
        "# Comparing random and greedy for both models"
      ]
    },
    {
      "cell_type": "code",
      "execution_count": 15,
      "metadata": {
        "id": "wijMZenWGFU2",
        "outputId": "b7d03a2a-e93c-4698-fd44-89e6a2bb13af",
        "colab": {
          "base_uri": "https://localhost:8080/"
        }
      },
      "outputs": [
        {
          "output_type": "stream",
          "name": "stdout",
          "text": [
            "Random Decoding\n",
            "Sample prompt: Birds fly high | generated text: up a forest, and made<eos>redy some one to advise.<eos><eos><eos><eos><eos>THE KID AND THE WOLF<eos><eos><eos>A KID coming home alone one night met a big Wolf. “Oh, oh, I know you<eos>will kill me,” said the little Kid; “but please play me a tune, so that<eos>I may have one more dance before I die; I am so fond of dancing.”<eos><eos>“Very well,” said\n",
            "Greedy Decoding\n",
            "Sample prompt: Birds fly high | generated text: up a forest, and made<eos>ready to spring upon him. Away went the stag! and the legs that he had<eos>despised would soon have carried him out of danger; but when he came to<eos>the thick woods, his beautiful antlers, of which he had been so vain,<eos>caught in the branches and held him fast until the lion came up a\n",
            "Sample prompt: <eos> | generated text: and it. She stones that he might<eos>persuade to help her pick up the seeds which the farmer had sown.<eos><eos>By and by the flax sprang up, and the Swallow tried again to persuade<eos>the Birds to pull the young flax before it grew large. But they all<eos>made fun of her caution and let the flax keep growing.<eos><eos>When she saw how heedless all the Birds were, the little field<eos>Mouse, which from grain of the man’s misfortune, he dived to the bottom<eos>of the river, and bringing up a gold’s legs and was kindly<eos>taken that he bade her ask what she would in exchange.<eos><eos>The Bee, who was nursing a private spite for the loss of\n",
            "Sample prompt: <eos> | generated text: and in back and fould.<eos><eos>Persure in put the ill not a bird, and to prove it, called attention to his mouselike head and<eos>ears, which so confused the Weasel that he let the Bat go.<eos><eos>Some time afterward, on another flight, the Bat fell again to the<eos>ground, and another Weasel caught him. On perceiving that the Weasel<eos>thought he was a mouse, the Bat contended that he had wings and<eos>therefore was not a mouse, and was again allowed to go free.<eos><eos><eos><eos><eos>THE FOX AND THE GOAT<eos><eos><eos>A FOX who had fallen into a deep well was casting about to find how he<eos>should get out again. At length a Goat came to the place, and s\n",
            "Sample prompt: THE WOLF AND THE LAMB | generated text: <eos><eos>A WOLF and a Lamb came to a running brook to quench their thirst. The<eos>Wolf stood high up the stream and the Lamb a little distance below.<eos>Having made up his mind to seize the Lamb, the Stork urged<eos>that he was neither goose nor crane but a poor, harmless Stork, who<eos>performed his duty to his parents as well as ever he could think of<eos>that was pleasant to see; and the Frog invited the Mouse to go home<eos>with him and see all the beautiful things that are under the water.<eos><eos>“Can you swim?” asked the Frog.<eos><eos>“Not much,” said the Mouse.<eos><eos>[Illustration]<eos><eos>“No matter,” said the Frog; “I will tie your foot to my foot with a<eos>piece of this strong grass, and then I can pull you along nicely.” The<eos>Frog laughed as he said this. He thought it would be good fun for him,<eos>but he well knew that the Mouse would not enjoy it.<eos><eos>When the Frog had tied the Mouse’s foot to his own, they started<eos>together across the meadow. They soon came to the edge of the water,<eos>and the Frog jumped in, pulling the Mouse in with him\n",
            "Sample prompt: THE WOLF AND THE LAMB | generated text: <eos><eos>A WOLF and a Lamb came to a running brook to quench their thirst. The<eos>Wolf stood high up the stream and the Lamb a little distance below.<eos>Having made up his mind to seize the Lamb, the Wolf bethought himself<eos>how he might justify his act of violence. Running down to her, he<eos>roared, “How dare you muddle the water so that I cannot drink it?”<eos><eos>The Lamb, affrighted by the charge, humbly replied that she could not<eos>see how that could be, since the water ran down from him to her and not<eos>from her to him. “Be that as it may,” retorted the Wolf. “You are a<eos>rascal, all the same, and I have heard that you said bad things of me<eos>last year behind my back.”<eos><eos>“Nay,” said the Lamb, “that could not have been, for a year ago I was<eos>not born.”<eos><eos>“Well, if it was not you it was your father, and that is all the same,”<eos>replied the Wolf, and he fell upon the Lamb and tore her to pieces.<eos><eos><eos><eos><eos>THE FOX AND THE LION<eos><eos><eos>THE first time the Fox saw the Lion, he was ready to die of fear. The<eos>second time he took courage a\n",
            "Greedy Decoding\n",
            "Sample prompt: President Donald J. Trump:  | generated text: 01:14)<eos>Thank you very much and hello, Kenosha. It’s nice to be back. It’s nice to be back. We spent a little time with you, a little law and order. We brought law and order to Kenosha. Right? That’s what we want. And hello, Wisconsin. Big day, tomorrow, big, big day, big day. And I think we’re going to do very well in Wisconsin just like we did four years ago. And it’s an honor to be with you. Thank you.<eos><eos>Audience: (01:41)<eos>USA! USA! USA! USA!<eos><eos>President Donald J. Trump: (01:51)<eos>And this is a lot of people. This is a lot of people. See, you know what that means? That means we don’t have to pay \n",
            "Random Decoding\n",
            "Sample prompt: President Donald J. Trump:  | generated text: 01:14)<eos>Thank you very much and hello, Kenosha. It’s nice to be back. It’s nice to be back. We spent a little time with you, a little law and order. We brought law and order to Kenosha. Right? That’s what we want. And hello, Wisconsin. Big day, tomorrow, big, big day, big day. And I think we’re going to do very well in Wisconsin just like we did four years ago. And it’s an honor to be with you. Thank you.<eos><eos>Audience: (01:41)<eos>USA! USA! USA! USA!<eos><eos>President Donald J. Trump: (01:51)<eos>And this like to say this, up the state, right? and I mean, we’re saving the suburbs. This regulation was so horrible\n"
          ]
        }
      ],
      "source": [
        "trainer = fable_trainer\n",
        "print(\"Random Decoding\")\n",
        "prompt = 'Birds fly high'\n",
        "gen_text = trainer.predict(fable_model,prompt,300,method=\"random\")\n",
        "print(f'Sample prompt: {prompt} | generated text: {gen_text}')\n",
        "prompt = 'Birds fly high'\n",
        "print(\"Greedy Decoding\")\n",
        "gen_text = trainer.predict(fable_model,prompt,300,method=\"greedy\")\n",
        "print(f'Sample prompt: {prompt} | generated text: {gen_text}')\n",
        "prompt = '<eos>'\n",
        "gen_text = trainer.predict(fable_model,prompt,600,method=\"random\")\n",
        "print(f'Sample prompt: {prompt} | generated text: {gen_text}')\n",
        "gen_text = trainer.predict(fable_model,prompt,600,method=\"greedy\")\n",
        "print(f'Sample prompt: {prompt} | generated text: {gen_text}')\n",
        "\n",
        "prompt = 'THE WOLF AND THE LAMB'\n",
        "gen_text = trainer.predict(fable_model,prompt,1000,method=\"random\")\n",
        "print(f'Sample prompt: {prompt} | generated text: {gen_text}')\n",
        "prompt = 'THE WOLF AND THE LAMB'\n",
        "gen_text = trainer.predict(fable_model,prompt,1000,method=\"greedy\")\n",
        "print(f'Sample prompt: {prompt} | generated text: {gen_text}')\n",
        "\n",
        "trainer = trump_trainer\n",
        "print(\"Greedy Decoding\")\n",
        "prompt = \"President Donald J. Trump: \"\n",
        "gen_text = trainer.predict(trump_model,prompt,600,method=\"greedy\")\n",
        "print(f'Sample prompt: {prompt} | generated text: {gen_text}')\n",
        "print(\"Random Decoding\")\n",
        "prompt = \"President Donald J. Trump: \"\n",
        "gen_text = trainer.predict(trump_model,prompt,600,method=\"random\")\n",
        "print(f'Sample prompt: {prompt} | generated text: {gen_text}')"
      ]
    },
    {
      "cell_type": "code",
      "source": [],
      "metadata": {
        "id": "RsitEVA3mq20"
      },
      "execution_count": null,
      "outputs": []
    }
  ],
  "metadata": {
    "kernelspec": {
      "display_name": "Python 3.8.3 ('base')",
      "language": "python",
      "name": "python3"
    },
    "language_info": {
      "codemirror_mode": {
        "name": "ipython",
        "version": 3
      },
      "file_extension": ".py",
      "mimetype": "text/x-python",
      "name": "python",
      "nbconvert_exporter": "python",
      "pygments_lexer": "ipython3",
      "version": "3.8.3"
    },
    "orig_nbformat": 4,
    "vscode": {
      "interpreter": {
        "hash": "40d3a090f54c6569ab1632332b64b2c03c39dcf918b08424e98f38b5ae0af88f"
      }
    },
    "colab": {
      "provenance": []
    },
    "accelerator": "GPU"
  },
  "nbformat": 4,
  "nbformat_minor": 0
}