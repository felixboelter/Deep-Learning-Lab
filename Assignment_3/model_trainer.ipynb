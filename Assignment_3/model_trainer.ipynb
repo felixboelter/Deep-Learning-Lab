{
  "cells": [
    {
      "cell_type": "code",
      "source": [
        "!pip install torchtext==0.10.0"
      ],
      "metadata": {
        "id": "2r8xNK8JGGps",
        "outputId": "18601d0a-2930-4a48-c9ba-126b2d5342f9",
        "colab": {
          "base_uri": "https://localhost:8080/"
        }
      },
      "execution_count": 1,
      "outputs": [
        {
          "output_type": "stream",
          "name": "stdout",
          "text": [
            "Looking in indexes: https://pypi.org/simple, https://us-python.pkg.dev/colab-wheels/public/simple/\n",
            "Collecting torchtext==0.10.0\n",
            "  Downloading torchtext-0.10.0-cp37-cp37m-manylinux1_x86_64.whl (7.6 MB)\n",
            "\u001b[K     |████████████████████████████████| 7.6 MB 36.4 MB/s \n",
            "\u001b[?25hRequirement already satisfied: numpy in /usr/local/lib/python3.7/dist-packages (from torchtext==0.10.0) (1.21.6)\n",
            "Requirement already satisfied: requests in /usr/local/lib/python3.7/dist-packages (from torchtext==0.10.0) (2.23.0)\n",
            "Collecting torch==1.9.0\n",
            "  Downloading torch-1.9.0-cp37-cp37m-manylinux1_x86_64.whl (831.4 MB)\n",
            "\u001b[K     |████████████████████████████████| 831.4 MB 2.6 kB/s \n",
            "\u001b[?25hRequirement already satisfied: tqdm in /usr/local/lib/python3.7/dist-packages (from torchtext==0.10.0) (4.64.1)\n",
            "Requirement already satisfied: typing-extensions in /usr/local/lib/python3.7/dist-packages (from torch==1.9.0->torchtext==0.10.0) (4.1.1)\n",
            "Requirement already satisfied: urllib3!=1.25.0,!=1.25.1,<1.26,>=1.21.1 in /usr/local/lib/python3.7/dist-packages (from requests->torchtext==0.10.0) (1.24.3)\n",
            "Requirement already satisfied: chardet<4,>=3.0.2 in /usr/local/lib/python3.7/dist-packages (from requests->torchtext==0.10.0) (3.0.4)\n",
            "Requirement already satisfied: certifi>=2017.4.17 in /usr/local/lib/python3.7/dist-packages (from requests->torchtext==0.10.0) (2022.6.15)\n",
            "Requirement already satisfied: idna<3,>=2.5 in /usr/local/lib/python3.7/dist-packages (from requests->torchtext==0.10.0) (2.10)\n",
            "Installing collected packages: torch, torchtext\n",
            "  Attempting uninstall: torch\n",
            "    Found existing installation: torch 1.12.1+cu113\n",
            "    Uninstalling torch-1.12.1+cu113:\n",
            "      Successfully uninstalled torch-1.12.1+cu113\n",
            "  Attempting uninstall: torchtext\n",
            "    Found existing installation: torchtext 0.13.1\n",
            "    Uninstalling torchtext-0.13.1:\n",
            "      Successfully uninstalled torchtext-0.13.1\n",
            "\u001b[31mERROR: pip's dependency resolver does not currently take into account all the packages that are installed. This behaviour is the source of the following dependency conflicts.\n",
            "torchvision 0.13.1+cu113 requires torch==1.12.1, but you have torch 1.9.0 which is incompatible.\n",
            "torchaudio 0.12.1+cu113 requires torch==1.12.1, but you have torch 1.9.0 which is incompatible.\u001b[0m\n",
            "Successfully installed torch-1.9.0 torchtext-0.10.0\n"
          ]
        }
      ]
    },
    {
      "cell_type": "code",
      "source": [
        "!git clone https://github.com/felixboelter/Deep-Learning-Lab\n",
        "%cd Deep-Learning-Lab/Assignment_3"
      ],
      "metadata": {
        "id": "zRPvqLjWGGa3",
        "outputId": "ac85f462-91c0-4841-e3da-023bab072f31",
        "colab": {
          "base_uri": "https://localhost:8080/"
        }
      },
      "execution_count": 2,
      "outputs": [
        {
          "output_type": "stream",
          "name": "stdout",
          "text": [
            "Cloning into 'Deep-Learning-Lab'...\n",
            "remote: Enumerating objects: 97, done.\u001b[K\n",
            "remote: Counting objects: 100% (97/97), done.\u001b[K\n",
            "remote: Compressing objects: 100% (78/78), done.\u001b[K\n",
            "remote: Total 97 (delta 27), reused 84 (delta 16), pack-reused 0\u001b[K\n",
            "Unpacking objects: 100% (97/97), done.\n",
            "/content/Deep-Learning-Lab/Assignment_3\n"
          ]
        }
      ]
    },
    {
      "cell_type": "markdown",
      "metadata": {
        "id": "SVXdUxCGGFUo"
      },
      "source": [
        "# Imports"
      ]
    },
    {
      "cell_type": "code",
      "execution_count": 14,
      "metadata": {
        "id": "3YzLHKS8GFUs"
      },
      "outputs": [],
      "source": [
        "import torch\n",
        "import torch.nn as nn\n",
        "import torch.optim as optim\n",
        "import os\n",
        "import numpy as np\n",
        "from torchtext.legacy.data import Field\n",
        "from torchtext.legacy.datasets import LanguageModelingDataset\n",
        "from torchtext.legacy.data import BPTTIterator\n",
        "from src.model import LSTMModel\n",
        "from src.helper import counter, get_fables\n",
        "import matplotlib.pyplot as plt\n",
        "from tqdm import tqdm"
      ]
    },
    {
      "cell_type": "markdown",
      "source": [
        "# Hyperparameters"
      ],
      "metadata": {
        "id": "GKjbsi9UaNCa"
      }
    },
    {
      "cell_type": "code",
      "source": [
        "BATCH_SIZE = 64\n",
        "EMBEDDING_DIM = 1024\n",
        "HIDDEN_SIZE = 1024\n",
        "LAYERS = 2\n",
        "BPTT_LEN = 256\n",
        "model_parameters = {\n",
        "    'batch_size' : BATCH_SIZE,\n",
        "    'embedding_dim': EMBEDDING_DIM,\n",
        "    'hidden_size': HIDDEN_SIZE,\n",
        "    'num_layers': LAYERS\n",
        "}\n",
        "bonus_path = os.path.join('data', \"donaldtrump.txt\")\n",
        "book_path = os.path.join(os.path.join(\"data\",\"books\"), \"AesopsFables.txt\")"
      ],
      "metadata": {
        "id": "vvY6O70aaMV0"
      },
      "execution_count": 37,
      "outputs": []
    },
    {
      "cell_type": "markdown",
      "metadata": {
        "id": "UmiBZ3zuGFUu"
      },
      "source": [
        "# Training Class"
      ]
    },
    {
      "cell_type": "code",
      "execution_count": 24,
      "metadata": {
        "id": "ywD9xE1BGFUu"
      },
      "outputs": [],
      "source": [
        "class Trainer():\n",
        "    def __init__(self, model_parameters : dict, path : str, bptt_len : int, samples : list):\n",
        "        self.samples = samples\n",
        "        self.device = torch.device(\"cuda:0\" if torch.cuda.is_available() else \"cpu\")\n",
        "        _split_chars = lambda x: list(x) \n",
        "        self.train_field = Field(tokenize=_split_chars ,init_token ='<sos>',eos_token ='<eos>')\n",
        "        train_dataset = LanguageModelingDataset(\n",
        "            path = path,\n",
        "            text_field=self.train_field\n",
        "        )\n",
        "        self.train_field.build_vocab(train_dataset)\n",
        "        self.bptt_iterator = BPTTIterator(\n",
        "            dataset= train_dataset,\n",
        "            batch_size = model_parameters['batch_size'],\n",
        "            bptt_len = bptt_len,\n",
        "            shuffle = False\n",
        "        )\n",
        "        self.model = LSTMModel(**model_parameters, vocab_size = len(self.train_field.vocab)).to(self.device)\n",
        "        self.optimizer = optim.Adam(self.model.parameters(), lr=0.001)\n",
        "\n",
        "        \n",
        "    def predict(self, model : LSTMModel, prompt : str,sequence_length : int, method : str = 'greedy') -> str:\n",
        "        \"\"\"\n",
        "        The function takes in a model, a prompt, a sequence length, and a method. It then generates a\n",
        "        sentence of the specified length using the specified method\n",
        "        \n",
        "        :param model: the model to use for prediction\n",
        "        :type model: LSTMModel\n",
        "        :param prompt: The prompt to start the sentence with\n",
        "        :type prompt: str\n",
        "        :param sequence_length: The length of the generated sequence\n",
        "        :type sequence_length: int\n",
        "        :param method: 'greedy' or 'random', defaults to greedy\n",
        "        :type method: str (optional)\n",
        "        :return: A string of the generated sentence\n",
        "        \"\"\"\n",
        "        model.eval()\n",
        "        generated_sentence=[]\n",
        "        prompt = torch.tensor([self.train_field.vocab.stoi[t] for t in self.train_field.tokenize(prompt)]).long().to(self.device)\n",
        "        hidden = None\n",
        "        Softmax1D = nn.Softmax(dim=1)\n",
        "        if method == 'greedy':\n",
        "            out,hidden=model(prompt.view(-1,1),hidden)\n",
        "            ix = torch.argmax(Softmax1D(out), dim=1)[len(prompt)-1]\n",
        "            for i in range(sequence_length):\n",
        "                out,hidden=model(ix.view(-1,1),hidden)\n",
        "                ix = torch.argmax(Softmax1D(out), dim=1)\n",
        "                generated_sentence.append(self.train_field.vocab.itos[ix])\n",
        "        if method == 'random':\n",
        "            out,hidden=model(prompt.view(-1,1),hidden)\n",
        "            ix = torch.multinomial(Softmax1D(out),1)[len(prompt)-1]\n",
        "            for i in range(sequence_length):\n",
        "                out,hidden=model(ix.view(-1,1),hidden)\n",
        "                ix = torch.multinomial(Softmax1D(out),1)\n",
        "                generated_sentence.append(self.train_field.vocab.itos[ix])\n",
        "        return ''.join(generated_sentence)\n",
        "\n",
        "    def train_model(self, num_epochs : int) -> LSTMModel:\n",
        "        \"\"\"\n",
        "        The function takes in the number of epochs and the model and trains the model for the given\n",
        "        number of epochs\n",
        "        \n",
        "        :param num_epochs: Number of epochs to train for\n",
        "        :return: The model is being returned.\n",
        "        \"\"\"\n",
        "        # vocab_size = \n",
        "        loss_fn = nn.CrossEntropyLoss()\n",
        "        total_steps = 0\n",
        "        loss_plot =[]\n",
        "        perp_plot=[]\n",
        "        for epoch in range(1, num_epochs+1):\n",
        "            cost = 0\n",
        "            num_steps =0\n",
        "            hidden=None\n",
        "            print(\"___________________________________________________________________________\")\n",
        "            print(f\"EPOCH: {epoch}\")\n",
        "            print(f'Total Steps: {total_steps}')\n",
        "            print(\"___________________________________________________________________________\")\n",
        "            for batch in tqdm(self.bptt_iterator):\n",
        "                self.model.train()\n",
        "                self.optimizer.zero_grad()\n",
        "                output, hidden = self.model(batch.text.to(self.device),hidden)\n",
        "                hidden = (hidden[0].detach(), hidden[1].detach())\n",
        "                targets = batch.target\n",
        "                targets = targets.view(targets.shape[0]*targets.shape[1]).to(self.device)\n",
        "                out = output.view(-1, self.model.vocab_size)\n",
        "                loss = loss_fn(out,targets)\n",
        "                cost += loss.item()\n",
        "                num_steps += 1\n",
        "                total_steps+=1\n",
        "                loss.backward()\n",
        "                self.optimizer.step()\n",
        "            if epoch%10==0:\n",
        "                self.model.eval()\n",
        "                for prompt in self.samples:\n",
        "                    print()\n",
        "                    print('Greedy decoding')\n",
        "                    gen_text = self.predict(self.model, prompt, 100)\n",
        "                    print(f'Sample prompt: {prompt} | generated text: {gen_text}')\n",
        "                    print()\n",
        "                    print('Random decoding')\n",
        "                    gen_text = self.predict(self.model, prompt, 100, method='random')\n",
        "                    print(f'Sample prompt: {prompt} | generated text: {gen_text}')\n",
        "                    print()\n",
        "\n",
        "            perplexity = np.exp(cost/num_steps)\n",
        "            loss_plot.append(cost/num_steps)\n",
        "            perp_plot.append(perplexity)\n",
        "            print(f\"Training Loss: {cost/num_steps}, \\n Training perplexity: {perplexity}\")\n",
        "        _, ax1 = plt.subplots()\n",
        "        _, ax2 = plt.subplots()\n",
        "        ax1.plot(loss_plot,'coral')\n",
        "        ax1.set_xlabel('Epoch')\n",
        "        ax1.set_ylabel('Loss')\n",
        "        ax1.title.set_text('Train Loss Plot')\n",
        "        ax1.legend([\"Train Loss\"])\n",
        "        ax2.plot(perp_plot,'deepskyblue')\n",
        "        ax2.set_xlabel('Epoch')\n",
        "        ax2.set_ylabel('Loss')\n",
        "        ax2.title.set_text('Train Perplexity Plot')\n",
        "        ax2.legend([\"Train Perplexity\"])\n",
        "        plt.show()\n",
        "        return self.model"
      ]
    },
    {
      "cell_type": "markdown",
      "metadata": {
        "id": "W20rI4jSGFUx"
      },
      "source": [
        "# Train the fable and the trump models"
      ]
    },
    {
      "cell_type": "code",
      "execution_count": 25,
      "metadata": {
        "id": "0Mcc93DPGFUx",
        "outputId": "f92f2be9-d078-4d9c-dbc6-54c8a23b2218",
        "colab": {
          "base_uri": "https://localhost:8080/",
          "height": 1000
        }
      },
      "outputs": [
        {
          "output_type": "stream",
          "name": "stdout",
          "text": [
            "Training on data from: data/books/AesopsFables.txt\n",
            "Fable Analysis\n",
            "Word Count:  5033\n",
            "Line Count:  5033\n",
            "Char Count:  138881\n",
            "Sentence Count:  1880\n",
            "Vocab Count:  108\n",
            "Count:  11\n",
            "___________________________________________________________________________\n",
            "EPOCH: 1\n",
            "Total Steps: 0\n",
            "___________________________________________________________________________\n"
          ]
        },
        {
          "output_type": "stream",
          "name": "stderr",
          "text": [
            "100%|██████████| 11/11 [00:05<00:00,  1.96it/s]\n"
          ]
        },
        {
          "output_type": "stream",
          "name": "stdout",
          "text": [
            "Training Loss: 3.508342244408347, \n",
            " Training perplexity: 33.3928646660972\n",
            "___________________________________________________________________________\n",
            "EPOCH: 2\n",
            "Total Steps: 11\n",
            "___________________________________________________________________________\n"
          ]
        },
        {
          "output_type": "stream",
          "name": "stderr",
          "text": [
            "100%|██████████| 11/11 [00:05<00:00,  1.93it/s]\n"
          ]
        },
        {
          "output_type": "stream",
          "name": "stdout",
          "text": [
            "Training Loss: 2.777178244157271, \n",
            " Training perplexity: 16.073601118460317\n",
            "___________________________________________________________________________\n",
            "EPOCH: 3\n",
            "Total Steps: 22\n",
            "___________________________________________________________________________\n"
          ]
        },
        {
          "output_type": "stream",
          "name": "stderr",
          "text": [
            "100%|██████████| 11/11 [00:05<00:00,  1.88it/s]\n"
          ]
        },
        {
          "output_type": "stream",
          "name": "stdout",
          "text": [
            "Training Loss: 2.413649862462824, \n",
            " Training perplexity: 11.174672822728244\n",
            "___________________________________________________________________________\n",
            "EPOCH: 4\n",
            "Total Steps: 33\n",
            "___________________________________________________________________________\n"
          ]
        },
        {
          "output_type": "stream",
          "name": "stderr",
          "text": [
            "100%|██████████| 11/11 [00:05<00:00,  1.84it/s]\n"
          ]
        },
        {
          "output_type": "stream",
          "name": "stdout",
          "text": [
            "Training Loss: 2.173078927126798, \n",
            " Training perplexity: 8.785291715053017\n",
            "___________________________________________________________________________\n",
            "EPOCH: 5\n",
            "Total Steps: 44\n",
            "___________________________________________________________________________\n"
          ]
        },
        {
          "output_type": "stream",
          "name": "stderr",
          "text": [
            "100%|██████████| 11/11 [00:06<00:00,  1.81it/s]\n"
          ]
        },
        {
          "output_type": "stream",
          "name": "stdout",
          "text": [
            "Training Loss: 1.9946836233139038, \n",
            " Training perplexity: 7.349877330178992\n",
            "___________________________________________________________________________\n",
            "EPOCH: 6\n",
            "Total Steps: 55\n",
            "___________________________________________________________________________\n"
          ]
        },
        {
          "output_type": "stream",
          "name": "stderr",
          "text": [
            "100%|██████████| 11/11 [00:06<00:00,  1.79it/s]\n"
          ]
        },
        {
          "output_type": "stream",
          "name": "stdout",
          "text": [
            "Training Loss: 1.8573272878473455, \n",
            " Training perplexity: 6.406590895297073\n",
            "___________________________________________________________________________\n",
            "EPOCH: 7\n",
            "Total Steps: 66\n",
            "___________________________________________________________________________\n"
          ]
        },
        {
          "output_type": "stream",
          "name": "stderr",
          "text": [
            "100%|██████████| 11/11 [00:06<00:00,  1.82it/s]\n"
          ]
        },
        {
          "output_type": "stream",
          "name": "stdout",
          "text": [
            "Training Loss: 1.7435639121315696, \n",
            " Training perplexity: 5.717684479353002\n",
            "___________________________________________________________________________\n",
            "EPOCH: 8\n",
            "Total Steps: 77\n",
            "___________________________________________________________________________\n"
          ]
        },
        {
          "output_type": "stream",
          "name": "stderr",
          "text": [
            "100%|██████████| 11/11 [00:05<00:00,  1.87it/s]\n"
          ]
        },
        {
          "output_type": "stream",
          "name": "stdout",
          "text": [
            "Training Loss: 1.643246672370217, \n",
            " Training perplexity: 5.1719338580971845\n",
            "___________________________________________________________________________\n",
            "EPOCH: 9\n",
            "Total Steps: 88\n",
            "___________________________________________________________________________\n"
          ]
        },
        {
          "output_type": "stream",
          "name": "stderr",
          "text": [
            "100%|██████████| 11/11 [00:05<00:00,  1.88it/s]\n"
          ]
        },
        {
          "output_type": "stream",
          "name": "stdout",
          "text": [
            "Training Loss: 1.558387203650041, \n",
            " Training perplexity: 4.751152421391351\n",
            "___________________________________________________________________________\n",
            "EPOCH: 10\n",
            "Total Steps: 99\n",
            "___________________________________________________________________________\n"
          ]
        },
        {
          "output_type": "stream",
          "name": "stderr",
          "text": [
            "100%|██████████| 11/11 [00:05<00:00,  1.90it/s]\n"
          ]
        },
        {
          "output_type": "stream",
          "name": "stdout",
          "text": [
            "\n",
            "Greedy decoding\n",
            "Sample prompt: Dogs like best to | generated text: the strong the strong the strong the strong the strong the strong the strong the strong the strong t\n",
            "\n",
            "Random decoding\n",
            "Sample prompt: Dogs like best to | generated text: that younte. Dether,<eos>one and that not onte vaily, but onner sureing the Crane before to mest; I all \n",
            "\n",
            "\n",
            "Greedy decoding\n",
            "Sample prompt: THERE were once some Frogs who lived together | generated text: the strong the strong the strong the strong the strong the strong the strong the strong the strong t\n",
            "\n",
            "Random decoding\n",
            "Sample prompt: THERE were once some Frogs who lived together | generated text:  “I will seom brent these us.<eos><eos><eos><eos><eos><eos>THE WOR'F ANT WA TRLOMA<eos><eos><eos>ONT Fall<eos>his gow that time he went his \n",
            "\n",
            "\n",
            "Greedy decoding\n",
            "Sample prompt: THE WOMAN AND HER HEN | generated text: AND THE FOX<eos><eos><eos>A WOLF and the Fox and the Fox and the Fox and the Fox and the Fox and the Fox and the\n",
            "\n",
            "Random decoding\n",
            "Sample prompt: THE WOMAN AND HER HEN | generated text:  WALE THE HORSO<eos><eos><eos><eos><eos>A THI Criinn on am on with a sell me that<eos>who thisheid. We hose the put the frie\n",
            "\n",
            "Training Loss: 1.4804481267929077, \n",
            " Training perplexity: 4.394914718734514\n",
            "___________________________________________________________________________\n",
            "EPOCH: 11\n",
            "Total Steps: 110\n",
            "___________________________________________________________________________\n"
          ]
        },
        {
          "output_type": "stream",
          "name": "stderr",
          "text": [
            "100%|██████████| 11/11 [00:05<00:00,  1.91it/s]\n"
          ]
        },
        {
          "output_type": "stream",
          "name": "stdout",
          "text": [
            "Training Loss: 1.419391317801042, \n",
            " Training perplexity: 4.134603014918184\n",
            "___________________________________________________________________________\n",
            "EPOCH: 12\n",
            "Total Steps: 121\n",
            "___________________________________________________________________________\n"
          ]
        },
        {
          "output_type": "stream",
          "name": "stderr",
          "text": [
            "100%|██████████| 11/11 [00:05<00:00,  1.91it/s]\n"
          ]
        },
        {
          "output_type": "stream",
          "name": "stdout",
          "text": [
            "Training Loss: 1.357061136852611, \n",
            " Training perplexity: 3.8847597319632077\n",
            "___________________________________________________________________________\n",
            "EPOCH: 13\n",
            "Total Steps: 132\n",
            "___________________________________________________________________________\n"
          ]
        },
        {
          "output_type": "stream",
          "name": "stderr",
          "text": [
            "100%|██████████| 11/11 [00:05<00:00,  1.92it/s]\n"
          ]
        },
        {
          "output_type": "stream",
          "name": "stdout",
          "text": [
            "Training Loss: 1.308378978209062, \n",
            " Training perplexity: 3.7001707906095618\n",
            "___________________________________________________________________________\n",
            "EPOCH: 14\n",
            "Total Steps: 143\n",
            "___________________________________________________________________________\n"
          ]
        },
        {
          "output_type": "stream",
          "name": "stderr",
          "text": [
            "100%|██████████| 11/11 [00:05<00:00,  1.91it/s]\n"
          ]
        },
        {
          "output_type": "stream",
          "name": "stdout",
          "text": [
            "Training Loss: 1.2572523572228171, \n",
            " Training perplexity: 3.5157481839559686\n",
            "___________________________________________________________________________\n",
            "EPOCH: 15\n",
            "Total Steps: 154\n",
            "___________________________________________________________________________\n"
          ]
        },
        {
          "output_type": "stream",
          "name": "stderr",
          "text": [
            "100%|██████████| 11/11 [00:05<00:00,  1.91it/s]\n"
          ]
        },
        {
          "output_type": "stream",
          "name": "stdout",
          "text": [
            "Training Loss: 1.2077831788496538, \n",
            " Training perplexity: 3.346058810766518\n",
            "___________________________________________________________________________\n",
            "EPOCH: 16\n",
            "Total Steps: 165\n",
            "___________________________________________________________________________\n"
          ]
        },
        {
          "output_type": "stream",
          "name": "stderr",
          "text": [
            "100%|██████████| 11/11 [00:05<00:00,  1.89it/s]\n"
          ]
        },
        {
          "output_type": "stream",
          "name": "stdout",
          "text": [
            "Training Loss: 1.1698520617051558, \n",
            " Training perplexity: 3.221516017687662\n",
            "___________________________________________________________________________\n",
            "EPOCH: 17\n",
            "Total Steps: 176\n",
            "___________________________________________________________________________\n"
          ]
        },
        {
          "output_type": "stream",
          "name": "stderr",
          "text": [
            "100%|██████████| 11/11 [00:05<00:00,  1.88it/s]\n"
          ]
        },
        {
          "output_type": "stream",
          "name": "stdout",
          "text": [
            "Training Loss: 1.127450401132757, \n",
            " Training perplexity: 3.0877738708599978\n",
            "___________________________________________________________________________\n",
            "EPOCH: 18\n",
            "Total Steps: 187\n",
            "___________________________________________________________________________\n"
          ]
        },
        {
          "output_type": "stream",
          "name": "stderr",
          "text": [
            "100%|██████████| 11/11 [00:05<00:00,  1.88it/s]\n"
          ]
        },
        {
          "output_type": "stream",
          "name": "stdout",
          "text": [
            "Training Loss: 1.0917246666821567, \n",
            " Training perplexity: 2.9794081299558886\n",
            "___________________________________________________________________________\n",
            "EPOCH: 19\n",
            "Total Steps: 198\n",
            "___________________________________________________________________________\n"
          ]
        },
        {
          "output_type": "stream",
          "name": "stderr",
          "text": [
            "100%|██████████| 11/11 [00:05<00:00,  1.88it/s]\n"
          ]
        },
        {
          "output_type": "stream",
          "name": "stdout",
          "text": [
            "Training Loss: 1.0562111681157893, \n",
            " Training perplexity: 2.8754557059784647\n",
            "___________________________________________________________________________\n",
            "EPOCH: 20\n",
            "Total Steps: 209\n",
            "___________________________________________________________________________\n"
          ]
        },
        {
          "output_type": "stream",
          "name": "stderr",
          "text": [
            "100%|██████████| 11/11 [00:05<00:00,  1.86it/s]\n"
          ]
        },
        {
          "output_type": "stream",
          "name": "stdout",
          "text": [
            "\n",
            "Greedy decoding\n",
            "Sample prompt: Dogs like best to | generated text: her charges of the work of the same carefully against the work of a little Fox who had no companion \n",
            "\n",
            "Random decoding\n",
            "Sample prompt: Dogs like best to | generated text: first the foot. The Foxes good frightened head one good a<eos>twightin,” he had generowned the other Fwa\n",
            "\n",
            "\n",
            "Greedy decoding\n",
            "Sample prompt: THERE were once some Frogs who lived together | generated text: heart the Fox who had no companion when he was not a good price.<eos><eos>“What good let her good found a fe\n",
            "\n",
            "Random decoding\n",
            "Sample prompt: THERE were once some Frogs who lived together | generated text: feven her against him,<eos>but in sight,” said he;, and he felf gound.<eos><eos><eos><eos><eos>THE HEUND AND EACE<eos><eos><eos>THE GODE\n",
            "\n",
            "\n",
            "Greedy decoding\n",
            "Sample prompt: THE WOMAN AND HER HEN | generated text: <eos><eos>A DOG once had a Fox was a part of the Foxes                                                      \n",
            "\n",
            "Random decoding\n",
            "Sample prompt: THE WOMAN AND HER HEN | generated text: <eos><eos>“DOMY Bear Mercury ow against for his Sheener, and all draw his hard the water carrequences and al\n",
            "\n",
            "Training Loss: 1.0224732919172808, \n",
            " Training perplexity: 2.7800621732121886\n",
            "___________________________________________________________________________\n",
            "EPOCH: 21\n",
            "Total Steps: 220\n",
            "___________________________________________________________________________\n"
          ]
        },
        {
          "output_type": "stream",
          "name": "stderr",
          "text": [
            "100%|██████████| 11/11 [00:05<00:00,  1.86it/s]\n"
          ]
        },
        {
          "output_type": "stream",
          "name": "stdout",
          "text": [
            "Training Loss: 0.9873887571421537, \n",
            " Training perplexity: 2.6842161727847644\n",
            "___________________________________________________________________________\n",
            "EPOCH: 22\n",
            "Total Steps: 231\n",
            "___________________________________________________________________________\n"
          ]
        },
        {
          "output_type": "stream",
          "name": "stderr",
          "text": [
            "100%|██████████| 11/11 [00:05<00:00,  1.86it/s]\n"
          ]
        },
        {
          "output_type": "stream",
          "name": "stdout",
          "text": [
            "Training Loss: 0.9410923448475924, \n",
            " Training perplexity: 2.5627793287047975\n",
            "___________________________________________________________________________\n",
            "EPOCH: 23\n",
            "Total Steps: 242\n",
            "___________________________________________________________________________\n"
          ]
        },
        {
          "output_type": "stream",
          "name": "stderr",
          "text": [
            "100%|██████████| 11/11 [00:05<00:00,  1.88it/s]\n"
          ]
        },
        {
          "output_type": "stream",
          "name": "stdout",
          "text": [
            "Training Loss: 0.8962021524255926, \n",
            " Training perplexity: 2.4502796292353857\n",
            "___________________________________________________________________________\n",
            "EPOCH: 24\n",
            "Total Steps: 253\n",
            "___________________________________________________________________________\n"
          ]
        },
        {
          "output_type": "stream",
          "name": "stderr",
          "text": [
            "100%|██████████| 11/11 [00:05<00:00,  1.90it/s]\n"
          ]
        },
        {
          "output_type": "stream",
          "name": "stdout",
          "text": [
            "Training Loss: 0.8587951280853965, \n",
            " Training perplexity: 2.3603151023870335\n",
            "___________________________________________________________________________\n",
            "EPOCH: 25\n",
            "Total Steps: 264\n",
            "___________________________________________________________________________\n"
          ]
        },
        {
          "output_type": "stream",
          "name": "stderr",
          "text": [
            "100%|██████████| 11/11 [00:05<00:00,  1.89it/s]\n"
          ]
        },
        {
          "output_type": "stream",
          "name": "stdout",
          "text": [
            "Training Loss: 0.8258946646343578, \n",
            " Training perplexity: 2.2839231968592597\n",
            "___________________________________________________________________________\n",
            "EPOCH: 26\n",
            "Total Steps: 275\n",
            "___________________________________________________________________________\n"
          ]
        },
        {
          "output_type": "stream",
          "name": "stderr",
          "text": [
            "100%|██████████| 11/11 [00:05<00:00,  1.89it/s]\n"
          ]
        },
        {
          "output_type": "stream",
          "name": "stdout",
          "text": [
            "Training Loss: 0.7945470268076117, \n",
            " Training perplexity: 2.213438141546818\n",
            "___________________________________________________________________________\n",
            "EPOCH: 27\n",
            "Total Steps: 286\n",
            "___________________________________________________________________________\n"
          ]
        },
        {
          "output_type": "stream",
          "name": "stderr",
          "text": [
            "100%|██████████| 11/11 [00:05<00:00,  1.90it/s]\n"
          ]
        },
        {
          "output_type": "stream",
          "name": "stdout",
          "text": [
            "Training Loss: 0.7577912319790233, \n",
            " Training perplexity: 2.1335584764800486\n",
            "___________________________________________________________________________\n",
            "EPOCH: 28\n",
            "Total Steps: 297\n",
            "___________________________________________________________________________\n"
          ]
        },
        {
          "output_type": "stream",
          "name": "stderr",
          "text": [
            "100%|██████████| 11/11 [00:05<00:00,  1.90it/s]\n"
          ]
        },
        {
          "output_type": "stream",
          "name": "stdout",
          "text": [
            "Training Loss: 0.7117971236055548, \n",
            " Training perplexity: 2.037649878862861\n",
            "___________________________________________________________________________\n",
            "EPOCH: 29\n",
            "Total Steps: 308\n",
            "___________________________________________________________________________\n"
          ]
        },
        {
          "output_type": "stream",
          "name": "stderr",
          "text": [
            "100%|██████████| 11/11 [00:05<00:00,  1.91it/s]\n"
          ]
        },
        {
          "output_type": "stream",
          "name": "stdout",
          "text": [
            "Training Loss: 0.6716824228113348, \n",
            " Training perplexity: 1.957527941414482\n",
            "___________________________________________________________________________\n",
            "EPOCH: 30\n",
            "Total Steps: 319\n",
            "___________________________________________________________________________\n"
          ]
        },
        {
          "output_type": "stream",
          "name": "stderr",
          "text": [
            "100%|██████████| 11/11 [00:05<00:00,  1.89it/s]\n"
          ]
        },
        {
          "output_type": "stream",
          "name": "stdout",
          "text": [
            "\n",
            "Greedy decoding\n",
            "Sample prompt: Dogs like best to | generated text: see what it was.<eos><eos>“Oh, I did not know when you have to save you to stop that you have a good dinner.\n",
            "\n",
            "Random decoding\n",
            "Sample prompt: Dogs like best to | generated text: derive caught down to the<eos>high more<eos>beautiful crying that whoever, but it is get outs,<eos>eared awake t\n",
            "\n",
            "\n",
            "Greedy decoding\n",
            "Sample prompt: THERE were once some Frogs who lived together | generated text: to call upon him. Alate your standing through the strong.”<eos><eos>“I am strong and stood for you.”<eos><eos>“It is\n",
            "\n",
            "Random decoding\n",
            "Sample prompt: THERE were once some Frogs who lived together | generated text:  Not her came to inquite a dinner captive, might be turned to<eos>incum for yoe.” But nivery ax, twentay\n",
            "\n",
            "\n",
            "Greedy decoding\n",
            "Sample prompt: THE WOMAN AND HER HEN | generated text: <eos><eos>A DOG once made a company of a thirsty wise caught in the water and stood under the stronger came \n",
            "\n",
            "Random decoding\n",
            "Sample prompt: THE WOMAN AND HER HEN | generated text: <eos><eos>A CITRAVER Ond having been this many large about you wide sweet alone which she covetted, the<eos>mist\n",
            "\n",
            "Training Loss: 0.6447631499984048, \n",
            " Training perplexity: 1.9055356496977358\n",
            "___________________________________________________________________________\n",
            "EPOCH: 31\n",
            "Total Steps: 330\n",
            "___________________________________________________________________________\n"
          ]
        },
        {
          "output_type": "stream",
          "name": "stderr",
          "text": [
            "100%|██████████| 11/11 [00:05<00:00,  1.90it/s]\n"
          ]
        },
        {
          "output_type": "stream",
          "name": "stdout",
          "text": [
            "Training Loss: 0.6331561045213179, \n",
            " Training perplexity: 1.8835458757841366\n",
            "___________________________________________________________________________\n",
            "EPOCH: 32\n",
            "Total Steps: 341\n",
            "___________________________________________________________________________\n"
          ]
        },
        {
          "output_type": "stream",
          "name": "stderr",
          "text": [
            "100%|██████████| 11/11 [00:05<00:00,  1.90it/s]\n"
          ]
        },
        {
          "output_type": "stream",
          "name": "stdout",
          "text": [
            "Training Loss: 0.6037972298535433, \n",
            " Training perplexity: 1.8290509574634115\n",
            "___________________________________________________________________________\n",
            "EPOCH: 33\n",
            "Total Steps: 352\n",
            "___________________________________________________________________________\n"
          ]
        },
        {
          "output_type": "stream",
          "name": "stderr",
          "text": [
            "100%|██████████| 11/11 [00:05<00:00,  1.91it/s]\n"
          ]
        },
        {
          "output_type": "stream",
          "name": "stdout",
          "text": [
            "Training Loss: 0.5545987324281172, \n",
            " Training perplexity: 1.7412421405658882\n",
            "___________________________________________________________________________\n",
            "EPOCH: 34\n",
            "Total Steps: 363\n",
            "___________________________________________________________________________\n"
          ]
        },
        {
          "output_type": "stream",
          "name": "stderr",
          "text": [
            "100%|██████████| 11/11 [00:05<00:00,  1.89it/s]\n"
          ]
        },
        {
          "output_type": "stream",
          "name": "stdout",
          "text": [
            "Training Loss: 0.5023928609761324, \n",
            " Training perplexity: 1.6526711553670639\n",
            "___________________________________________________________________________\n",
            "EPOCH: 35\n",
            "Total Steps: 374\n",
            "___________________________________________________________________________\n"
          ]
        },
        {
          "output_type": "stream",
          "name": "stderr",
          "text": [
            "100%|██████████| 11/11 [00:05<00:00,  1.89it/s]\n"
          ]
        },
        {
          "output_type": "stream",
          "name": "stdout",
          "text": [
            "Training Loss: 0.4695057543841275, \n",
            " Training perplexity: 1.5992035984920234\n",
            "___________________________________________________________________________\n",
            "EPOCH: 36\n",
            "Total Steps: 385\n",
            "___________________________________________________________________________\n"
          ]
        },
        {
          "output_type": "stream",
          "name": "stderr",
          "text": [
            "100%|██████████| 11/11 [00:05<00:00,  1.89it/s]\n"
          ]
        },
        {
          "output_type": "stream",
          "name": "stdout",
          "text": [
            "Training Loss: 0.46129306879910553, \n",
            " Training perplexity: 1.5861236265181167\n",
            "___________________________________________________________________________\n",
            "EPOCH: 37\n",
            "Total Steps: 396\n",
            "___________________________________________________________________________\n"
          ]
        },
        {
          "output_type": "stream",
          "name": "stderr",
          "text": [
            "100%|██████████| 11/11 [00:05<00:00,  1.88it/s]\n"
          ]
        },
        {
          "output_type": "stream",
          "name": "stdout",
          "text": [
            "Training Loss: 0.4404134750366211, \n",
            " Training perplexity: 1.5533493569303265\n",
            "___________________________________________________________________________\n",
            "EPOCH: 38\n",
            "Total Steps: 407\n",
            "___________________________________________________________________________\n"
          ]
        },
        {
          "output_type": "stream",
          "name": "stderr",
          "text": [
            "100%|██████████| 11/11 [00:05<00:00,  1.89it/s]\n"
          ]
        },
        {
          "output_type": "stream",
          "name": "stdout",
          "text": [
            "Training Loss: 0.40163053436712787, \n",
            " Training perplexity: 1.4942591532729286\n",
            "___________________________________________________________________________\n",
            "EPOCH: 39\n",
            "Total Steps: 418\n",
            "___________________________________________________________________________\n"
          ]
        },
        {
          "output_type": "stream",
          "name": "stderr",
          "text": [
            "100%|██████████| 11/11 [00:05<00:00,  1.88it/s]\n"
          ]
        },
        {
          "output_type": "stream",
          "name": "stdout",
          "text": [
            "Training Loss: 0.3745435286651958, \n",
            " Training perplexity: 1.4543274043074081\n",
            "___________________________________________________________________________\n",
            "EPOCH: 40\n",
            "Total Steps: 429\n",
            "___________________________________________________________________________\n"
          ]
        },
        {
          "output_type": "stream",
          "name": "stderr",
          "text": [
            "100%|██████████| 11/11 [00:05<00:00,  1.89it/s]\n"
          ]
        },
        {
          "output_type": "stream",
          "name": "stdout",
          "text": [
            "\n",
            "Greedy decoding\n",
            "Sample prompt: Dogs like best to | generated text: be real. Dashing down to the pattry that<eos>the proposed the Frog from the pond came to the lattle, his\n",
            "\n",
            "Random decoding\n",
            "Sample prompt: Dogs like best to | generated text: elate.<eos><eos>Please check, a try a latter that the Moon made him at last no<eos>  long feel by a lattlem, tha\n",
            "\n",
            "\n",
            "Greedy decoding\n",
            "Sample prompt: THERE were once some Frogs who lived together | generated text:  they came to the latter, the<eos>Crow opened her mouth to say the Frog from the contest of the<eos>animally\n",
            "\n",
            "Random decoding\n",
            "Sample prompt: THERE were once some Frogs who lived together | generated text:  he rain.<eos><eos>5. The leaf Cat came apoly to you help proceed to say: “I be not to look<eos>to my eat a hol!\n",
            "\n",
            "\n",
            "Greedy decoding\n",
            "Sample prompt: THE WOMAN AND HER HEN | generated text: <eos><eos>A PERTAIN man had the hand on a Lion’s Skin                   19<eos>    The Wolf and the Shepherd    \n",
            "\n",
            "Random decoding\n",
            "Sample prompt: THE WOMAN AND HER HEN | generated text: <eos><eos>A PIGEON who was only a Gallage cherford, Project Gutenberg Literary<eos>Archive Foundation ax proclai\n",
            "\n",
            "Training Loss: 0.3383267332207073, \n",
            " Training perplexity: 1.4025987041385066\n",
            "___________________________________________________________________________\n",
            "EPOCH: 41\n",
            "Total Steps: 440\n",
            "___________________________________________________________________________\n"
          ]
        },
        {
          "output_type": "stream",
          "name": "stderr",
          "text": [
            "100%|██████████| 11/11 [00:05<00:00,  1.88it/s]\n"
          ]
        },
        {
          "output_type": "stream",
          "name": "stdout",
          "text": [
            "Training Loss: 0.3038220541043715, \n",
            " Training perplexity: 1.355027912979518\n",
            "___________________________________________________________________________\n",
            "EPOCH: 42\n",
            "Total Steps: 451\n",
            "___________________________________________________________________________\n"
          ]
        },
        {
          "output_type": "stream",
          "name": "stderr",
          "text": [
            "100%|██████████| 11/11 [00:05<00:00,  1.88it/s]\n"
          ]
        },
        {
          "output_type": "stream",
          "name": "stdout",
          "text": [
            "Training Loss: 0.2867490879514001, \n",
            " Training perplexity: 1.3320899341257806\n",
            "___________________________________________________________________________\n",
            "EPOCH: 43\n",
            "Total Steps: 462\n",
            "___________________________________________________________________________\n"
          ]
        },
        {
          "output_type": "stream",
          "name": "stderr",
          "text": [
            "100%|██████████| 11/11 [00:05<00:00,  1.87it/s]\n"
          ]
        },
        {
          "output_type": "stream",
          "name": "stdout",
          "text": [
            "Training Loss: 0.28380563855171204, \n",
            " Training perplexity: 1.3281747596944833\n",
            "___________________________________________________________________________\n",
            "EPOCH: 44\n",
            "Total Steps: 473\n",
            "___________________________________________________________________________\n"
          ]
        },
        {
          "output_type": "stream",
          "name": "stderr",
          "text": [
            "100%|██████████| 11/11 [00:05<00:00,  1.86it/s]\n"
          ]
        },
        {
          "output_type": "stream",
          "name": "stdout",
          "text": [
            "Training Loss: 0.25537326390093024, \n",
            " Training perplexity: 1.290943393520073\n",
            "___________________________________________________________________________\n",
            "EPOCH: 45\n",
            "Total Steps: 484\n",
            "___________________________________________________________________________\n"
          ]
        },
        {
          "output_type": "stream",
          "name": "stderr",
          "text": [
            "100%|██████████| 11/11 [00:05<00:00,  1.87it/s]\n"
          ]
        },
        {
          "output_type": "stream",
          "name": "stdout",
          "text": [
            "Training Loss: 0.22225111045620657, \n",
            " Training perplexity: 1.248884946561127\n",
            "___________________________________________________________________________\n",
            "EPOCH: 46\n",
            "Total Steps: 495\n",
            "___________________________________________________________________________\n"
          ]
        },
        {
          "output_type": "stream",
          "name": "stderr",
          "text": [
            "100%|██████████| 11/11 [00:05<00:00,  1.87it/s]\n"
          ]
        },
        {
          "output_type": "stream",
          "name": "stdout",
          "text": [
            "Training Loss: 0.2091653821143237, \n",
            " Training perplexity: 1.2326488397452804\n",
            "___________________________________________________________________________\n",
            "EPOCH: 47\n",
            "Total Steps: 506\n",
            "___________________________________________________________________________\n"
          ]
        },
        {
          "output_type": "stream",
          "name": "stderr",
          "text": [
            "100%|██████████| 11/11 [00:05<00:00,  1.87it/s]\n"
          ]
        },
        {
          "output_type": "stream",
          "name": "stdout",
          "text": [
            "Training Loss: 0.20736240663311697, \n",
            " Training perplexity: 1.2304284064052173\n",
            "___________________________________________________________________________\n",
            "EPOCH: 48\n",
            "Total Steps: 517\n",
            "___________________________________________________________________________\n"
          ]
        },
        {
          "output_type": "stream",
          "name": "stderr",
          "text": [
            "100%|██████████| 11/11 [00:05<00:00,  1.88it/s]\n"
          ]
        },
        {
          "output_type": "stream",
          "name": "stdout",
          "text": [
            "Training Loss: 0.19649037312377582, \n",
            " Training perplexity: 1.2171236037235118\n",
            "___________________________________________________________________________\n",
            "EPOCH: 49\n",
            "Total Steps: 528\n",
            "___________________________________________________________________________\n"
          ]
        },
        {
          "output_type": "stream",
          "name": "stderr",
          "text": [
            "100%|██████████| 11/11 [00:05<00:00,  1.86it/s]\n"
          ]
        },
        {
          "output_type": "stream",
          "name": "stdout",
          "text": [
            "Training Loss: 0.17305733398957687, \n",
            " Training perplexity: 1.188934269474959\n",
            "___________________________________________________________________________\n",
            "EPOCH: 50\n",
            "Total Steps: 539\n",
            "___________________________________________________________________________\n"
          ]
        },
        {
          "output_type": "stream",
          "name": "stderr",
          "text": [
            "100%|██████████| 11/11 [00:05<00:00,  1.89it/s]\n"
          ]
        },
        {
          "output_type": "stream",
          "name": "stdout",
          "text": [
            "\n",
            "Greedy decoding\n",
            "Sample prompt: Dogs like best to | generated text: earnest and many assisted the Horse, and will come up and said, “Thank<eos>you must expect to suffer by \n",
            "\n",
            "Random decoding\n",
            "Sample prompt: Dogs like best to | generated text: provide a replarch for ene to do. Anow use it means of<eos>why I am courty and restore, he lost in the<eos>s\n",
            "\n",
            "\n",
            "Greedy decoding\n",
            "Sample prompt: THERE were once some Frogs who lived together | generated text: in the world. Let others choose when the Fox was abroad, the Horse asked a Moth<eos>to let a bird go. Wh\n",
            "\n",
            "Random decoding\n",
            "Sample prompt: THERE were once some Frogs who lived together | generated text: as long<eos>enough. You must located in the<eos>  Are and hole as see a dog,<eos>and all the first blew a tree, \n",
            "\n",
            "\n",
            "Greedy decoding\n",
            "Sample prompt: THE WOMAN AND HER HEN | generated text: <eos><eos>A THRIFTY Woman kept a Hen to come and help her eat up the forest.<eos><eos>As they fell groaning the Hawk\n",
            "\n",
            "Random decoding\n",
            "Sample prompt: THE WOMAN AND HER HEN | generated text: <eos><eos>A THURS, bITY, one of the gold was the owner of such a bouse who is neither a<eos>piece of cheese out \n",
            "\n",
            "Training Loss: 0.159687571904876, \n",
            " Training perplexity: 1.173144290493784\n",
            "___________________________________________________________________________\n",
            "EPOCH: 51\n",
            "Total Steps: 550\n",
            "___________________________________________________________________________\n"
          ]
        },
        {
          "output_type": "stream",
          "name": "stderr",
          "text": [
            "100%|██████████| 11/11 [00:05<00:00,  1.86it/s]\n"
          ]
        },
        {
          "output_type": "stream",
          "name": "stdout",
          "text": [
            "Training Loss: 0.15600216388702393, \n",
            " Training perplexity: 1.1688287323004596\n",
            "___________________________________________________________________________\n",
            "EPOCH: 52\n",
            "Total Steps: 561\n",
            "___________________________________________________________________________\n"
          ]
        },
        {
          "output_type": "stream",
          "name": "stderr",
          "text": [
            "100%|██████████| 11/11 [00:05<00:00,  1.87it/s]\n"
          ]
        },
        {
          "output_type": "stream",
          "name": "stdout",
          "text": [
            "Training Loss: 0.13591341809792953, \n",
            " Training perplexity: 1.1455827025714824\n",
            "___________________________________________________________________________\n",
            "EPOCH: 53\n",
            "Total Steps: 572\n",
            "___________________________________________________________________________\n"
          ]
        },
        {
          "output_type": "stream",
          "name": "stderr",
          "text": [
            "100%|██████████| 11/11 [00:05<00:00,  1.87it/s]\n"
          ]
        },
        {
          "output_type": "stream",
          "name": "stdout",
          "text": [
            "Training Loss: 0.11354356733235446, \n",
            " Training perplexity: 1.120240693727845\n",
            "___________________________________________________________________________\n",
            "EPOCH: 54\n",
            "Total Steps: 583\n",
            "___________________________________________________________________________\n"
          ]
        },
        {
          "output_type": "stream",
          "name": "stderr",
          "text": [
            "100%|██████████| 11/11 [00:05<00:00,  1.88it/s]\n"
          ]
        },
        {
          "output_type": "stream",
          "name": "stdout",
          "text": [
            "Training Loss: 0.09808321500366385, \n",
            " Training perplexity: 1.1030545719796812\n",
            "___________________________________________________________________________\n",
            "EPOCH: 55\n",
            "Total Steps: 594\n",
            "___________________________________________________________________________\n"
          ]
        },
        {
          "output_type": "stream",
          "name": "stderr",
          "text": [
            "100%|██████████| 11/11 [00:05<00:00,  1.87it/s]\n"
          ]
        },
        {
          "output_type": "stream",
          "name": "stdout",
          "text": [
            "Training Loss: 0.08203717625953934, \n",
            " Training perplexity: 1.0854961637665532\n",
            "___________________________________________________________________________\n",
            "EPOCH: 56\n",
            "Total Steps: 605\n",
            "___________________________________________________________________________\n"
          ]
        },
        {
          "output_type": "stream",
          "name": "stderr",
          "text": [
            "100%|██████████| 11/11 [00:05<00:00,  1.88it/s]\n"
          ]
        },
        {
          "output_type": "stream",
          "name": "stdout",
          "text": [
            "Training Loss: 0.06834347783164545, \n",
            " Training perplexity: 1.070733018380484\n",
            "___________________________________________________________________________\n",
            "EPOCH: 57\n",
            "Total Steps: 616\n",
            "___________________________________________________________________________\n"
          ]
        },
        {
          "output_type": "stream",
          "name": "stderr",
          "text": [
            "100%|██████████| 11/11 [00:05<00:00,  1.88it/s]\n"
          ]
        },
        {
          "output_type": "stream",
          "name": "stdout",
          "text": [
            "Training Loss: 0.059456522491845215, \n",
            " Training perplexity: 1.061259619052734\n",
            "___________________________________________________________________________\n",
            "EPOCH: 58\n",
            "Total Steps: 627\n",
            "___________________________________________________________________________\n"
          ]
        },
        {
          "output_type": "stream",
          "name": "stderr",
          "text": [
            "100%|██████████| 11/11 [00:05<00:00,  1.89it/s]\n"
          ]
        },
        {
          "output_type": "stream",
          "name": "stdout",
          "text": [
            "Training Loss: 0.051107781515880066, \n",
            " Training perplexity: 1.052436320352398\n",
            "___________________________________________________________________________\n",
            "EPOCH: 59\n",
            "Total Steps: 638\n",
            "___________________________________________________________________________\n"
          ]
        },
        {
          "output_type": "stream",
          "name": "stderr",
          "text": [
            "100%|██████████| 11/11 [00:05<00:00,  1.89it/s]\n"
          ]
        },
        {
          "output_type": "stream",
          "name": "stdout",
          "text": [
            "Training Loss: 0.04737241633913734, \n",
            " Training perplexity: 1.0485124195343503\n",
            "___________________________________________________________________________\n",
            "EPOCH: 60\n",
            "Total Steps: 649\n",
            "___________________________________________________________________________\n"
          ]
        },
        {
          "output_type": "stream",
          "name": "stderr",
          "text": [
            "100%|██████████| 11/11 [00:05<00:00,  1.87it/s]\n"
          ]
        },
        {
          "output_type": "stream",
          "name": "stdout",
          "text": [
            "\n",
            "Greedy decoding\n",
            "Sample prompt: Dogs like best to | generated text: eat at home, and he<eos>peased to the ice.<eos><eos>No great harm was done; the Fox could easily remedy it. It h\n",
            "\n",
            "Random decoding\n",
            "Sample prompt: Dogs like best to | generated text: eat attempted trademark that the<eos>Poor Mannerstopped downling in the well. “I will return the cock, s\n",
            "\n",
            "\n",
            "Greedy decoding\n",
            "Sample prompt: THERE were once some Frogs who lived together | generated text: <eos><eos>They renewed the Wolf took up the head Frog, and<eos>the Horse was fed with chaff and whatever he migh\n",
            "\n",
            "Random decoding\n",
            "Sample prompt: THERE were once some Frogs who lived together | generated text: in perfect meat in the<eos>world.”<eos><eos>“And so would we,” said the hens. “Nothing can do us good if it is n\n",
            "\n",
            "\n",
            "Greedy decoding\n",
            "Sample prompt: THE WOMAN AND HER HEN | generated text: <eos><eos>A WOMAN had a Hen that laid an egg every day. The eggs were large, and<eos>sold for a good price. The \n",
            "\n",
            "Random decoding\n",
            "Sample prompt: THE WOMAN AND HER HEN | generated text: <eos><eos>A SWARREN once can a dog as to will have sitting there was water,<eos>but that it was even to eat it u\n",
            "\n",
            "Training Loss: 0.04181466658007015, \n",
            " Training perplexity: 1.0427012134602023\n",
            "___________________________________________________________________________\n",
            "EPOCH: 61\n",
            "Total Steps: 660\n",
            "___________________________________________________________________________\n"
          ]
        },
        {
          "output_type": "stream",
          "name": "stderr",
          "text": [
            "100%|██████████| 11/11 [00:05<00:00,  1.90it/s]\n"
          ]
        },
        {
          "output_type": "stream",
          "name": "stdout",
          "text": [
            "Training Loss: 0.03873975642702796, \n",
            " Training perplexity: 1.0394999252714885\n",
            "___________________________________________________________________________\n",
            "EPOCH: 62\n",
            "Total Steps: 671\n",
            "___________________________________________________________________________\n"
          ]
        },
        {
          "output_type": "stream",
          "name": "stderr",
          "text": [
            "100%|██████████| 11/11 [00:05<00:00,  1.90it/s]\n"
          ]
        },
        {
          "output_type": "stream",
          "name": "stdout",
          "text": [
            "Training Loss: 0.033054154704917564, \n",
            " Training perplexity: 1.0336065123813662\n",
            "___________________________________________________________________________\n",
            "EPOCH: 63\n",
            "Total Steps: 682\n",
            "___________________________________________________________________________\n"
          ]
        },
        {
          "output_type": "stream",
          "name": "stderr",
          "text": [
            "100%|██████████| 11/11 [00:05<00:00,  1.90it/s]\n"
          ]
        },
        {
          "output_type": "stream",
          "name": "stdout",
          "text": [
            "Training Loss: 0.03115555406971411, \n",
            " Training perplexity: 1.0316459681346133\n",
            "___________________________________________________________________________\n",
            "EPOCH: 64\n",
            "Total Steps: 693\n",
            "___________________________________________________________________________\n"
          ]
        },
        {
          "output_type": "stream",
          "name": "stderr",
          "text": [
            "100%|██████████| 11/11 [00:05<00:00,  1.89it/s]\n"
          ]
        },
        {
          "output_type": "stream",
          "name": "stdout",
          "text": [
            "Training Loss: 0.029927278276194225, \n",
            " Training perplexity: 1.0303796002481913\n",
            "___________________________________________________________________________\n",
            "EPOCH: 65\n",
            "Total Steps: 704\n",
            "___________________________________________________________________________\n"
          ]
        },
        {
          "output_type": "stream",
          "name": "stderr",
          "text": [
            "100%|██████████| 11/11 [00:05<00:00,  1.90it/s]\n"
          ]
        },
        {
          "output_type": "stream",
          "name": "stdout",
          "text": [
            "Training Loss: 0.029017436572096565, \n",
            " Training perplexity: 1.0294425442677813\n",
            "___________________________________________________________________________\n",
            "EPOCH: 66\n",
            "Total Steps: 715\n",
            "___________________________________________________________________________\n"
          ]
        },
        {
          "output_type": "stream",
          "name": "stderr",
          "text": [
            "100%|██████████| 11/11 [00:05<00:00,  1.89it/s]\n"
          ]
        },
        {
          "output_type": "stream",
          "name": "stdout",
          "text": [
            "Training Loss: 0.027289053255861454, \n",
            " Training perplexity: 1.0276648096951877\n",
            "___________________________________________________________________________\n",
            "EPOCH: 67\n",
            "Total Steps: 726\n",
            "___________________________________________________________________________\n"
          ]
        },
        {
          "output_type": "stream",
          "name": "stderr",
          "text": [
            "100%|██████████| 11/11 [00:05<00:00,  1.89it/s]\n"
          ]
        },
        {
          "output_type": "stream",
          "name": "stdout",
          "text": [
            "Training Loss: 0.025603933767838913, \n",
            " Training perplexity: 1.025934529970703\n",
            "___________________________________________________________________________\n",
            "EPOCH: 68\n",
            "Total Steps: 737\n",
            "___________________________________________________________________________\n"
          ]
        },
        {
          "output_type": "stream",
          "name": "stderr",
          "text": [
            "100%|██████████| 11/11 [00:05<00:00,  1.89it/s]\n"
          ]
        },
        {
          "output_type": "stream",
          "name": "stdout",
          "text": [
            "Training Loss: 0.02528189512139017, \n",
            " Training perplexity: 1.0256041925968815\n",
            "___________________________________________________________________________\n",
            "EPOCH: 69\n",
            "Total Steps: 748\n",
            "___________________________________________________________________________\n"
          ]
        },
        {
          "output_type": "stream",
          "name": "stderr",
          "text": [
            "100%|██████████| 11/11 [00:05<00:00,  1.89it/s]\n"
          ]
        },
        {
          "output_type": "stream",
          "name": "stdout",
          "text": [
            "Training Loss: 0.0259749579497359, \n",
            " Training perplexity: 1.026315247113631\n",
            "___________________________________________________________________________\n",
            "EPOCH: 70\n",
            "Total Steps: 759\n",
            "___________________________________________________________________________\n"
          ]
        },
        {
          "output_type": "stream",
          "name": "stderr",
          "text": [
            "100%|██████████| 11/11 [00:05<00:00,  1.89it/s]\n"
          ]
        },
        {
          "output_type": "stream",
          "name": "stdout",
          "text": [
            "\n",
            "Greedy decoding\n",
            "Sample prompt: Dogs like best to | generated text: advise.<eos><eos>The Man looked up gratefully, but, growing faint with sudden heat, he<eos>quickly flung aside h\n",
            "\n",
            "Random decoding\n",
            "Sample prompt: Dogs like best to | generated text: adge.<eos><eos>He who saw his whick haw are grain and was sure to and amused himself beside it, in a quiet, \n",
            "\n",
            "\n",
            "Greedy decoding\n",
            "Sample prompt: THERE were once some Frogs who lived together | generated text:  in all abore, dispecided with him.<eos><eos><eos><eos><eos>THE DOG AND HIS SHADOW<eos><eos><eos>A DOG had stolen a piece of meat ou\n",
            "\n",
            "Random decoding\n",
            "Sample prompt: THERE were once some Frogs who lived together | generated text:  if you came against the air in head wanted. “Oh, Mother,” they<eos>creatures had no protection from suc\n",
            "\n",
            "\n",
            "Greedy decoding\n",
            "Sample prompt: THE WOMAN AND HER HEN | generated text: <eos><eos>A THRIFTY Woman kept a Hen that could be depended on to lay an egg<eos>every morning. The watchful Wom\n",
            "\n",
            "Random decoding\n",
            "Sample prompt: THE WOMAN AND HER HEN | generated text: <eos><eos>A THRIFTY Woman kept a Hen that could be<eos>defind in a while, and in came a Frog, and taken preserve\n",
            "\n",
            "Training Loss: 0.026828447526151485, \n",
            " Training perplexity: 1.0271915703923549\n",
            "___________________________________________________________________________\n",
            "EPOCH: 71\n",
            "Total Steps: 770\n",
            "___________________________________________________________________________\n"
          ]
        },
        {
          "output_type": "stream",
          "name": "stderr",
          "text": [
            "100%|██████████| 11/11 [00:05<00:00,  1.89it/s]\n"
          ]
        },
        {
          "output_type": "stream",
          "name": "stdout",
          "text": [
            "Training Loss: 0.02584523724561388, \n",
            " Training perplexity: 1.026182121411891\n",
            "___________________________________________________________________________\n",
            "EPOCH: 72\n",
            "Total Steps: 781\n",
            "___________________________________________________________________________\n"
          ]
        },
        {
          "output_type": "stream",
          "name": "stderr",
          "text": [
            "100%|██████████| 11/11 [00:05<00:00,  1.89it/s]\n"
          ]
        },
        {
          "output_type": "stream",
          "name": "stdout",
          "text": [
            "Training Loss: 0.02514085021208633, \n",
            " Training perplexity: 1.0254595465475893\n",
            "___________________________________________________________________________\n",
            "EPOCH: 73\n",
            "Total Steps: 792\n",
            "___________________________________________________________________________\n"
          ]
        },
        {
          "output_type": "stream",
          "name": "stderr",
          "text": [
            "100%|██████████| 11/11 [00:05<00:00,  1.90it/s]\n"
          ]
        },
        {
          "output_type": "stream",
          "name": "stdout",
          "text": [
            "Training Loss: 0.023857568136670372, \n",
            " Training perplexity: 1.0241444367013652\n",
            "___________________________________________________________________________\n",
            "EPOCH: 74\n",
            "Total Steps: 803\n",
            "___________________________________________________________________________\n"
          ]
        },
        {
          "output_type": "stream",
          "name": "stderr",
          "text": [
            "100%|██████████| 11/11 [00:05<00:00,  1.89it/s]\n"
          ]
        },
        {
          "output_type": "stream",
          "name": "stdout",
          "text": [
            "Training Loss: 0.021806363693692467, \n",
            " Training perplexity: 1.0220458601231557\n",
            "___________________________________________________________________________\n",
            "EPOCH: 75\n",
            "Total Steps: 814\n",
            "___________________________________________________________________________\n"
          ]
        },
        {
          "output_type": "stream",
          "name": "stderr",
          "text": [
            "100%|██████████| 11/11 [00:05<00:00,  1.89it/s]\n"
          ]
        },
        {
          "output_type": "stream",
          "name": "stdout",
          "text": [
            "Training Loss: 0.019778105006976562, \n",
            " Training perplexity: 1.019974987571695\n",
            "___________________________________________________________________________\n",
            "EPOCH: 76\n",
            "Total Steps: 825\n",
            "___________________________________________________________________________\n"
          ]
        },
        {
          "output_type": "stream",
          "name": "stderr",
          "text": [
            "100%|██████████| 11/11 [00:05<00:00,  1.89it/s]\n"
          ]
        },
        {
          "output_type": "stream",
          "name": "stdout",
          "text": [
            "Training Loss: 0.01869116435674104, \n",
            " Training perplexity: 1.018866937596851\n",
            "___________________________________________________________________________\n",
            "EPOCH: 77\n",
            "Total Steps: 836\n",
            "___________________________________________________________________________\n"
          ]
        },
        {
          "output_type": "stream",
          "name": "stderr",
          "text": [
            "100%|██████████| 11/11 [00:05<00:00,  1.90it/s]\n"
          ]
        },
        {
          "output_type": "stream",
          "name": "stdout",
          "text": [
            "Training Loss: 0.016825695522129536, \n",
            " Training perplexity: 1.0169680447914973\n",
            "___________________________________________________________________________\n",
            "EPOCH: 78\n",
            "Total Steps: 847\n",
            "___________________________________________________________________________\n"
          ]
        },
        {
          "output_type": "stream",
          "name": "stderr",
          "text": [
            "100%|██████████| 11/11 [00:05<00:00,  1.90it/s]\n"
          ]
        },
        {
          "output_type": "stream",
          "name": "stdout",
          "text": [
            "Training Loss: 0.016264133409342983, \n",
            " Training perplexity: 1.0163971143890729\n",
            "___________________________________________________________________________\n",
            "EPOCH: 79\n",
            "Total Steps: 858\n",
            "___________________________________________________________________________\n"
          ]
        },
        {
          "output_type": "stream",
          "name": "stderr",
          "text": [
            "100%|██████████| 11/11 [00:05<00:00,  1.88it/s]\n"
          ]
        },
        {
          "output_type": "stream",
          "name": "stdout",
          "text": [
            "Training Loss: 0.015260969965972683, \n",
            " Training perplexity: 1.015378013207959\n",
            "___________________________________________________________________________\n",
            "EPOCH: 80\n",
            "Total Steps: 869\n",
            "___________________________________________________________________________\n"
          ]
        },
        {
          "output_type": "stream",
          "name": "stderr",
          "text": [
            "100%|██████████| 11/11 [00:05<00:00,  1.89it/s]\n"
          ]
        },
        {
          "output_type": "stream",
          "name": "stdout",
          "text": [
            "\n",
            "Greedy decoding\n",
            "Sample prompt: Dogs like best to | generated text: eat at home,<eos>and his wood as necessary in replacement copy in doing and wisping him. “If you really \n",
            "\n",
            "Random decoding\n",
            "Sample prompt: Dogs like best to | generated text: eat at home, and<eos>he was sold to a farmer, who made him drag heavy loads.<eos><eos>Since he had not been trai\n",
            "\n",
            "\n",
            "Greedy decoding\n",
            "Sample prompt: THERE were once some Frogs who lived together | generated text: in the Introduction.<eos><eos>No occasion has been found to change in this edition the style of<eos>presentation\n",
            "\n",
            "Random decoding\n",
            "Sample prompt: THERE were once some Frogs who lived together | generated text: in the IS<eos>That so life of Nermins, the Cock thought he was a mousect, and are<eos>redistributing Project\n",
            "\n",
            "\n",
            "Greedy decoding\n",
            "Sample prompt: THE WOMAN AND HER HEN | generated text: <eos><eos>A THRIFTY Woman kept a Hen that could be depended on to lay an egg<eos>every morning. The watchful Wom\n",
            "\n",
            "Random decoding\n",
            "Sample prompt: THE WOMAN AND HER HEN | generated text: <eos><eos>A THRIFTY Woman kept a Hen that could be depended on to lay an egg<eos>every morning. The watchful Wom\n",
            "\n",
            "Training Loss: 0.014586071483790874, \n",
            " Training perplexity: 1.014692967322221\n",
            "___________________________________________________________________________\n",
            "EPOCH: 81\n",
            "Total Steps: 880\n",
            "___________________________________________________________________________\n"
          ]
        },
        {
          "output_type": "stream",
          "name": "stderr",
          "text": [
            "100%|██████████| 11/11 [00:05<00:00,  1.89it/s]\n"
          ]
        },
        {
          "output_type": "stream",
          "name": "stdout",
          "text": [
            "Training Loss: 0.01372996387495236, \n",
            " Training perplexity: 1.0138246526906767\n",
            "___________________________________________________________________________\n",
            "EPOCH: 82\n",
            "Total Steps: 891\n",
            "___________________________________________________________________________\n"
          ]
        },
        {
          "output_type": "stream",
          "name": "stderr",
          "text": [
            "100%|██████████| 11/11 [00:05<00:00,  1.89it/s]\n"
          ]
        },
        {
          "output_type": "stream",
          "name": "stdout",
          "text": [
            "Training Loss: 0.01264099378816106, \n",
            " Training perplexity: 1.0127212288774496\n",
            "___________________________________________________________________________\n",
            "EPOCH: 83\n",
            "Total Steps: 902\n",
            "___________________________________________________________________________\n"
          ]
        },
        {
          "output_type": "stream",
          "name": "stderr",
          "text": [
            "100%|██████████| 11/11 [00:05<00:00,  1.89it/s]\n"
          ]
        },
        {
          "output_type": "stream",
          "name": "stdout",
          "text": [
            "Training Loss: 0.01306751590560783, \n",
            " Training perplexity: 1.0131532690111602\n",
            "___________________________________________________________________________\n",
            "EPOCH: 84\n",
            "Total Steps: 913\n",
            "___________________________________________________________________________\n"
          ]
        },
        {
          "output_type": "stream",
          "name": "stderr",
          "text": [
            "100%|██████████| 11/11 [00:05<00:00,  1.88it/s]\n"
          ]
        },
        {
          "output_type": "stream",
          "name": "stdout",
          "text": [
            "Training Loss: 0.012879453345455906, \n",
            " Training perplexity: 1.0129627507288033\n",
            "___________________________________________________________________________\n",
            "EPOCH: 85\n",
            "Total Steps: 924\n",
            "___________________________________________________________________________\n"
          ]
        },
        {
          "output_type": "stream",
          "name": "stderr",
          "text": [
            "100%|██████████| 11/11 [00:05<00:00,  1.88it/s]\n"
          ]
        },
        {
          "output_type": "stream",
          "name": "stdout",
          "text": [
            "Training Loss: 0.011536436240104113, \n",
            " Training perplexity: 1.0116032375565585\n",
            "___________________________________________________________________________\n",
            "EPOCH: 86\n",
            "Total Steps: 935\n",
            "___________________________________________________________________________\n"
          ]
        },
        {
          "output_type": "stream",
          "name": "stderr",
          "text": [
            "100%|██████████| 11/11 [00:05<00:00,  1.88it/s]\n"
          ]
        },
        {
          "output_type": "stream",
          "name": "stdout",
          "text": [
            "Training Loss: 0.0102853103202175, \n",
            " Training perplexity: 1.0103383859347257\n",
            "___________________________________________________________________________\n",
            "EPOCH: 87\n",
            "Total Steps: 946\n",
            "___________________________________________________________________________\n"
          ]
        },
        {
          "output_type": "stream",
          "name": "stderr",
          "text": [
            "100%|██████████| 11/11 [00:05<00:00,  1.89it/s]\n"
          ]
        },
        {
          "output_type": "stream",
          "name": "stdout",
          "text": [
            "Training Loss: 0.009667126927524805, \n",
            " Training perplexity: 1.009714004534531\n",
            "___________________________________________________________________________\n",
            "EPOCH: 88\n",
            "Total Steps: 957\n",
            "___________________________________________________________________________\n"
          ]
        },
        {
          "output_type": "stream",
          "name": "stderr",
          "text": [
            "100%|██████████| 11/11 [00:05<00:00,  1.89it/s]\n"
          ]
        },
        {
          "output_type": "stream",
          "name": "stdout",
          "text": [
            "Training Loss: 0.009548871269957586, \n",
            " Training perplexity: 1.0095946072008142\n",
            "___________________________________________________________________________\n",
            "EPOCH: 89\n",
            "Total Steps: 968\n",
            "___________________________________________________________________________\n"
          ]
        },
        {
          "output_type": "stream",
          "name": "stderr",
          "text": [
            "100%|██████████| 11/11 [00:05<00:00,  1.89it/s]\n"
          ]
        },
        {
          "output_type": "stream",
          "name": "stdout",
          "text": [
            "Training Loss: 0.010110962627963587, \n",
            " Training perplexity: 1.0101622511235375\n",
            "___________________________________________________________________________\n",
            "EPOCH: 90\n",
            "Total Steps: 979\n",
            "___________________________________________________________________________\n"
          ]
        },
        {
          "output_type": "stream",
          "name": "stderr",
          "text": [
            "100%|██████████| 11/11 [00:05<00:00,  1.89it/s]\n"
          ]
        },
        {
          "output_type": "stream",
          "name": "stdout",
          "text": [
            "\n",
            "Greedy decoding\n",
            "Sample prompt: Dogs like best to | generated text: eat at home, and he went<eos>trick and again, and put the poor broken Tree.<eos><eos>“O Reed,” said the Tree, “h\n",
            "\n",
            "Random decoding\n",
            "Sample prompt: Dogs like best to | generated text: lay that the Fox could never reach her, in<eos>her nest high in the pine tree, flew away with the little\n",
            "\n",
            "\n",
            "Greedy decoding\n",
            "Sample prompt: THERE were once some Frogs who lived together | generated text:  if you will be as well<eos>as it will not to let you go; for no death is too bad for one who is ready t\n",
            "\n",
            "Random decoding\n",
            "Sample prompt: THERE were once some Frogs who lived together | generated text: in the great field. The<eos>Ants were busy all the time gathering a store of grain to lay by for<eos>winter \n",
            "\n",
            "\n",
            "Greedy decoding\n",
            "Sample prompt: THE WOMAN AND HER HEN | generated text: <eos><eos>A THRIFTY Woman kept a Hen that could be depended on to lay an egg<eos>every morning. The watchful Wom\n",
            "\n",
            "Random decoding\n",
            "Sample prompt: THE WOMAN AND HER HEN | generated text: <eos><eos>A THRIFTY Woman kept a Hen that could be depended on to lay an egg<eos>every morning. The watchful Wom\n",
            "\n",
            "Training Loss: 0.010604203255339102, \n",
            " Training perplexity: 1.010660627085565\n",
            "___________________________________________________________________________\n",
            "EPOCH: 91\n",
            "Total Steps: 990\n",
            "___________________________________________________________________________\n"
          ]
        },
        {
          "output_type": "stream",
          "name": "stderr",
          "text": [
            "100%|██████████| 11/11 [00:05<00:00,  1.88it/s]\n"
          ]
        },
        {
          "output_type": "stream",
          "name": "stdout",
          "text": [
            "Training Loss: 0.011015584438361904, \n",
            " Training perplexity: 1.0110764793810099\n",
            "___________________________________________________________________________\n",
            "EPOCH: 92\n",
            "Total Steps: 1001\n",
            "___________________________________________________________________________\n"
          ]
        },
        {
          "output_type": "stream",
          "name": "stderr",
          "text": [
            "100%|██████████| 11/11 [00:05<00:00,  1.88it/s]\n"
          ]
        },
        {
          "output_type": "stream",
          "name": "stdout",
          "text": [
            "Training Loss: 0.011052487968382511, \n",
            " Training perplexity: 1.0111137923607059\n",
            "___________________________________________________________________________\n",
            "EPOCH: 93\n",
            "Total Steps: 1012\n",
            "___________________________________________________________________________\n"
          ]
        },
        {
          "output_type": "stream",
          "name": "stderr",
          "text": [
            "100%|██████████| 11/11 [00:05<00:00,  1.88it/s]\n"
          ]
        },
        {
          "output_type": "stream",
          "name": "stdout",
          "text": [
            "Training Loss: 0.012178348885341124, \n",
            " Training perplexity: 1.0122528069278007\n",
            "___________________________________________________________________________\n",
            "EPOCH: 94\n",
            "Total Steps: 1023\n",
            "___________________________________________________________________________\n"
          ]
        },
        {
          "output_type": "stream",
          "name": "stderr",
          "text": [
            "100%|██████████| 11/11 [00:05<00:00,  1.89it/s]\n"
          ]
        },
        {
          "output_type": "stream",
          "name": "stdout",
          "text": [
            "Training Loss: 0.012556520714001223, \n",
            " Training perplexity: 1.0126356848151152\n",
            "___________________________________________________________________________\n",
            "EPOCH: 95\n",
            "Total Steps: 1034\n",
            "___________________________________________________________________________\n"
          ]
        },
        {
          "output_type": "stream",
          "name": "stderr",
          "text": [
            "100%|██████████| 11/11 [00:05<00:00,  1.88it/s]\n"
          ]
        },
        {
          "output_type": "stream",
          "name": "stdout",
          "text": [
            "Training Loss: 0.013426354832269928, \n",
            " Training perplexity: 1.01351689308009\n",
            "___________________________________________________________________________\n",
            "EPOCH: 96\n",
            "Total Steps: 1045\n",
            "___________________________________________________________________________\n"
          ]
        },
        {
          "output_type": "stream",
          "name": "stderr",
          "text": [
            "100%|██████████| 11/11 [00:05<00:00,  1.88it/s]\n"
          ]
        },
        {
          "output_type": "stream",
          "name": "stdout",
          "text": [
            "Training Loss: 0.014626885764300823, \n",
            " Training perplexity: 1.0147343821307728\n",
            "___________________________________________________________________________\n",
            "EPOCH: 97\n",
            "Total Steps: 1056\n",
            "___________________________________________________________________________\n"
          ]
        },
        {
          "output_type": "stream",
          "name": "stderr",
          "text": [
            "100%|██████████| 11/11 [00:05<00:00,  1.89it/s]\n"
          ]
        },
        {
          "output_type": "stream",
          "name": "stdout",
          "text": [
            "Training Loss: 0.014507814987816593, \n",
            " Training perplexity: 1.0146135641130576\n",
            "___________________________________________________________________________\n",
            "EPOCH: 98\n",
            "Total Steps: 1067\n",
            "___________________________________________________________________________\n"
          ]
        },
        {
          "output_type": "stream",
          "name": "stderr",
          "text": [
            "100%|██████████| 11/11 [00:05<00:00,  1.89it/s]\n"
          ]
        },
        {
          "output_type": "stream",
          "name": "stdout",
          "text": [
            "Training Loss: 0.012411546300758015, \n",
            " Training perplexity: 1.012488889191942\n",
            "___________________________________________________________________________\n",
            "EPOCH: 99\n",
            "Total Steps: 1078\n",
            "___________________________________________________________________________\n"
          ]
        },
        {
          "output_type": "stream",
          "name": "stderr",
          "text": [
            "100%|██████████| 11/11 [00:05<00:00,  1.87it/s]\n"
          ]
        },
        {
          "output_type": "stream",
          "name": "stdout",
          "text": [
            "Training Loss: 0.009825472423637455, \n",
            " Training perplexity: 1.0098739008586082\n",
            "___________________________________________________________________________\n",
            "EPOCH: 100\n",
            "Total Steps: 1089\n",
            "___________________________________________________________________________\n"
          ]
        },
        {
          "output_type": "stream",
          "name": "stderr",
          "text": [
            "100%|██████████| 11/11 [00:05<00:00,  1.88it/s]\n"
          ]
        },
        {
          "output_type": "stream",
          "name": "stdout",
          "text": [
            "\n",
            "Greedy decoding\n",
            "Sample prompt: Dogs like best to | generated text: eat at home,<eos>and his vines were presently destroyed. The simple<eos>fellow learned, when it was too late\n",
            "\n",
            "Random decoding\n",
            "Sample prompt: Dogs like best to | generated text: eat at home,<eos>and finding that her high wis taken by stated that it was<eos>subssight to eat it up. Again\n",
            "\n",
            "\n",
            "Greedy decoding\n",
            "Sample prompt: THERE were once some Frogs who lived together | generated text:  if you will be as desperite to instruct and to be instructed,<eos>he traveled through many countries, a\n",
            "\n",
            "Random decoding\n",
            "Sample prompt: THERE were once some Frogs who lived together | generated text:  if you will be<eos>as to be well.”<eos><eos>“Alas,” said the Father, “if you wish for fine weather, and your si\n",
            "\n",
            "\n",
            "Greedy decoding\n",
            "Sample prompt: THE WOMAN AND HER HEN | generated text: <eos><eos>A THRIFTY Woman kept a Hen that could be depended on to lay an egg<eos>every morning. The watchful Wom\n",
            "\n",
            "Random decoding\n",
            "Sample prompt: THE WOMAN AND HER HEN | generated text: <eos><eos>A TWO man eft them all the attract and tre frost, a council<eos>was called accordingly, to consider th\n",
            "\n",
            "Training Loss: 0.008624717381528833, \n",
            " Training perplexity: 1.008662017413446\n"
          ]
        },
        {
          "output_type": "display_data",
          "data": {
            "text/plain": [
              "<Figure size 432x288 with 1 Axes>"
            ],
            "image/png": "[encoded data removed]"
          },
          "metadata": {
            "needs_background": "light"
          }
        },
        {
          "output_type": "display_data",
          "data": {
            "text/plain": [
              "<Figure size 432x288 with 1 Axes>"
            ],
            "image/png": "[encoded data removed]"
          },
          "metadata": {
            "needs_background": "light"
          }
        }
      ],
      "source": [
        "fable_samples = ['Dogs like best to', 'THERE were once some Frogs who lived together', 'THE WOMAN AND HER HEN']\n",
        "get_fables()\n",
        "PATH = book_path\n",
        "trainer = Trainer(model_parameters = model_parameters, path = PATH, bptt_len = BPTT_LEN, samples = fable_samples)\n",
        "print(f\"Training on data from: {PATH}\")\n",
        "print(\"Fable Analysis\")\n",
        "counter(PATH)\n",
        "print(\"Vocab Count: \", len(trainer.train_field.vocab))\n",
        "print(\"Count: \", len(trainer.bptt_iterator))\n",
        "fable_model = trainer.train_model(num_epochs=100)\n",
        "torch.save(fable_model.state_dict(), 'fable_model.pt')"
      ]
    },
    {
      "cell_type": "code",
      "execution_count": 26,
      "metadata": {
        "id": "pSfdOw1FGFUy",
        "outputId": "96df195d-4e2b-44b2-fcd0-12dd798ff3c2",
        "colab": {
          "base_uri": "https://localhost:8080/",
          "height": 1000
        }
      },
      "outputs": [
        {
          "output_type": "stream",
          "name": "stdout",
          "text": [
            "Word Count:  1785\n",
            "Line Count:  1785\n",
            "Char Count:  212573\n",
            "Sentence Count:  4852\n",
            "Vocab Count:  86\n",
            "Count:  16\n",
            "___________________________________________________________________________\n",
            "EPOCH: 1\n",
            "Total Steps: 0\n",
            "___________________________________________________________________________\n"
          ]
        },
        {
          "output_type": "stream",
          "name": "stderr",
          "text": [
            "100%|██████████| 16/16 [00:08<00:00,  1.89it/s]\n"
          ]
        },
        {
          "output_type": "stream",
          "name": "stdout",
          "text": [
            "Training Loss: 3.2578169256448746, \n",
            " Training perplexity: 25.992731094493536\n",
            "___________________________________________________________________________\n",
            "EPOCH: 2\n",
            "Total Steps: 16\n",
            "___________________________________________________________________________\n"
          ]
        },
        {
          "output_type": "stream",
          "name": "stderr",
          "text": [
            "100%|██████████| 16/16 [00:08<00:00,  1.89it/s]\n"
          ]
        },
        {
          "output_type": "stream",
          "name": "stdout",
          "text": [
            "Training Loss: 2.4094294607639313, \n",
            " Training perplexity: 11.12761059517039\n",
            "___________________________________________________________________________\n",
            "EPOCH: 3\n",
            "Total Steps: 32\n",
            "___________________________________________________________________________\n"
          ]
        },
        {
          "output_type": "stream",
          "name": "stderr",
          "text": [
            "100%|██████████| 16/16 [00:08<00:00,  1.88it/s]\n"
          ]
        },
        {
          "output_type": "stream",
          "name": "stdout",
          "text": [
            "Training Loss: 2.009411871433258, \n",
            " Training perplexity: 7.4589292476944316\n",
            "___________________________________________________________________________\n",
            "EPOCH: 4\n",
            "Total Steps: 48\n",
            "___________________________________________________________________________\n"
          ]
        },
        {
          "output_type": "stream",
          "name": "stderr",
          "text": [
            "100%|██████████| 16/16 [00:08<00:00,  1.88it/s]\n"
          ]
        },
        {
          "output_type": "stream",
          "name": "stdout",
          "text": [
            "Training Loss: 1.7257963865995407, \n",
            " Training perplexity: 5.616992546522555\n",
            "___________________________________________________________________________\n",
            "EPOCH: 5\n",
            "Total Steps: 64\n",
            "___________________________________________________________________________\n"
          ]
        },
        {
          "output_type": "stream",
          "name": "stderr",
          "text": [
            "100%|██████████| 16/16 [00:08<00:00,  1.88it/s]\n"
          ]
        },
        {
          "output_type": "stream",
          "name": "stdout",
          "text": [
            "Training Loss: 1.5247340947389603, \n",
            " Training perplexity: 4.5939218588931885\n",
            "___________________________________________________________________________\n",
            "EPOCH: 6\n",
            "Total Steps: 80\n",
            "___________________________________________________________________________\n"
          ]
        },
        {
          "output_type": "stream",
          "name": "stderr",
          "text": [
            "100%|██████████| 16/16 [00:08<00:00,  1.88it/s]\n"
          ]
        },
        {
          "output_type": "stream",
          "name": "stdout",
          "text": [
            "Training Loss: 1.3823185488581657, \n",
            " Training perplexity: 3.984128323263662\n",
            "___________________________________________________________________________\n",
            "EPOCH: 7\n",
            "Total Steps: 96\n",
            "___________________________________________________________________________\n"
          ]
        },
        {
          "output_type": "stream",
          "name": "stderr",
          "text": [
            "100%|██████████| 16/16 [00:08<00:00,  1.89it/s]\n"
          ]
        },
        {
          "output_type": "stream",
          "name": "stdout",
          "text": [
            "Training Loss: 1.2769896686077118, \n",
            " Training perplexity: 3.5858289283018823\n",
            "___________________________________________________________________________\n",
            "EPOCH: 8\n",
            "Total Steps: 112\n",
            "___________________________________________________________________________\n"
          ]
        },
        {
          "output_type": "stream",
          "name": "stderr",
          "text": [
            "100%|██████████| 16/16 [00:08<00:00,  1.88it/s]\n"
          ]
        },
        {
          "output_type": "stream",
          "name": "stdout",
          "text": [
            "Training Loss: 1.1995025724172592, \n",
            " Training perplexity: 3.3184658156883926\n",
            "___________________________________________________________________________\n",
            "EPOCH: 9\n",
            "Total Steps: 128\n",
            "___________________________________________________________________________\n"
          ]
        },
        {
          "output_type": "stream",
          "name": "stderr",
          "text": [
            "100%|██████████| 16/16 [00:08<00:00,  1.90it/s]\n"
          ]
        },
        {
          "output_type": "stream",
          "name": "stdout",
          "text": [
            "Training Loss: 1.1358468160033226, \n",
            " Training perplexity: 3.1138092502724577\n",
            "___________________________________________________________________________\n",
            "EPOCH: 10\n",
            "Total Steps: 144\n",
            "___________________________________________________________________________\n"
          ]
        },
        {
          "output_type": "stream",
          "name": "stderr",
          "text": [
            "100%|██████████| 16/16 [00:08<00:00,  1.89it/s]\n"
          ]
        },
        {
          "output_type": "stream",
          "name": "stdout",
          "text": [
            "\n",
            "Greedy decoding\n",
            "Sample prompt: Good morning America | generated text:  people that we have to the morning that we have the states of the morning that we want to get the f\n",
            "\n",
            "Random decoding\n",
            "Sample prompt: Good morning America | generated text:  and he was wrong power religious can cover one, we will end from the subpracess very sincely, the l\n",
            "\n",
            "\n",
            "Greedy decoding\n",
            "Sample prompt: Very good | generated text: and we will be the first that we have the states of the morning that we want to get the father we wi\n",
            "\n",
            "Random decoding\n",
            "Sample prompt: Very good | generated text:  I’m renoight from the second watch the very, woke North God 1n, $0,000, U87. It’s a vote the are ar\n",
            "\n",
            "\n",
            "Greedy decoding\n",
            "Sample prompt: Donald Trump: | generated text: (01:01:05)<eos>We have the states of the morning that we want to get the father we will be the first tha\n",
            "\n",
            "Random decoding\n",
            "Sample prompt: Donald Trump: | generated text: (447:01)<eos>Cour you that anyway, I all happening in to me, “on who assuhrouss, “NoV, that’d again, the\n",
            "\n",
            "Training Loss: 1.0791170969605446, \n",
            " Training perplexity: 2.9420808319169955\n",
            "___________________________________________________________________________\n",
            "EPOCH: 11\n",
            "Total Steps: 160\n",
            "___________________________________________________________________________\n"
          ]
        },
        {
          "output_type": "stream",
          "name": "stderr",
          "text": [
            "100%|██████████| 16/16 [00:08<00:00,  1.86it/s]\n"
          ]
        },
        {
          "output_type": "stream",
          "name": "stdout",
          "text": [
            "Training Loss: 1.0281106904149055, \n",
            " Training perplexity: 2.7957787502114844\n",
            "___________________________________________________________________________\n",
            "EPOCH: 12\n",
            "Total Steps: 176\n",
            "___________________________________________________________________________\n"
          ]
        },
        {
          "output_type": "stream",
          "name": "stderr",
          "text": [
            "100%|██████████| 16/16 [00:08<00:00,  1.87it/s]\n"
          ]
        },
        {
          "output_type": "stream",
          "name": "stdout",
          "text": [
            "Training Loss: 0.9814706332981586, \n",
            " Training perplexity: 2.6683775627059982\n",
            "___________________________________________________________________________\n",
            "EPOCH: 13\n",
            "Total Steps: 192\n",
            "___________________________________________________________________________\n"
          ]
        },
        {
          "output_type": "stream",
          "name": "stderr",
          "text": [
            "100%|██████████| 16/16 [00:08<00:00,  1.87it/s]\n"
          ]
        },
        {
          "output_type": "stream",
          "name": "stdout",
          "text": [
            "Training Loss: 0.9433689564466476, \n",
            " Training perplexity: 2.568620428285025\n",
            "___________________________________________________________________________\n",
            "EPOCH: 14\n",
            "Total Steps: 208\n",
            "___________________________________________________________________________\n"
          ]
        },
        {
          "output_type": "stream",
          "name": "stderr",
          "text": [
            "100%|██████████| 16/16 [00:08<00:00,  1.87it/s]\n"
          ]
        },
        {
          "output_type": "stream",
          "name": "stdout",
          "text": [
            "Training Loss: 0.9153436496853828, \n",
            " Training perplexity: 2.4976334153800357\n",
            "___________________________________________________________________________\n",
            "EPOCH: 15\n",
            "Total Steps: 224\n",
            "___________________________________________________________________________\n"
          ]
        },
        {
          "output_type": "stream",
          "name": "stderr",
          "text": [
            "100%|██████████| 16/16 [00:08<00:00,  1.87it/s]\n"
          ]
        },
        {
          "output_type": "stream",
          "name": "stdout",
          "text": [
            "Training Loss: 0.8782270848751068, \n",
            " Training perplexity: 2.40662917262868\n",
            "___________________________________________________________________________\n",
            "EPOCH: 16\n",
            "Total Steps: 240\n",
            "___________________________________________________________________________\n"
          ]
        },
        {
          "output_type": "stream",
          "name": "stderr",
          "text": [
            "100%|██████████| 16/16 [00:08<00:00,  1.87it/s]\n"
          ]
        },
        {
          "output_type": "stream",
          "name": "stdout",
          "text": [
            "Training Loss: 0.8397681787610054, \n",
            " Training perplexity: 2.3158300559557983\n",
            "___________________________________________________________________________\n",
            "EPOCH: 17\n",
            "Total Steps: 256\n",
            "___________________________________________________________________________\n"
          ]
        },
        {
          "output_type": "stream",
          "name": "stderr",
          "text": [
            "100%|██████████| 16/16 [00:08<00:00,  1.87it/s]\n"
          ]
        },
        {
          "output_type": "stream",
          "name": "stdout",
          "text": [
            "Training Loss: 0.810456495732069, \n",
            " Training perplexity: 2.248934381333039\n",
            "___________________________________________________________________________\n",
            "EPOCH: 18\n",
            "Total Steps: 272\n",
            "___________________________________________________________________________\n"
          ]
        },
        {
          "output_type": "stream",
          "name": "stderr",
          "text": [
            "100%|██████████| 16/16 [00:08<00:00,  1.87it/s]\n"
          ]
        },
        {
          "output_type": "stream",
          "name": "stdout",
          "text": [
            "Training Loss: 0.7744087092578411, \n",
            " Training perplexity: 2.1693090555252152\n",
            "___________________________________________________________________________\n",
            "EPOCH: 19\n",
            "Total Steps: 288\n",
            "___________________________________________________________________________\n"
          ]
        },
        {
          "output_type": "stream",
          "name": "stderr",
          "text": [
            "100%|██████████| 16/16 [00:08<00:00,  1.86it/s]\n"
          ]
        },
        {
          "output_type": "stream",
          "name": "stdout",
          "text": [
            "Training Loss: 0.7438667565584183, \n",
            " Training perplexity: 2.1040556761175755\n",
            "___________________________________________________________________________\n",
            "EPOCH: 20\n",
            "Total Steps: 304\n",
            "___________________________________________________________________________\n"
          ]
        },
        {
          "output_type": "stream",
          "name": "stderr",
          "text": [
            "100%|██████████| 16/16 [00:08<00:00,  1.88it/s]\n"
          ]
        },
        {
          "output_type": "stream",
          "name": "stdout",
          "text": [
            "\n",
            "Greedy decoding\n",
            "Sample prompt: Good morning America | generated text: were from the most in the world. And the next morning and we will make America great again. Thank yo\n",
            "\n",
            "Random decoding\n",
            "Sample prompt: Good morning America | generated text: safe, confidence, from I mean, it’s true. Where’s Peterre’s going an ofther strents down now. They d\n",
            "\n",
            "\n",
            "Greedy decoding\n",
            "Sample prompt: Very good | generated text: reasons we’re going to win four more years of President Donald Trump in the history of our country a\n",
            "\n",
            "Random decoding\n",
            "Sample prompt: Very good | generated text: rating, and strung, your drugs and all the insleepy, just mic how the great America and plague on th\n",
            "\n",
            "\n",
            "Greedy decoding\n",
            "Sample prompt: Donald Trump: | generated text: (01:01:08)<eos>I was so badly, they were treated by the way, we’re going to win four more years of Presi\n",
            "\n",
            "Random decoding\n",
            "Sample prompt: Donald Trump: | generated text: (17:00)<eos>She protects want to do it. Because of univerers. You never happened if I am safety going to\n",
            "\n",
            "Training Loss: 0.7141623385250568, \n",
            " Training perplexity: 2.042475062806158\n",
            "___________________________________________________________________________\n",
            "EPOCH: 21\n",
            "Total Steps: 320\n",
            "___________________________________________________________________________\n"
          ]
        },
        {
          "output_type": "stream",
          "name": "stderr",
          "text": [
            "100%|██████████| 16/16 [00:08<00:00,  1.85it/s]\n"
          ]
        },
        {
          "output_type": "stream",
          "name": "stdout",
          "text": [
            "Training Loss: 0.6806976646184921, \n",
            " Training perplexity: 1.975255317375785\n",
            "___________________________________________________________________________\n",
            "EPOCH: 22\n",
            "Total Steps: 336\n",
            "___________________________________________________________________________\n"
          ]
        },
        {
          "output_type": "stream",
          "name": "stderr",
          "text": [
            "100%|██████████| 16/16 [00:08<00:00,  1.87it/s]\n"
          ]
        },
        {
          "output_type": "stream",
          "name": "stdout",
          "text": [
            "Training Loss: 0.6546691060066223, \n",
            " Training perplexity: 1.9245056046620739\n",
            "___________________________________________________________________________\n",
            "EPOCH: 23\n",
            "Total Steps: 352\n",
            "___________________________________________________________________________\n"
          ]
        },
        {
          "output_type": "stream",
          "name": "stderr",
          "text": [
            "100%|██████████| 16/16 [00:08<00:00,  1.86it/s]\n"
          ]
        },
        {
          "output_type": "stream",
          "name": "stdout",
          "text": [
            "Training Loss: 0.62198306620121, \n",
            " Training perplexity: 1.8626180767991363\n",
            "___________________________________________________________________________\n",
            "EPOCH: 24\n",
            "Total Steps: 368\n",
            "___________________________________________________________________________\n"
          ]
        },
        {
          "output_type": "stream",
          "name": "stderr",
          "text": [
            "100%|██████████| 16/16 [00:08<00:00,  1.86it/s]\n"
          ]
        },
        {
          "output_type": "stream",
          "name": "stdout",
          "text": [
            "Training Loss: 0.590885829180479, \n",
            " Training perplexity: 1.805587148975347\n",
            "___________________________________________________________________________\n",
            "EPOCH: 25\n",
            "Total Steps: 384\n",
            "___________________________________________________________________________\n"
          ]
        },
        {
          "output_type": "stream",
          "name": "stderr",
          "text": [
            "100%|██████████| 16/16 [00:08<00:00,  1.87it/s]\n"
          ]
        },
        {
          "output_type": "stream",
          "name": "stdout",
          "text": [
            "Training Loss: 0.560091707855463, \n",
            " Training perplexity: 1.7508330580788138\n",
            "___________________________________________________________________________\n",
            "EPOCH: 26\n",
            "Total Steps: 400\n",
            "___________________________________________________________________________\n"
          ]
        },
        {
          "output_type": "stream",
          "name": "stderr",
          "text": [
            "100%|██████████| 16/16 [00:08<00:00,  1.85it/s]\n"
          ]
        },
        {
          "output_type": "stream",
          "name": "stdout",
          "text": [
            "Training Loss: 0.5390584357082844, \n",
            " Training perplexity: 1.714391891817613\n",
            "___________________________________________________________________________\n",
            "EPOCH: 27\n",
            "Total Steps: 416\n",
            "___________________________________________________________________________\n"
          ]
        },
        {
          "output_type": "stream",
          "name": "stderr",
          "text": [
            "100%|██████████| 16/16 [00:08<00:00,  1.86it/s]\n"
          ]
        },
        {
          "output_type": "stream",
          "name": "stdout",
          "text": [
            "Training Loss: 0.5118969734758139, \n",
            " Training perplexity: 1.6684532063498765\n",
            "___________________________________________________________________________\n",
            "EPOCH: 28\n",
            "Total Steps: 432\n",
            "___________________________________________________________________________\n"
          ]
        },
        {
          "output_type": "stream",
          "name": "stderr",
          "text": [
            "100%|██████████| 16/16 [00:08<00:00,  1.86it/s]\n"
          ]
        },
        {
          "output_type": "stream",
          "name": "stdout",
          "text": [
            "Training Loss: 0.47373875603079796, \n",
            " Training perplexity: 1.6059873777026048\n",
            "___________________________________________________________________________\n",
            "EPOCH: 29\n",
            "Total Steps: 448\n",
            "___________________________________________________________________________\n"
          ]
        },
        {
          "output_type": "stream",
          "name": "stderr",
          "text": [
            "100%|██████████| 16/16 [00:08<00:00,  1.86it/s]\n"
          ]
        },
        {
          "output_type": "stream",
          "name": "stdout",
          "text": [
            "Training Loss: 0.4455697275698185, \n",
            " Training perplexity: 1.5613795034271363\n",
            "___________________________________________________________________________\n",
            "EPOCH: 30\n",
            "Total Steps: 464\n",
            "___________________________________________________________________________\n"
          ]
        },
        {
          "output_type": "stream",
          "name": "stderr",
          "text": [
            "100%|██████████| 16/16 [00:08<00:00,  1.85it/s]\n"
          ]
        },
        {
          "output_type": "stream",
          "name": "stdout",
          "text": [
            "\n",
            "Greedy decoding\n",
            "Sample prompt: Good morning America | generated text: into the manufacturing superpower of the world, all the way down. But he’s a great group of people a\n",
            "\n",
            "Random decoding\n",
            "Sample prompt: Good morning America | generated text:  we are off and a half. I’ll never have been will leaving to the United States will be all achoised \n",
            "\n",
            "\n",
            "Greedy decoding\n",
            "Sample prompt: Very good | generated text:  I want to talk about it. I don’t know. I don’t know. I don’t know. I don’t know. I don’t know. I do\n",
            "\n",
            "Random decoding\n",
            "Sample prompt: Very good | generated text: in jais that fracking? What a good guy. I never even here. I haday that always does that all happene\n",
            "\n",
            "\n",
            "Greedy decoding\n",
            "Sample prompt: Donald Trump: | generated text: (01:21:03)<eos>… all of them, all of them. I don’t want to give him the money at that bad things are hap\n",
            "\n",
            "Random decoding\n",
            "Sample prompt: Donald Trump: | generated text: Young a job you all despred available. I’m place it was will wipe out that walk off. They think here\n",
            "\n",
            "Training Loss: 0.42657019942998886, \n",
            " Training perplexity: 1.5319940682784383\n",
            "___________________________________________________________________________\n",
            "EPOCH: 31\n",
            "Total Steps: 480\n",
            "___________________________________________________________________________\n"
          ]
        },
        {
          "output_type": "stream",
          "name": "stderr",
          "text": [
            "100%|██████████| 16/16 [00:08<00:00,  1.87it/s]\n"
          ]
        },
        {
          "output_type": "stream",
          "name": "stdout",
          "text": [
            "Training Loss: 0.4107594005763531, \n",
            " Training perplexity: 1.5079624980001285\n",
            "___________________________________________________________________________\n",
            "EPOCH: 32\n",
            "Total Steps: 496\n",
            "___________________________________________________________________________\n"
          ]
        },
        {
          "output_type": "stream",
          "name": "stderr",
          "text": [
            "100%|██████████| 16/16 [00:08<00:00,  1.87it/s]\n"
          ]
        },
        {
          "output_type": "stream",
          "name": "stdout",
          "text": [
            "Training Loss: 0.3806584980338812, \n",
            " Training perplexity: 1.4632478180686164\n",
            "___________________________________________________________________________\n",
            "EPOCH: 33\n",
            "Total Steps: 512\n",
            "___________________________________________________________________________\n"
          ]
        },
        {
          "output_type": "stream",
          "name": "stderr",
          "text": [
            "100%|██████████| 16/16 [00:08<00:00,  1.88it/s]\n"
          ]
        },
        {
          "output_type": "stream",
          "name": "stdout",
          "text": [
            "Training Loss: 0.34832954593002796, \n",
            " Training perplexity: 1.4166990402241273\n",
            "___________________________________________________________________________\n",
            "EPOCH: 34\n",
            "Total Steps: 528\n",
            "___________________________________________________________________________\n"
          ]
        },
        {
          "output_type": "stream",
          "name": "stderr",
          "text": [
            "100%|██████████| 16/16 [00:08<00:00,  1.88it/s]\n"
          ]
        },
        {
          "output_type": "stream",
          "name": "stdout",
          "text": [
            "Training Loss: 0.32185858860611916, \n",
            " Training perplexity: 1.3796896583239369\n",
            "___________________________________________________________________________\n",
            "EPOCH: 35\n",
            "Total Steps: 544\n",
            "___________________________________________________________________________\n"
          ]
        },
        {
          "output_type": "stream",
          "name": "stderr",
          "text": [
            "100%|██████████| 16/16 [00:08<00:00,  1.88it/s]\n"
          ]
        },
        {
          "output_type": "stream",
          "name": "stdout",
          "text": [
            "Training Loss: 0.300707483664155, \n",
            " Training perplexity: 1.3508141485354919\n",
            "___________________________________________________________________________\n",
            "EPOCH: 36\n",
            "Total Steps: 560\n",
            "___________________________________________________________________________\n"
          ]
        },
        {
          "output_type": "stream",
          "name": "stderr",
          "text": [
            "100%|██████████| 16/16 [00:08<00:00,  1.88it/s]\n"
          ]
        },
        {
          "output_type": "stream",
          "name": "stdout",
          "text": [
            "Training Loss: 0.28182265162467957, \n",
            " Training perplexity: 1.3255436161330274\n",
            "___________________________________________________________________________\n",
            "EPOCH: 37\n",
            "Total Steps: 576\n",
            "___________________________________________________________________________\n"
          ]
        },
        {
          "output_type": "stream",
          "name": "stderr",
          "text": [
            "100%|██████████| 16/16 [00:08<00:00,  1.87it/s]\n"
          ]
        },
        {
          "output_type": "stream",
          "name": "stdout",
          "text": [
            "Training Loss: 0.2580297365784645, \n",
            " Training perplexity: 1.2943773084043517\n",
            "___________________________________________________________________________\n",
            "EPOCH: 38\n",
            "Total Steps: 592\n",
            "___________________________________________________________________________\n"
          ]
        },
        {
          "output_type": "stream",
          "name": "stderr",
          "text": [
            "100%|██████████| 16/16 [00:08<00:00,  1.88it/s]\n"
          ]
        },
        {
          "output_type": "stream",
          "name": "stdout",
          "text": [
            "Training Loss: 0.24233974236994982, \n",
            " Training perplexity: 1.274227028196186\n",
            "___________________________________________________________________________\n",
            "EPOCH: 39\n",
            "Total Steps: 608\n",
            "___________________________________________________________________________\n"
          ]
        },
        {
          "output_type": "stream",
          "name": "stderr",
          "text": [
            "100%|██████████| 16/16 [00:08<00:00,  1.87it/s]\n"
          ]
        },
        {
          "output_type": "stream",
          "name": "stdout",
          "text": [
            "Training Loss: 0.22786302212625742, \n",
            " Training perplexity: 1.2559132813186147\n",
            "___________________________________________________________________________\n",
            "EPOCH: 40\n",
            "Total Steps: 624\n",
            "___________________________________________________________________________\n"
          ]
        },
        {
          "output_type": "stream",
          "name": "stderr",
          "text": [
            "100%|██████████| 16/16 [00:08<00:00,  1.87it/s]\n"
          ]
        },
        {
          "output_type": "stream",
          "name": "stdout",
          "text": [
            "\n",
            "Greedy decoding\n",
            "Sample prompt: Good morning America | generated text: s by far the highest. And we will end our reliance on China once and for all. Nobody knew it was str\n",
            "\n",
            "Random decoding\n",
            "Sample prompt: Good morning America | generated text:  blood and traveled big did with farmers, I delligive it the worst Cornat and Coast Guard, 14 years \n",
            "\n",
            "\n",
            "Greedy decoding\n",
            "Sample prompt: Very good | generated text: places with that for 52 years, I got off the plane, I meant Social Security as well all of them. We \n",
            "\n",
            "Random decoding\n",
            "Sample prompt: Very good | generated text: open up. Look at him on that if I didn’t supposed to pro-American values. This will not be the only \n",
            "\n",
            "\n",
            "Greedy decoding\n",
            "Sample prompt: Donald Trump: | generated text: (23:54)<eos>In one order to restore the ones dealing with Russia. What a job she did. Ronna McDaniel. Wh\n",
            "\n",
            "Random decoding\n",
            "Sample prompt: Donald Trump: | generated text: (23:05)<eos>But on the problem itself. And he never come back and you could possibly imagine. This is no\n",
            "\n",
            "Training Loss: 0.20524835586547852, \n",
            " Training perplexity: 1.2278299658734808\n",
            "___________________________________________________________________________\n",
            "EPOCH: 41\n",
            "Total Steps: 640\n",
            "___________________________________________________________________________\n"
          ]
        },
        {
          "output_type": "stream",
          "name": "stderr",
          "text": [
            "100%|██████████| 16/16 [00:08<00:00,  1.86it/s]\n"
          ]
        },
        {
          "output_type": "stream",
          "name": "stdout",
          "text": [
            "Training Loss: 0.19096513744443655, \n",
            " Training perplexity: 1.2104172531069803\n",
            "___________________________________________________________________________\n",
            "EPOCH: 42\n",
            "Total Steps: 656\n",
            "___________________________________________________________________________\n"
          ]
        },
        {
          "output_type": "stream",
          "name": "stderr",
          "text": [
            "100%|██████████| 16/16 [00:08<00:00,  1.88it/s]\n"
          ]
        },
        {
          "output_type": "stream",
          "name": "stdout",
          "text": [
            "Training Loss: 0.1789677869528532, \n",
            " Training perplexity: 1.1959822173158001\n",
            "___________________________________________________________________________\n",
            "EPOCH: 43\n",
            "Total Steps: 672\n",
            "___________________________________________________________________________\n"
          ]
        },
        {
          "output_type": "stream",
          "name": "stderr",
          "text": [
            "100%|██████████| 16/16 [00:08<00:00,  1.87it/s]\n"
          ]
        },
        {
          "output_type": "stream",
          "name": "stdout",
          "text": [
            "Training Loss: 0.15867909509688616, \n",
            " Training perplexity: 1.1719617980427206\n",
            "___________________________________________________________________________\n",
            "EPOCH: 44\n",
            "Total Steps: 688\n",
            "___________________________________________________________________________\n"
          ]
        },
        {
          "output_type": "stream",
          "name": "stderr",
          "text": [
            "100%|██████████| 16/16 [00:08<00:00,  1.88it/s]\n"
          ]
        },
        {
          "output_type": "stream",
          "name": "stdout",
          "text": [
            "Training Loss: 0.1409433730877936, \n",
            " Training perplexity: 1.151359448208339\n",
            "___________________________________________________________________________\n",
            "EPOCH: 45\n",
            "Total Steps: 704\n",
            "___________________________________________________________________________\n"
          ]
        },
        {
          "output_type": "stream",
          "name": "stderr",
          "text": [
            "100%|██████████| 16/16 [00:08<00:00,  1.88it/s]\n"
          ]
        },
        {
          "output_type": "stream",
          "name": "stdout",
          "text": [
            "Training Loss: 0.12725271470844746, \n",
            " Training perplexity: 1.1357039906217028\n",
            "___________________________________________________________________________\n",
            "EPOCH: 46\n",
            "Total Steps: 720\n",
            "___________________________________________________________________________\n"
          ]
        },
        {
          "output_type": "stream",
          "name": "stderr",
          "text": [
            "100%|██████████| 16/16 [00:08<00:00,  1.88it/s]\n"
          ]
        },
        {
          "output_type": "stream",
          "name": "stdout",
          "text": [
            "Training Loss: 0.11732342140749097, \n",
            " Training perplexity: 1.124483052777251\n",
            "___________________________________________________________________________\n",
            "EPOCH: 47\n",
            "Total Steps: 736\n",
            "___________________________________________________________________________\n"
          ]
        },
        {
          "output_type": "stream",
          "name": "stderr",
          "text": [
            "100%|██████████| 16/16 [00:08<00:00,  1.89it/s]\n"
          ]
        },
        {
          "output_type": "stream",
          "name": "stdout",
          "text": [
            "Training Loss: 0.10840653395280242, \n",
            " Training perplexity: 1.1145007356917411\n",
            "___________________________________________________________________________\n",
            "EPOCH: 48\n",
            "Total Steps: 752\n",
            "___________________________________________________________________________\n"
          ]
        },
        {
          "output_type": "stream",
          "name": "stderr",
          "text": [
            "100%|██████████| 16/16 [00:08<00:00,  1.87it/s]\n"
          ]
        },
        {
          "output_type": "stream",
          "name": "stdout",
          "text": [
            "Training Loss: 0.09654319705441594, \n",
            " Training perplexity: 1.1013571555012285\n",
            "___________________________________________________________________________\n",
            "EPOCH: 49\n",
            "Total Steps: 768\n",
            "___________________________________________________________________________\n"
          ]
        },
        {
          "output_type": "stream",
          "name": "stderr",
          "text": [
            "100%|██████████| 16/16 [00:08<00:00,  1.87it/s]\n"
          ]
        },
        {
          "output_type": "stream",
          "name": "stdout",
          "text": [
            "Training Loss: 0.08759342366829515, \n",
            " Training perplexity: 1.0915442357462208\n",
            "___________________________________________________________________________\n",
            "EPOCH: 50\n",
            "Total Steps: 784\n",
            "___________________________________________________________________________\n"
          ]
        },
        {
          "output_type": "stream",
          "name": "stderr",
          "text": [
            "100%|██████████| 16/16 [00:08<00:00,  1.87it/s]\n"
          ]
        },
        {
          "output_type": "stream",
          "name": "stdout",
          "text": [
            "\n",
            "Greedy decoding\n",
            "Sample prompt: Good morning America | generated text:  blood and treasure in endless foreign wars in countries that most of you have never even heard of, \n",
            "\n",
            "Random decoding\n",
            "Sample prompt: Good morning America | generated text:  blood and treasure in endless foreign, ribs the care they know I have a great … She’s just a beauti\n",
            "\n",
            "\n",
            "Greedy decoding\n",
            "Sample prompt: Very good | generated text:  I’ll tell you, they understand the disease. It’s a terrible thing. Should never have been allowed t\n",
            "\n",
            "Random decoding\n",
            "Sample prompt: Very good | generated text: <eos><eos>Donald Trump: (02:05:35)<eos>This election comes down to a simple choice, you know what I kid Pennsylv\n",
            "\n",
            "\n",
            "Greedy decoding\n",
            "Sample prompt: Donald Trump: | generated text: (02:21:34)<eos>State GOP Chair, Laura Cox. Laura? Good job. Are we going to win? Otherwise, we will fire\n",
            "\n",
            "Random decoding\n",
            "Sample prompt: Donald Trump: | generated text: (02:17:39)<eos>Thank you very much.<eos><eos>Crowd: (01:38:24)<eos>We love you. We love you. We love you.<eos><eos>Donald Tr\n",
            "\n",
            "Training Loss: 0.07831385033205152, \n",
            " Training perplexity: 1.081462022627455\n",
            "___________________________________________________________________________\n",
            "EPOCH: 51\n",
            "Total Steps: 800\n",
            "___________________________________________________________________________\n"
          ]
        },
        {
          "output_type": "stream",
          "name": "stderr",
          "text": [
            "100%|██████████| 16/16 [00:08<00:00,  1.87it/s]\n"
          ]
        },
        {
          "output_type": "stream",
          "name": "stdout",
          "text": [
            "Training Loss: 0.0691246862988919, \n",
            " Training perplexity: 1.071569810892744\n",
            "___________________________________________________________________________\n",
            "EPOCH: 52\n",
            "Total Steps: 816\n",
            "___________________________________________________________________________\n"
          ]
        },
        {
          "output_type": "stream",
          "name": "stderr",
          "text": [
            "100%|██████████| 16/16 [00:08<00:00,  1.86it/s]\n"
          ]
        },
        {
          "output_type": "stream",
          "name": "stdout",
          "text": [
            "Training Loss: 0.059541318099945784, \n",
            " Training perplexity: 1.061349613022977\n",
            "___________________________________________________________________________\n",
            "EPOCH: 53\n",
            "Total Steps: 832\n",
            "___________________________________________________________________________\n"
          ]
        },
        {
          "output_type": "stream",
          "name": "stderr",
          "text": [
            "100%|██████████| 16/16 [00:08<00:00,  1.87it/s]\n"
          ]
        },
        {
          "output_type": "stream",
          "name": "stdout",
          "text": [
            "Training Loss: 0.05194299388676882, \n",
            " Training perplexity: 1.0533156953680556\n",
            "___________________________________________________________________________\n",
            "EPOCH: 54\n",
            "Total Steps: 848\n",
            "___________________________________________________________________________\n"
          ]
        },
        {
          "output_type": "stream",
          "name": "stderr",
          "text": [
            "100%|██████████| 16/16 [00:08<00:00,  1.87it/s]\n"
          ]
        },
        {
          "output_type": "stream",
          "name": "stdout",
          "text": [
            "Training Loss: 0.04671594360843301, \n",
            " Training perplexity: 1.0478243256052828\n",
            "___________________________________________________________________________\n",
            "EPOCH: 55\n",
            "Total Steps: 864\n",
            "___________________________________________________________________________\n"
          ]
        },
        {
          "output_type": "stream",
          "name": "stderr",
          "text": [
            "100%|██████████| 16/16 [00:08<00:00,  1.87it/s]\n"
          ]
        },
        {
          "output_type": "stream",
          "name": "stdout",
          "text": [
            "Training Loss: 0.04117722134105861, \n",
            " Training perplexity: 1.0420367603347105\n",
            "___________________________________________________________________________\n",
            "EPOCH: 56\n",
            "Total Steps: 880\n",
            "___________________________________________________________________________\n"
          ]
        },
        {
          "output_type": "stream",
          "name": "stderr",
          "text": [
            "100%|██████████| 16/16 [00:08<00:00,  1.86it/s]\n"
          ]
        },
        {
          "output_type": "stream",
          "name": "stdout",
          "text": [
            "Training Loss: 0.03727008099667728, \n",
            " Training perplexity: 1.037973319853485\n",
            "___________________________________________________________________________\n",
            "EPOCH: 57\n",
            "Total Steps: 896\n",
            "___________________________________________________________________________\n"
          ]
        },
        {
          "output_type": "stream",
          "name": "stderr",
          "text": [
            "100%|██████████| 16/16 [00:08<00:00,  1.88it/s]\n"
          ]
        },
        {
          "output_type": "stream",
          "name": "stdout",
          "text": [
            "Training Loss: 0.03325510828290135, \n",
            " Training perplexity: 1.0338142401793797\n",
            "___________________________________________________________________________\n",
            "EPOCH: 58\n",
            "Total Steps: 912\n",
            "___________________________________________________________________________\n"
          ]
        },
        {
          "output_type": "stream",
          "name": "stderr",
          "text": [
            "100%|██████████| 16/16 [00:08<00:00,  1.86it/s]\n"
          ]
        },
        {
          "output_type": "stream",
          "name": "stdout",
          "text": [
            "Training Loss: 0.03014323429670185, \n",
            " Training perplexity: 1.030602140954911\n",
            "___________________________________________________________________________\n",
            "EPOCH: 59\n",
            "Total Steps: 928\n",
            "___________________________________________________________________________\n"
          ]
        },
        {
          "output_type": "stream",
          "name": "stderr",
          "text": [
            "100%|██████████| 16/16 [00:08<00:00,  1.87it/s]\n"
          ]
        },
        {
          "output_type": "stream",
          "name": "stdout",
          "text": [
            "Training Loss: 0.026480044587515295, \n",
            " Training perplexity: 1.0268337561660712\n",
            "___________________________________________________________________________\n",
            "EPOCH: 60\n",
            "Total Steps: 944\n",
            "___________________________________________________________________________\n"
          ]
        },
        {
          "output_type": "stream",
          "name": "stderr",
          "text": [
            "100%|██████████| 16/16 [00:08<00:00,  1.87it/s]\n"
          ]
        },
        {
          "output_type": "stream",
          "name": "stdout",
          "text": [
            "\n",
            "Greedy decoding\n",
            "Sample prompt: Good morning America | generated text:  blood and treasure in endless ridiculous foreign wars in countries you’ve never even heard of for t\n",
            "\n",
            "Random decoding\n",
            "Sample prompt: Good morning America | generated text:  blood and treasure in endless foreign wars in countries that most of you have never even heard of, \n",
            "\n",
            "\n",
            "Greedy decoding\n",
            "Sample prompt: Very good | generated text: Ronatives leave. Can you hear it back there by the way?<eos><eos>Audience: (03:33)<eos>No!<eos><eos>President Donald J. \n",
            "\n",
            "Random decoding\n",
            "Sample prompt: Very good | generated text: like that.<eos>President Donald J. Trump: (01:10:03)<eos>For years, you had a president who apologized for A\n",
            "\n",
            "\n",
            "Greedy decoding\n",
            "Sample prompt: Donald Trump: | generated text: (01:29:31)<eos>It’s really amazing. And I think we’re winning. I think they’re willing to spend thousand\n",
            "\n",
            "Random decoding\n",
            "Sample prompt: Donald Trump: | generated text: (02:21:32)<eos>Thank you very much.<eos><eos>Crowd: (38:06)<eos>Everyone been a campaign, and I hear they believe pr\n",
            "\n",
            "Training Loss: 0.023297938867472112, \n",
            " Training perplexity: 1.0235714558420845\n",
            "___________________________________________________________________________\n",
            "EPOCH: 61\n",
            "Total Steps: 960\n",
            "___________________________________________________________________________\n"
          ]
        },
        {
          "output_type": "stream",
          "name": "stderr",
          "text": [
            "100%|██████████| 16/16 [00:08<00:00,  1.87it/s]\n"
          ]
        },
        {
          "output_type": "stream",
          "name": "stdout",
          "text": [
            "Training Loss: 0.020102631067857146, \n",
            " Training perplexity: 1.0203060497528555\n",
            "___________________________________________________________________________\n",
            "EPOCH: 62\n",
            "Total Steps: 976\n",
            "___________________________________________________________________________\n"
          ]
        },
        {
          "output_type": "stream",
          "name": "stderr",
          "text": [
            "100%|██████████| 16/16 [00:08<00:00,  1.88it/s]\n"
          ]
        },
        {
          "output_type": "stream",
          "name": "stdout",
          "text": [
            "Training Loss: 0.017792362603358924, \n",
            " Training perplexity: 1.017951589626678\n",
            "___________________________________________________________________________\n",
            "EPOCH: 63\n",
            "Total Steps: 992\n",
            "___________________________________________________________________________\n"
          ]
        },
        {
          "output_type": "stream",
          "name": "stderr",
          "text": [
            "100%|██████████| 16/16 [00:08<00:00,  1.88it/s]\n"
          ]
        },
        {
          "output_type": "stream",
          "name": "stdout",
          "text": [
            "Training Loss: 0.015489634301047772, \n",
            " Training perplexity: 1.0156102204939497\n",
            "___________________________________________________________________________\n",
            "EPOCH: 64\n",
            "Total Steps: 1008\n",
            "___________________________________________________________________________\n"
          ]
        },
        {
          "output_type": "stream",
          "name": "stderr",
          "text": [
            "100%|██████████| 16/16 [00:08<00:00,  1.87it/s]\n"
          ]
        },
        {
          "output_type": "stream",
          "name": "stdout",
          "text": [
            "Training Loss: 0.014666255156043917, \n",
            " Training perplexity: 1.0147743323925817\n",
            "___________________________________________________________________________\n",
            "EPOCH: 65\n",
            "Total Steps: 1024\n",
            "___________________________________________________________________________\n"
          ]
        },
        {
          "output_type": "stream",
          "name": "stderr",
          "text": [
            "100%|██████████| 16/16 [00:08<00:00,  1.87it/s]\n"
          ]
        },
        {
          "output_type": "stream",
          "name": "stdout",
          "text": [
            "Training Loss: 0.013846954505424947, \n",
            " Training perplexity: 1.0139432676142657\n",
            "___________________________________________________________________________\n",
            "EPOCH: 66\n",
            "Total Steps: 1040\n",
            "___________________________________________________________________________\n"
          ]
        },
        {
          "output_type": "stream",
          "name": "stderr",
          "text": [
            "100%|██████████| 16/16 [00:08<00:00,  1.88it/s]\n"
          ]
        },
        {
          "output_type": "stream",
          "name": "stdout",
          "text": [
            "Training Loss: 0.013380645017605275, \n",
            " Training perplexity: 1.0134705664695463\n",
            "___________________________________________________________________________\n",
            "EPOCH: 67\n",
            "Total Steps: 1056\n",
            "___________________________________________________________________________\n"
          ]
        },
        {
          "output_type": "stream",
          "name": "stderr",
          "text": [
            "100%|██████████| 16/16 [00:08<00:00,  1.87it/s]\n"
          ]
        },
        {
          "output_type": "stream",
          "name": "stdout",
          "text": [
            "Training Loss: 0.013257571961730719, \n",
            " Training perplexity: 1.0133458432250846\n",
            "___________________________________________________________________________\n",
            "EPOCH: 68\n",
            "Total Steps: 1072\n",
            "___________________________________________________________________________\n"
          ]
        },
        {
          "output_type": "stream",
          "name": "stderr",
          "text": [
            "100%|██████████| 16/16 [00:08<00:00,  1.88it/s]\n"
          ]
        },
        {
          "output_type": "stream",
          "name": "stdout",
          "text": [
            "Training Loss: 0.01344575872644782, \n",
            " Training perplexity: 1.0135365594454322\n",
            "___________________________________________________________________________\n",
            "EPOCH: 69\n",
            "Total Steps: 1088\n",
            "___________________________________________________________________________\n"
          ]
        },
        {
          "output_type": "stream",
          "name": "stderr",
          "text": [
            "100%|██████████| 16/16 [00:08<00:00,  1.87it/s]\n"
          ]
        },
        {
          "output_type": "stream",
          "name": "stdout",
          "text": [
            "Training Loss: 0.01261363277444616, \n",
            " Training perplexity: 1.0126935201770877\n",
            "___________________________________________________________________________\n",
            "EPOCH: 70\n",
            "Total Steps: 1104\n",
            "___________________________________________________________________________\n"
          ]
        },
        {
          "output_type": "stream",
          "name": "stderr",
          "text": [
            "100%|██████████| 16/16 [00:08<00:00,  1.89it/s]\n"
          ]
        },
        {
          "output_type": "stream",
          "name": "stdout",
          "text": [
            "\n",
            "Greedy decoding\n",
            "Sample prompt: Good morning America | generated text:  blood and treasure in endless foreign, ridiculous wars. Countries you’ve never even heard of. In 20\n",
            "\n",
            "Random decoding\n",
            "Sample prompt: Good morning America | generated text:  blood and treasure in endless foreign, ridiculous wars. Countries you’ve never even heard of. In 20\n",
            "\n",
            "\n",
            "Greedy decoding\n",
            "Sample prompt: Very good | generated text: relationships in different parts of the world. In some we help. We don’t have to, though. Now we don\n",
            "\n",
            "Random decoding\n",
            "Sample prompt: Very good | generated text:  Oh, let them people are tough. You saw that for 55 years, this is the turn a you go into one thing \n",
            "\n",
            "\n",
            "Greedy decoding\n",
            "Sample prompt: Donald Trump: | generated text: (25:15)<eos>And you know, I don’t have the luxury of staying in a basement. I’m president of the United \n",
            "\n",
            "Random decoding\n",
            "Sample prompt: Donald Trump: | generated text: (02:21:53)<eos>No, I think we’re going to have a tremendous victory in all of these States they’re takin\n",
            "\n",
            "Training Loss: 0.011500746360979974, \n",
            " Training perplexity: 1.0115671342035544\n",
            "___________________________________________________________________________\n",
            "EPOCH: 71\n",
            "Total Steps: 1120\n",
            "___________________________________________________________________________\n"
          ]
        },
        {
          "output_type": "stream",
          "name": "stderr",
          "text": [
            "100%|██████████| 16/16 [00:08<00:00,  1.88it/s]\n"
          ]
        },
        {
          "output_type": "stream",
          "name": "stdout",
          "text": [
            "Training Loss: 0.010111163428518921, \n",
            " Training perplexity: 1.010162453964699\n",
            "___________________________________________________________________________\n",
            "EPOCH: 72\n",
            "Total Steps: 1136\n",
            "___________________________________________________________________________\n"
          ]
        },
        {
          "output_type": "stream",
          "name": "stderr",
          "text": [
            "100%|██████████| 16/16 [00:08<00:00,  1.88it/s]\n"
          ]
        },
        {
          "output_type": "stream",
          "name": "stdout",
          "text": [
            "Training Loss: 0.008856766973622143, \n",
            " Training perplexity: 1.008896104181966\n",
            "___________________________________________________________________________\n",
            "EPOCH: 73\n",
            "Total Steps: 1152\n",
            "___________________________________________________________________________\n"
          ]
        },
        {
          "output_type": "stream",
          "name": "stderr",
          "text": [
            "100%|██████████| 16/16 [00:08<00:00,  1.89it/s]\n"
          ]
        },
        {
          "output_type": "stream",
          "name": "stdout",
          "text": [
            "Training Loss: 0.007930648047477007, \n",
            " Training perplexity: 1.0079621789350444\n",
            "___________________________________________________________________________\n",
            "EPOCH: 74\n",
            "Total Steps: 1168\n",
            "___________________________________________________________________________\n"
          ]
        },
        {
          "output_type": "stream",
          "name": "stderr",
          "text": [
            "100%|██████████| 16/16 [00:08<00:00,  1.88it/s]\n"
          ]
        },
        {
          "output_type": "stream",
          "name": "stdout",
          "text": [
            "Training Loss: 0.007190521893789992, \n",
            " Training perplexity: 1.0072164357705395\n",
            "___________________________________________________________________________\n",
            "EPOCH: 75\n",
            "Total Steps: 1184\n",
            "___________________________________________________________________________\n"
          ]
        },
        {
          "output_type": "stream",
          "name": "stderr",
          "text": [
            "100%|██████████| 16/16 [00:08<00:00,  1.89it/s]\n"
          ]
        },
        {
          "output_type": "stream",
          "name": "stdout",
          "text": [
            "Training Loss: 0.006615919468458742, \n",
            " Training perplexity: 1.0066378530071611\n",
            "___________________________________________________________________________\n",
            "EPOCH: 76\n",
            "Total Steps: 1200\n",
            "___________________________________________________________________________\n"
          ]
        },
        {
          "output_type": "stream",
          "name": "stderr",
          "text": [
            "100%|██████████| 16/16 [00:08<00:00,  1.88it/s]\n"
          ]
        },
        {
          "output_type": "stream",
          "name": "stdout",
          "text": [
            "Training Loss: 0.006336192338494584, \n",
            " Training perplexity: 1.0063563084692846\n",
            "___________________________________________________________________________\n",
            "EPOCH: 77\n",
            "Total Steps: 1216\n",
            "___________________________________________________________________________\n"
          ]
        },
        {
          "output_type": "stream",
          "name": "stderr",
          "text": [
            "100%|██████████| 16/16 [00:08<00:00,  1.89it/s]\n"
          ]
        },
        {
          "output_type": "stream",
          "name": "stdout",
          "text": [
            "Training Loss: 0.006018774030962959, \n",
            " Training perplexity: 1.0060369232451167\n",
            "___________________________________________________________________________\n",
            "EPOCH: 78\n",
            "Total Steps: 1232\n",
            "___________________________________________________________________________\n"
          ]
        },
        {
          "output_type": "stream",
          "name": "stderr",
          "text": [
            "100%|██████████| 16/16 [00:08<00:00,  1.88it/s]\n"
          ]
        },
        {
          "output_type": "stream",
          "name": "stdout",
          "text": [
            "Training Loss: 0.005674635962350294, \n",
            " Training perplexity: 1.0056907672075497\n",
            "___________________________________________________________________________\n",
            "EPOCH: 79\n",
            "Total Steps: 1248\n",
            "___________________________________________________________________________\n"
          ]
        },
        {
          "output_type": "stream",
          "name": "stderr",
          "text": [
            "100%|██████████| 16/16 [00:08<00:00,  1.88it/s]\n"
          ]
        },
        {
          "output_type": "stream",
          "name": "stdout",
          "text": [
            "Training Loss: 0.0053970458975527436, \n",
            " Training perplexity: 1.0054116361861059\n",
            "___________________________________________________________________________\n",
            "EPOCH: 80\n",
            "Total Steps: 1264\n",
            "___________________________________________________________________________\n"
          ]
        },
        {
          "output_type": "stream",
          "name": "stderr",
          "text": [
            "100%|██████████| 16/16 [00:08<00:00,  1.89it/s]\n"
          ]
        },
        {
          "output_type": "stream",
          "name": "stdout",
          "text": [
            "\n",
            "Greedy decoding\n",
            "Sample prompt: Good morning America | generated text:  blood and treasure in endless foreign wars in countries that most of you have never even heard of, \n",
            "\n",
            "Random decoding\n",
            "Sample prompt: Good morning America | generated text:  blood and treasure in endless foreign, ridiculous wars. Countries you’ve never even heard of. In 20\n",
            "\n",
            "\n",
            "Greedy decoding\n",
            "Sample prompt: Very good | generated text: relationships in different parts of the world. In some we help. We don’t have to, though. Now we don\n",
            "\n",
            "Random decoding\n",
            "Sample prompt: Very good | generated text: news for you. 99.99, okay, you know what that means? That means you’re in good shape. That’s what th\n",
            "\n",
            "\n",
            "Greedy decoding\n",
            "Sample prompt: Donald Trump: | generated text: (14:17)<eos>The doctor told me, “Sir, your son has tested positive.” I see him like 12 seconds later, “D\n",
            "\n",
            "Random decoding\n",
            "Sample prompt: Donald Trump: | generated text: (15:12)<eos>Can you imagine? You know, I have a lot of my kids here tonight. Could you imagine if my kid\n",
            "\n",
            "Training Loss: 0.005091257073218003, \n",
            " Training perplexity: 1.0051042395455279\n",
            "___________________________________________________________________________\n",
            "EPOCH: 81\n",
            "Total Steps: 1280\n",
            "___________________________________________________________________________\n"
          ]
        },
        {
          "output_type": "stream",
          "name": "stderr",
          "text": [
            "100%|██████████| 16/16 [00:08<00:00,  1.88it/s]\n"
          ]
        },
        {
          "output_type": "stream",
          "name": "stdout",
          "text": [
            "Training Loss: 0.004778042115503922, \n",
            " Training perplexity: 1.0047894751606705\n",
            "___________________________________________________________________________\n",
            "EPOCH: 82\n",
            "Total Steps: 1296\n",
            "___________________________________________________________________________\n"
          ]
        },
        {
          "output_type": "stream",
          "name": "stderr",
          "text": [
            "100%|██████████| 16/16 [00:08<00:00,  1.87it/s]\n"
          ]
        },
        {
          "output_type": "stream",
          "name": "stdout",
          "text": [
            "Training Loss: 0.004659781901864335, \n",
            " Training perplexity: 1.004670655568629\n",
            "___________________________________________________________________________\n",
            "EPOCH: 83\n",
            "Total Steps: 1312\n",
            "___________________________________________________________________________\n"
          ]
        },
        {
          "output_type": "stream",
          "name": "stderr",
          "text": [
            "100%|██████████| 16/16 [00:08<00:00,  1.88it/s]\n"
          ]
        },
        {
          "output_type": "stream",
          "name": "stdout",
          "text": [
            "Training Loss: 0.004477897979086265, \n",
            " Training perplexity: 1.0044879387458239\n",
            "___________________________________________________________________________\n",
            "EPOCH: 84\n",
            "Total Steps: 1328\n",
            "___________________________________________________________________________\n"
          ]
        },
        {
          "output_type": "stream",
          "name": "stderr",
          "text": [
            "100%|██████████| 16/16 [00:08<00:00,  1.87it/s]\n"
          ]
        },
        {
          "output_type": "stream",
          "name": "stdout",
          "text": [
            "Training Loss: 0.0041682685987325385, \n",
            " Training perplexity: 1.0041769679131147\n",
            "___________________________________________________________________________\n",
            "EPOCH: 85\n",
            "Total Steps: 1344\n",
            "___________________________________________________________________________\n"
          ]
        },
        {
          "output_type": "stream",
          "name": "stderr",
          "text": [
            "100%|██████████| 16/16 [00:08<00:00,  1.87it/s]\n"
          ]
        },
        {
          "output_type": "stream",
          "name": "stdout",
          "text": [
            "Training Loss: 0.003840215562377125, \n",
            " Training perplexity: 1.003847598638002\n",
            "___________________________________________________________________________\n",
            "EPOCH: 86\n",
            "Total Steps: 1360\n",
            "___________________________________________________________________________\n"
          ]
        },
        {
          "output_type": "stream",
          "name": "stderr",
          "text": [
            "100%|██████████| 16/16 [00:08<00:00,  1.86it/s]\n"
          ]
        },
        {
          "output_type": "stream",
          "name": "stdout",
          "text": [
            "Training Loss: 0.003731542528839782, \n",
            " Training perplexity: 1.0037385134016679\n",
            "___________________________________________________________________________\n",
            "EPOCH: 87\n",
            "Total Steps: 1376\n",
            "___________________________________________________________________________\n"
          ]
        },
        {
          "output_type": "stream",
          "name": "stderr",
          "text": [
            "100%|██████████| 16/16 [00:08<00:00,  1.86it/s]\n"
          ]
        },
        {
          "output_type": "stream",
          "name": "stdout",
          "text": [
            "Training Loss: 0.003549839064362459, \n",
            " Training perplexity: 1.0035561472051402\n",
            "___________________________________________________________________________\n",
            "EPOCH: 88\n",
            "Total Steps: 1392\n",
            "___________________________________________________________________________\n"
          ]
        },
        {
          "output_type": "stream",
          "name": "stderr",
          "text": [
            "100%|██████████| 16/16 [00:08<00:00,  1.86it/s]\n"
          ]
        },
        {
          "output_type": "stream",
          "name": "stdout",
          "text": [
            "Training Loss: 0.0034583254891913384, \n",
            " Training perplexity: 1.0034643123963545\n",
            "___________________________________________________________________________\n",
            "EPOCH: 89\n",
            "Total Steps: 1408\n",
            "___________________________________________________________________________\n"
          ]
        },
        {
          "output_type": "stream",
          "name": "stderr",
          "text": [
            "100%|██████████| 16/16 [00:08<00:00,  1.86it/s]\n"
          ]
        },
        {
          "output_type": "stream",
          "name": "stdout",
          "text": [
            "Training Loss: 0.0034720029652817175, \n",
            " Training perplexity: 1.003478037349356\n",
            "___________________________________________________________________________\n",
            "EPOCH: 90\n",
            "Total Steps: 1424\n",
            "___________________________________________________________________________\n"
          ]
        },
        {
          "output_type": "stream",
          "name": "stderr",
          "text": [
            "100%|██████████| 16/16 [00:08<00:00,  1.87it/s]\n"
          ]
        },
        {
          "output_type": "stream",
          "name": "stdout",
          "text": [
            "\n",
            "Greedy decoding\n",
            "Sample prompt: Good morning America | generated text:  blood and treasure in endless foreign, ridiculous wars. Countries you’ve never even heard of. In 20\n",
            "\n",
            "Random decoding\n",
            "Sample prompt: Good morning America | generated text:  blood and treasure in endless ridiculous foreign wars in countries you’ve never even heard of for t\n",
            "\n",
            "\n",
            "Greedy decoding\n",
            "Sample prompt: Very good | generated text: relationships in different parts of the world. In some we help. We don’t have to, though. Now we don\n",
            "\n",
            "Random decoding\n",
            "Sample prompt: Very good | generated text: Ronativake evening. You see what happens. It’s just kicking in right now, and one of the biggest ben\n",
            "\n",
            "\n",
            "Greedy decoding\n",
            "Sample prompt: Donald Trump: | generated text: (01:23:15)<eos>We had 45,000 people in Florida last night. By the way, we’re doing very well in Florida.\n",
            "\n",
            "Random decoding\n",
            "Sample prompt: Donald Trump: | generated text: (01:23:15)<eos>We had 45,000 people in Florida last night. By the way, we’re doing very well in Florida.\n",
            "\n",
            "Training Loss: 0.0034506723895901814, \n",
            " Training perplexity: 1.0034566328134118\n",
            "___________________________________________________________________________\n",
            "EPOCH: 91\n",
            "Total Steps: 1440\n",
            "___________________________________________________________________________\n"
          ]
        },
        {
          "output_type": "stream",
          "name": "stderr",
          "text": [
            "100%|██████████| 16/16 [00:08<00:00,  1.86it/s]\n"
          ]
        },
        {
          "output_type": "stream",
          "name": "stdout",
          "text": [
            "Training Loss: 0.0032954765629256144, \n",
            " Training perplexity: 1.0033009126156351\n",
            "___________________________________________________________________________\n",
            "EPOCH: 92\n",
            "Total Steps: 1456\n",
            "___________________________________________________________________________\n"
          ]
        },
        {
          "output_type": "stream",
          "name": "stderr",
          "text": [
            "100%|██████████| 16/16 [00:08<00:00,  1.86it/s]\n"
          ]
        },
        {
          "output_type": "stream",
          "name": "stdout",
          "text": [
            "Training Loss: 0.0033011379709932953, \n",
            " Training perplexity: 1.0033065927275948\n",
            "___________________________________________________________________________\n",
            "EPOCH: 93\n",
            "Total Steps: 1472\n",
            "___________________________________________________________________________\n"
          ]
        },
        {
          "output_type": "stream",
          "name": "stderr",
          "text": [
            "100%|██████████| 16/16 [00:08<00:00,  1.86it/s]\n"
          ]
        },
        {
          "output_type": "stream",
          "name": "stdout",
          "text": [
            "Training Loss: 0.003236816861317493, \n",
            " Training perplexity: 1.0032420610096038\n",
            "___________________________________________________________________________\n",
            "EPOCH: 94\n",
            "Total Steps: 1488\n",
            "___________________________________________________________________________\n"
          ]
        },
        {
          "output_type": "stream",
          "name": "stderr",
          "text": [
            "100%|██████████| 16/16 [00:08<00:00,  1.86it/s]\n"
          ]
        },
        {
          "output_type": "stream",
          "name": "stdout",
          "text": [
            "Training Loss: 0.003129570875898935, \n",
            " Training perplexity: 1.0031344730954463\n",
            "___________________________________________________________________________\n",
            "EPOCH: 95\n",
            "Total Steps: 1504\n",
            "___________________________________________________________________________\n"
          ]
        },
        {
          "output_type": "stream",
          "name": "stderr",
          "text": [
            "100%|██████████| 16/16 [00:08<00:00,  1.85it/s]\n"
          ]
        },
        {
          "output_type": "stream",
          "name": "stdout",
          "text": [
            "Training Loss: 0.0029855101747671142, \n",
            " Training perplexity: 1.0029899712486914\n",
            "___________________________________________________________________________\n",
            "EPOCH: 96\n",
            "Total Steps: 1520\n",
            "___________________________________________________________________________\n"
          ]
        },
        {
          "output_type": "stream",
          "name": "stderr",
          "text": [
            "100%|██████████| 16/16 [00:08<00:00,  1.86it/s]\n"
          ]
        },
        {
          "output_type": "stream",
          "name": "stdout",
          "text": [
            "Training Loss: 0.002881274718674831, \n",
            " Training perplexity: 1.0028854295801513\n",
            "___________________________________________________________________________\n",
            "EPOCH: 97\n",
            "Total Steps: 1536\n",
            "___________________________________________________________________________\n"
          ]
        },
        {
          "output_type": "stream",
          "name": "stderr",
          "text": [
            "100%|██████████| 16/16 [00:08<00:00,  1.86it/s]\n"
          ]
        },
        {
          "output_type": "stream",
          "name": "stdout",
          "text": [
            "Training Loss: 0.0028100549388909712, \n",
            " Training perplexity: 1.002814006844094\n",
            "___________________________________________________________________________\n",
            "EPOCH: 98\n",
            "Total Steps: 1552\n",
            "___________________________________________________________________________\n"
          ]
        },
        {
          "output_type": "stream",
          "name": "stderr",
          "text": [
            "100%|██████████| 16/16 [00:08<00:00,  1.86it/s]\n"
          ]
        },
        {
          "output_type": "stream",
          "name": "stdout",
          "text": [
            "Training Loss: 0.0026986123484675772, \n",
            " Training perplexity: 1.002702256880427\n",
            "___________________________________________________________________________\n",
            "EPOCH: 99\n",
            "Total Steps: 1568\n",
            "___________________________________________________________________________\n"
          ]
        },
        {
          "output_type": "stream",
          "name": "stderr",
          "text": [
            "100%|██████████| 16/16 [00:08<00:00,  1.86it/s]\n"
          ]
        },
        {
          "output_type": "stream",
          "name": "stdout",
          "text": [
            "Training Loss: 0.002631417846714612, \n",
            " Training perplexity: 1.0026348830654694\n",
            "___________________________________________________________________________\n",
            "EPOCH: 100\n",
            "Total Steps: 1584\n",
            "___________________________________________________________________________\n"
          ]
        },
        {
          "output_type": "stream",
          "name": "stderr",
          "text": [
            "100%|██████████| 16/16 [00:08<00:00,  1.86it/s]\n"
          ]
        },
        {
          "output_type": "stream",
          "name": "stdout",
          "text": [
            "\n",
            "Greedy decoding\n",
            "Sample prompt: Good morning America | generated text:  blood and treasure in endless foreign wars in countries that most of you have never even heard of, \n",
            "\n",
            "Random decoding\n",
            "Sample prompt: Good morning America | generated text:  blood and treasendly in the one sad to stop fidly, and it all everything that happened, terrible th\n",
            "\n",
            "\n",
            "Greedy decoding\n",
            "Sample prompt: Very good | generated text: relationships in different parts of the world. In some we help. We don’t have to, though. Now we don\n",
            "\n",
            "Random decoding\n",
            "Sample prompt: Very good | generated text: ratings that they’ll want to do it again and again.<eos><eos>Donald Trump: (39:14)<eos>But no, wasn’t that terri\n",
            "\n",
            "\n",
            "Greedy decoding\n",
            "Sample prompt: Donald Trump: | generated text: (01:23:15)<eos>We had 45,000 people in Florida last night. By the way, we’re doing very well in Florida.\n",
            "\n",
            "Random decoding\n",
            "Sample prompt: Donald Trump: | generated text: (14:17)<eos>The doctor told me, “Sir, your son has tested positive.” I see some people that want to do h\n",
            "\n",
            "Training Loss: 0.002641220678924583, \n",
            " Training perplexity: 1.0026447117751704\n"
          ]
        },
        {
          "output_type": "display_data",
          "data": {
            "text/plain": [
              "<Figure size 432x288 with 1 Axes>"
            ],
            "image/png": "[encoded data removed]"
          },
          "metadata": {
            "needs_background": "light"
          }
        },
        {
          "output_type": "display_data",
          "data": {
            "text/plain": [
              "<Figure size 432x288 with 1 Axes>"
            ],
            "image/png": "[encoded data removed]"
          },
          "metadata": {
            "needs_background": "light"
          }
        }
      ],
      "source": [
        "trump_samples = ['Good morning America', 'Very good', 'Donald Trump:']\n",
        "PATH = bonus_path\n",
        "trainer = Trainer(model_parameters = model_parameters, path = PATH, bptt_len = BPTT_LEN, samples = trump_samples)\n",
        "counter(PATH)\n",
        "print(\"Vocab Count: \", len(trainer.train_field.vocab))\n",
        "print(\"Count: \", len(trainer.bptt_iterator))\n",
        "trump_model = trainer.train_model(num_epochs=100)\n",
        "torch.save(trump_model.state_dict(), 'trump_model.pt')"
      ]
    },
    {
      "cell_type": "markdown",
      "source": [
        "# Load Fable and Trump models"
      ],
      "metadata": {
        "id": "i26a5-l_aBLJ"
      }
    },
    {
      "cell_type": "code",
      "source": [
        "# Fable Model\n",
        "PATH = book_path\n",
        "fable_trainer = Trainer(model_parameters = model_parameters, path = PATH, bptt_len = BPTT_LEN, samples = fable_samples)\n",
        "fable_model = fable_trainer.model\n",
        "fable_model.load_state_dict(torch.load('fable_model.pt'))\n",
        "\n",
        "# Trump Model\n",
        "PATH = bonus_path\n",
        "trump_trainer = Trainer(model_parameters = model_parameters, path = PATH, bptt_len = BPTT_LEN, samples = fable_samples)\n",
        "trump_model = trump_trainer.model\n",
        "trump_model.load_state_dict(torch.load('trump_model.pt'))\n"
      ],
      "metadata": {
        "id": "n_aqoSYxaAtA"
      },
      "execution_count": null,
      "outputs": []
    },
    {
      "cell_type": "markdown",
      "metadata": {
        "id": "uxxpYCYkGFUy"
      },
      "source": [
        "# Greedy decoding for the fable model"
      ]
    },
    {
      "cell_type": "code",
      "execution_count": 36,
      "metadata": {
        "id": "r4XASfKGGFUz",
        "outputId": "1f5fe6be-73d5-4392-8a8f-3132e25b1f85",
        "colab": {
          "base_uri": "https://localhost:8080/"
        }
      },
      "outputs": [
        {
          "output_type": "stream",
          "name": "stdout",
          "text": [
            "Greedy Decoding\n",
            "A title in the book\n",
            "Sample prompt: THE FOX AND THE LION | generated text: <eos><eos>A LITTLE fox was out playing one day, when a Lion came roaring along.<eos>“Dear me,” said the Fox, as he hid behind a tree, “I never saw a Lion<eos>before. What a terrible creature! His voice makes me tremble.”<eos><eos>The next time the Fox met the Lion he was not so much afraid, but he<eos>kept a safe distance and \n",
            "A title in similar style\n",
            "Sample prompt: THE TURTLE AND THE BIRD | generated text: <eos><eos><eos>A WOLF, passing by, saw some Shepherds in a hut, eating for their<eos>dinner a haunch of mutton. Approaching them, he said: “Ah! gentlemen,<eos>you are feasting on mutton. I like your taste. But what a hue and cry<eos>you would raise if _I_ were to do it.”<eos><eos><eos><eos><eos>THE BOY AND THE NETTLE<eos><eos><eos>A BOY was once stung by\n",
            "Some texts in similar style\n",
            "Sample prompt: Back in my day | generated text:  The eggs were large, and<eos>sold for a good price. The Woman often thought, as she took them to<eos>market: “How glad they all are to get my eggs! I could sell as many<eos>more just as easily.”<eos><eos>It began to look a small thing to her to get but a single egg each day.<eos>“If I were to give a double allowance of ba\n",
            "Anything Interesting\n",
            "Sample prompt: Dallmayr to go | generated text: home<eos>with him and see all the beautiful things that are under the water.<eos><eos>“Can you swim?” asked the Frog.<eos><eos>“Not much,” said the Mouse.<eos><eos>[Illustration]<eos><eos>“No matter,” said the Frog; “I will tie your foot to my foot with a<eos>piece of this strong grass, and then I can pull you along nicely.” The<eos>Frog laug\n",
            "Sample prompt: Covid-19 is | generated text: to be disturbed again by the silly Frogs, and this<eos>time he sent them a Stork, saying, “You will have some one to rule<eos>over you now.”<eos><eos>As they saw the Stork solemnly walking down to the lake, they were<eos>delighted.<eos><eos>“Ah!” they said, “see how grand he looks! How he strides along! How he<eos>throws back his \n",
            "Random Decoding\n",
            "A title in the book\n",
            "Sample prompt: THE FOX AND THE LION | generated text: <eos><eos>A LITTLE fox was out playing one day, when a Lion came roaring along.<eos>“Dear me,” said the Fox, as he hid behind a tree, “I never saw a Lion<eos>before. What a terrible creature! His voice makes me tremble.”<eos><eos>The next time the Fox met the Lion he was not so much afraided<eos>given it was, but that one is t\n",
            "A title in similar style\n",
            "Sample prompt: THE TURTLE AND THE BIRD | generated text: <eos><eos><eos>A WOLF, passing by, saw some Skan who was kinly one lion under the feet of a man, you shall have<eos>twenty men burst it.<eos><eos>As there was the best of meat in the ugly.<eos><eos>“It is enough for me, too?”<eos><eos>“You go away.”<eos><eos>“Go, and I can do that as well. I am a beast so much aftery, the<eos>farmer makes you look so\n",
            "Some texts in similar style\n",
            "Sample prompt: Back in my day | generated text:  The eggs were large, and<eos>sold for a good price. The Woman often thought, as she took them to<eos>market: “How glad they all are to get my eggs! I could sell as many<eos>more just as easily.”<eos><eos>It began to look a small thing to her to get but a single egg each day.<eos>“If I were to give a double allowance of ba\n",
            "Anything Interesting\n",
            "Sample prompt: Dallmayr to go | generated text: near him,<eos>even when he found that his old enemy could not move. But he could not<eos>refrain from giving an exulting crow.<eos><eos>The Fox, looking up, said: “Dear Mr. Cock, you see how unlucky I have<eos>been, and all because I came here to inquire a few compliance with the terms of this<eos>agreement and help preser\n",
            "Sample prompt: Covid-19 is | generated text: to be disturbed again by the silly<eos>pertain King stopped by a tree, he let the poor old father has<eos>taken prisoner times in Greece to the rank of<eos>literary form a thousand years before the above-mentioned revival<eos>in Germany, France, and England. As the creation of Æsop it was the<eos>answer to a need for t\n",
            "Sample prompt: The Angry Turtle was | generated text: drowned,<eos>the Blind Man and the Lamb bakeping were makes so crow.<eos><eos>A drincing with fallen found for the use of the world at no cost and with almost no<eos>  restrictions whatsoever. You may copy it, give it away or re-use it under the terms of<eos>the Project Gutenberg License included with this eBook or onl\n",
            "Greedy Decoding\n",
            "A title in the book\n",
            "Sample prompt:   | generated text:                       58<eos>    The Lion and the Mouse                  61<eos>    The Mouse, the Cat, and the Cock       63<eos>    The Ax and the Trees                     65<eos>    The Jackdaw and the Sheep              66<eos>    The Cat and the Cock                   67<eos>    The Wolf and the Goat                 \n",
            "A title in similar style\n",
            "Sample prompt: A very nice day | generated text: which looked outright.<eos><eos>By and by they came to a bridge. Then the Donkey began to kick, and<eos>breaking the rope, fell into the water and was drowned.<eos><eos>The Cock said nothing, but went but to see what it was.<eos><eos>She found that it was flax. “When this flax has grown,” she said to<eos>herself, “the man will mak\n",
            "Sample prompt: I once was | generated text: made a drudge too, and was often<eos>for ready with chatger.<eos><eos>But the Mountain replied: “What good have you done by such generosity?<eos>and how can any one help being pained at the sight of it? If you<eos>had poured your showers over the land, you might have saved a whole<eos>district from famine. But as to the se\n",
            "Anything Interesting\n",
            "Sample prompt: Birds are flying | generated text: outdr.<eos><eos>“I do not care what happens,” said the Fox, “for I have a thousand<eos>tricks, any one of which would get me out of difficulty. But pray, Mrs.<eos>Puss,” he added, “what would you do if there should be an invasion?”<eos><eos>[Illustration]<eos><eos>“I have but one course,” Puss replied. “If that would not serve me,\n",
            "Sample prompt: Coca Cola | generated text: ce.<eos><eos><eos><eos><eos>THE BLIND MAN AND THE LAME MAN<eos><eos><eos>A BLIND Man, being stopped in a bad piece of road, met a Lame Man,<eos>and entreated him to help him out of the difficulty into which he had<eos>fallen.<eos><eos>“How can I,” replied the Lame Man, “since I can scarcely drag myself<eos>along? I am lame, and you look very strong.”\n"
          ]
        }
      ],
      "source": [
        "#Greedy\n",
        "prompt = 'THE FOX AND THE LION'\n",
        "gen_text = trainer.predict(fable_model,prompt,300)\n",
        "print(\"Greedy Decoding\")\n",
        "print(\"A title in the book\")\n",
        "print(f'Sample prompt: {prompt} | generated text: {gen_text}')\n",
        "\n",
        "#A title which you invent, which is not in the book, but similar in the style.\n",
        "prompt = 'THE TURTLE AND THE BIRD'\n",
        "gen_text = trainer.predict(fable_model,prompt,300)\n",
        "print(\"A title in similar style\")\n",
        "print(f'Sample prompt: {prompt} | generated text: {gen_text}')\n",
        "# Some texts in a similar style.\n",
        "print(\"Some texts in similar style\")\n",
        "prompt = 'Back in my day'\n",
        "gen_text = trainer.predict(fable_model,prompt,300)\n",
        "print(f'Sample prompt: {prompt} | generated text: {gen_text}')\n",
        "#Anything you might find interesting\n",
        "print(\"Anything Interesting\")\n",
        "prompt = 'Dallmayr to go'\n",
        "gen_text = trainer.predict(fable_model,prompt,300)\n",
        "print(f'Sample prompt: {prompt} | generated text: {gen_text}')\n",
        "prompt = 'Covid-19 is'\n",
        "gen_text = trainer.predict(fable_model,prompt,300)\n",
        "print(f'Sample prompt: {prompt} | generated text: {gen_text}')\n",
        "#Multinomial\n",
        "print(\"Random Decoding\")\n",
        "print(\"A title in the book\")\n",
        "prompt = 'THE FOX AND THE LION'\n",
        "gen_text = trainer.predict(fable_model,prompt,300,method=\"random\")\n",
        "print(f'Sample prompt: {prompt} | generated text: {gen_text}')\n",
        "#A title which you invent, which is not in the book, but similar in the style.\n",
        "print(\"A title in similar style\")\n",
        "prompt = 'THE TURTLE AND THE BIRD'\n",
        "gen_text = trainer.predict(fable_model,prompt,300,method=\"random\")\n",
        "print(f'Sample prompt: {prompt} | generated text: {gen_text}')\n",
        "# Some texts in a similar style.\n",
        "print(\"Some texts in similar style\")\n",
        "prompt = 'Back in my day'\n",
        "gen_text = trainer.predict(fable_model,prompt,300,method=\"random\")\n",
        "print(f'Sample prompt: {prompt} | generated text: {gen_text}')\n",
        "#Anything you might find interesting\n",
        "print(\"Anything Interesting\")\n",
        "prompt = 'Dallmayr to go'\n",
        "gen_text = trainer.predict(fable_model,prompt,300,method=\"random\")\n",
        "print(f'Sample prompt: {prompt} | generated text: {gen_text}')\n",
        "prompt = 'Covid-19 is'\n",
        "gen_text = trainer.predict(fable_model,prompt,300,method=\"random\")\n",
        "print(f'Sample prompt: {prompt} | generated text: {gen_text}')\n",
        "prompt = 'The Angry Turtle was'\n",
        "gen_text = trainer.predict(fable_model,prompt,300,method=\"random\")\n",
        "print(f'Sample prompt: {prompt} | generated text: {gen_text}')\n",
        "\n",
        "#Greedy\n",
        "print(\"Greedy Decoding\")\n",
        "\n",
        "prompt = ' '\n",
        "gen_text = trainer.predict(fable_model,prompt,300)\n",
        "print(\"A title in the book\")\n",
        "print(f'Sample prompt: {prompt} | generated text: {gen_text}')\n",
        "#A title which you invent, which is not in the book, but similar in the style.\n",
        "prompt = 'A very nice day'\n",
        "gen_text = trainer.predict(fable_model,prompt,300)\n",
        "print(\"A title in similar style\")\n",
        "print(f'Sample prompt: {prompt} | generated text: {gen_text}')\n",
        "# Some texts in a similar style.\n",
        "prompt = 'I once was'\n",
        "gen_text = trainer.predict(fable_model,prompt,300)\n",
        "print(f'Sample prompt: {prompt} | generated text: {gen_text}')\n",
        "#Anything you might find interesting\n",
        "print(\"Anything Interesting\")\n",
        "prompt = 'Birds are flying'\n",
        "gen_text = trainer.predict(fable_model,prompt,300)\n",
        "print(f'Sample prompt: {prompt} | generated text: {gen_text}')\n",
        "prompt = 'Coca Cola'\n",
        "gen_text = trainer.predict(fable_model,prompt,300)\n",
        "print(f'Sample prompt: {prompt} | generated text: {gen_text}')\n",
        "#Multinomial\n",
        "\n",
        "\n",
        "\n"
      ]
    },
    {
      "cell_type": "markdown",
      "metadata": {
        "id": "oMM2BNGNGFUz"
      },
      "source": [
        "# Random decoding for the fable model"
      ]
    },
    {
      "cell_type": "code",
      "execution_count": 28,
      "metadata": {
        "id": "6kKgQ-A0GFU0",
        "outputId": "7de6b9e2-72ee-4805-ec0b-be208735005e",
        "colab": {
          "base_uri": "https://localhost:8080/"
        }
      },
      "outputs": [
        {
          "output_type": "stream",
          "name": "stdout",
          "text": [
            "Random Decoding\n",
            "Sample prompt:   | generated text: nr.n, a Juhhreh stood up aid sard, W1rhs, I drmmeh yrtn cou<eos>ynollcb vnehe rs io gatehral moh hesrstai.e e7ual to a .okehriw om<eos>nrdes, aid iotnriw ri tne pheseit .ase so wood as leatnehb0<eos><eos>     q       q       q<eos><eos>:kehc gai moh nrs oyi thadeb<eos><eos><eos><eos><eos>vA: ATB:1 T)D vA: 2B(M1<eos><eos><eos>I) T 2(B:1v, deep, snadc, aid\n",
            "Sample prompt: A very nice day | generated text: ed, tne Jo.’, as usual, fewai to .hoyb<eos><eos>T 2o4, neahriw tne souid aid tnri’riw ne yas suhe om a wood fhea’mast,<eos>.age aid stood uideh tne fhai.nesb WMood gohiriw,0 sard ne to tne Jo.’b<eos><eos>WAoy wlad I ag to ga’e tne a4 ri nrs goutn5 aid neh srstehdc .ogplcriw<eos>yrtn tnese mell rito tne yateh aid<eos>tnus ga’e \n",
            "Sample prompt: I once was | generated text: eied fc tne eitheated tnrs<eos>theatgeit, a..used nrg om rgpretc aid, ri sprte om nrs sa.hed .naha.teh<eos>as agfassadoh, e4e.uted nrg as a puflr. .hrgrialb 3ut tne 3rhds yould nake<eos>iotnriw gohe to do yrtn tneg, fut lemt tne yoods ynehe tnec lrked aid<eos>.age ri tne dactrge, fut at tnrs om tne souid om<eos>mootste\n",
            "Anything Interesting\n",
            "Sample prompt: Birds are flying | generated text: he ri gridb vne<eos>pehsoi snould fe om gohe kalue tnai nrs .oatb0<eos><eos><eos><eos><eos>vA: D(M1 T)D vA: AID:1<eos><eos><eos>1(P: Dows, magrsned yrtn nuiweh, say .oynrdes steepriw ri a hrkeh,<eos>.lose fc a taiiehc, aid tnouwnt tnec grwnt fe eateib )ot feriw afle to<eos>hea.n tneg, tnec set to yoh’ mrhst to dhri’ up tne hrkeh, fut fuhst<eos>tn\n",
            "Sample prompt: Coca Cola | generated text: e<eos>om a .ogpahrsoi om tne tyo heidehriws,<eos>aid su.n a .ogpahrsoi yrll opei tne yac to a drs.ussroi om<eos>tne moolrsn Pouseb<eos><eos><eos><eos><eos>vA: 1A:HA:BDO1 3(N T)D vA: ?(S2<eos><eos><eos>T PT) yno nad a mrie mlo.’ om 1neep put tneg all rito a mreld, aid<eos>nrhed a Jo.’ to nrs gouselr’e nead aid<eos>eahs, ynr.n so .oimused tne ?easel tn\n",
            "Sample prompt: The Fox | generated text: Xaid yno su.n lr’ed ri tne<eos>  frwnt, aid .at.nriw tne 2o4, ne sardx<eos><eos>WJehs” I yrll let hetuhi to tnrs 7uret pla.eb0<eos><eos>XIllusthatroi&<eos><eos>Tmteh feriw uhwed a loiw trge, tne Jouithc Pouse at last awheed to wo<eos>to tne .rtc tnat kehc irwntb 1o tnec stahted omm towetneh, aid afout<eos>grdirwnt .age to tne wheat no\n",
            "Sample prompt: The Angry Turtle was | generated text: ed, aid tne Aay’<eos>.ooped doyi aid siat.ned at nrs gasteh as wood ri yriwb<eos><eos>Ae strlled ri rts wheat .lustehs om hrpe, fla.’<eos>whapes naiwriw mhog a thellrsed krieb<eos><eos>W?nat lu.’”0 ne sard5 Wrm oilc tnec yeheiOt 7urte so nrwn, I snould<eos>fe suhe om a mrie meastb I yoideh rm I .ai wet tnegb I .ai tnri’ om<eos>iot\n"
          ]
        }
      ],
      "source": [
        "print(\"Random Decoding\")\n",
        "prompt = ' '\n",
        "gen_text = trainer.predict(fable_model,prompt,300,method=\"random\")\n",
        "print(f'Sample prompt: {prompt} | generated text: {gen_text}')\n",
        "#A title which you invent, which is not in the book, but similar in the style.\n",
        "prompt = 'A very nice day'\n",
        "gen_text = trainer.predict(fable_model,prompt,300,method=\"random\")\n",
        "print(f'Sample prompt: {prompt} | generated text: {gen_text}')\n",
        "# Some texts in a similar style.\n",
        "prompt = 'I once was'\n",
        "gen_text = trainer.predict(fable_model,prompt,300,method=\"random\")\n",
        "print(f'Sample prompt: {prompt} | generated text: {gen_text}')\n",
        "#Anything you might find interesting\"\n",
        "print(\"Anything Interesting\")\n",
        "prompt = 'Birds are flying'\n",
        "gen_text = trainer.predict(fable_model,prompt,300,method=\"random\")\n",
        "print(f'Sample prompt: {prompt} | generated text: {gen_text}')\n",
        "prompt = 'Coca Cola'\n",
        "gen_text = trainer.predict(fable_model,prompt,300,method=\"random\")\n",
        "print(f'Sample prompt: {prompt} | generated text: {gen_text}')\n",
        "prompt = 'The Fox'\n",
        "gen_text = trainer.predict(fable_model,prompt,300,method=\"random\")\n",
        "print(f'Sample prompt: {prompt} | generated text: {gen_text}')\n",
        "\n",
        "prompt = 'The Angry Turtle was'\n",
        "gen_text = trainer.predict(fable_model,prompt,300,method=\"random\")\n",
        "print(f'Sample prompt: {prompt} | generated text: {gen_text}')\n",
        "\n"
      ]
    },
    {
      "cell_type": "markdown",
      "metadata": {
        "id": "YED1sEBHGFU1"
      },
      "source": [
        "# Greedy decoding for the trump model"
      ]
    },
    {
      "cell_type": "code",
      "execution_count": 29,
      "metadata": {
        "id": "OKqZ-BakGFU1",
        "outputId": "4ec8e58e-bafb-42de-c29e-ffb57aec5f6f",
        "colab": {
          "base_uri": "https://localhost:8080/"
        }
      },
      "outputs": [
        {
          "output_type": "stream",
          "name": "stdout",
          "text": [
            "Greedy Decoding\n",
            "Sample prompt: Thank You | generated text:  he’s going to introduce people to who? To his fantastic. She is my favorite Senator from the State of Nebraska, by far, by far. She’s fantastic. She is. I’ll tell you what she calls me, it doesn’t stop. Between her and Joni Ernst from Iowa, who I think is here, where’s Joni? Joni. Joni. They call, \n",
            "Sample prompt: Good | generated text:  You lost 27 First Lady, it’s true, they love her. She’s doing a good job. They love … the whole family back there, they love that family back there. Great family, hi, Tiffany. So, Melania has it but she knocked it out pretty good. And I did a great job. I was surrounded by these doctors, 12 doctors\n",
            "Sample prompt: China | generated text: into the World Trade Organization, which you supported, extending most favored nation status to China, which you supported, those steps allowed China to take advantage of the United States by using our own open trade deals against us.<eos><eos>Joe Biden: (22:45)<eos>No.<eos><eos>Speaker 1: (22:45)<eos>Do you think in retro\n",
            "Sample prompt: We have to | generated text: get a little more than that. They said two points today. The great Ted Nugent. Ted. Ted. Great, Ted. He’s the only one really dressed properly. Thank you, Ted, very good. Great job. We appreciate it Ted. The president of the Police Officers Association of Michigan, Jim Tignanelli. Jim. He’s like cen\n"
          ]
        }
      ],
      "source": [
        "#Greedy\n",
        "prompt = 'Thank You'\n",
        "gen_text = trainer.predict(trump_model,prompt,300)\n",
        "print(\"Greedy Decoding\")\n",
        "print(f'Sample prompt: {prompt} | generated text: {gen_text}')\n",
        "#A title which you invent, which is not in the book, but similar in the style.\n",
        "prompt = 'Good'\n",
        "gen_text = trainer.predict(trump_model,prompt,300)\n",
        "print(f'Sample prompt: {prompt} | generated text: {gen_text}')\n",
        "# Some texts in a similar style.\n",
        "prompt = 'China'\n",
        "gen_text = trainer.predict(trump_model,prompt,300)\n",
        "print(f'Sample prompt: {prompt} | generated text: {gen_text}')\n",
        "#Anything you might find interesting\n",
        "prompt = 'We have to'\n",
        "gen_text = trainer.predict(trump_model,prompt,300)\n",
        "print(f'Sample prompt: {prompt} | generated text: {gen_text}')\n"
      ]
    },
    {
      "cell_type": "markdown",
      "metadata": {
        "id": "lbVBsPwsGFU1"
      },
      "source": [
        "# Random decoding for the trump model"
      ]
    },
    {
      "cell_type": "code",
      "execution_count": 30,
      "metadata": {
        "id": "axOZ54UGGFU1",
        "outputId": "bff0bd30-71e3-478f-e003-6231828cf825",
        "colab": {
          "base_uri": "https://localhost:8080/"
        }
      },
      "outputs": [
        {
          "output_type": "stream",
          "name": "stdout",
          "text": [
            "Random Decoding\n",
            "Sample prompt: Thank You | generated text:  he’s going to introduce people to who’s fine higher. Wis corn it a few and we can talk about the way that was the state of Michigan, and we’re going to win four more years in the White House. By the way, there has never been a campaign …<eos><eos>Donald Trump: (08:47)<eos>There has never been a campaign, in th\n",
            "Sample prompt: Good | generated text:  You know, I have a lot of my kids here tonight. Could you imagine if my kids said, “Yeah, dad, I got a billion and a half dollars from China.” Oh, I don’t think they’d want to write about that, the fake news. Do you think they’d write about that? Then he gets three and a half million dollars from t\n",
            "Sample prompt: China | generated text: is not like that. President Putin of Russia. There’s nobody been tougher than Russia. And I hope you can hear. Can you hear it back there by the way?<eos><eos>Audience: (03:33:31)<eos>No!<eos><eos>President Donald J. Trump: (03:34)<eos>Yes, no?<eos><eos>Audience: (03:35)<eos>No!<eos><eos>President Donald J. Trump: (03:38)<eos>Hold it. Okay. That \n",
            "Sample prompt: We have to | generated text: get a little more federal targeted. A vote on early and they’re very simple choice. Do you want to be ruled by the corrupt and selfless political maniacs that you’re dealing with? Or do you want to be ruled by the American people? You’re supposed to be ruled by the American people. Do you want to be\n",
            "Sample prompt:   | generated text: ith, I don’t know… You been to caucus. No you haven’t. You’re a lying dog-faced pony soldier.<eos><eos>Vice President Mike Pence: (02:16:42)<eos>[inaudible 02:16:42] Why, why, why, why, why, why, why, why, why you’re getting nervous, man.<eos><eos>Vice President Mike Pence: (02:16:45)<eos>What kind of country we’re going to be? Four more years of George [inaudible 02:16:49] going to find ourselves in a position where, if Trump gets elected, we’re going to be in a different world.<eos><eos>Vice President Mike Pence: (02:16:58)<eos>Lie, after lie, after lie, after lie.<eos><eos>Vice President Mike Pence: (02:17:03)<eos>You know, we have to come together. That’s why I’m running. I’m running as a proud Democrat for the Senate. And by the way, I sit on the stand and it get hot, I got hairy legs that turn blonde in the sun. And the kids used to come up and reach in the pool and rub my leg down. So it was straight and then watch the hair come back up again. They’d look at it. So I learned about roaches, I learned about kids jumping on my l\n",
            "Sample prompt:   | generated text: ant your children to be safe, if you want your values to be honored, if you want your life to be treated with dignity and respect, then I am asking you to go to the poll tomorrow and vote, vote, vote. Remember what I said four years ago. I am your voice, and we will make America great again, and that’s what we’re doing. For the last four years, the depraved swamp has tried everything to stop me and to stop you, because they know I don’t answer to them. I answer to you. That’s why we’re here. That’s why we’re here. Together we will defeat the corrupt establishment. Which is under siege, but it’s 100% secure with us in this position, Mike, right? We will never touch it.<eos><eos>Donald Trump: (02:29:32)<eos>We inherit the legacy of American patriots who gave their blood, sweat, and tears to defend our country, our families, and our freedom. We stand on the shoulders of American heroes who crossed the ocean, settled the continent, tamed the wilderness, laid down the railroads, raised up the great sky\n",
            "Something not in the text\n"
          ]
        }
      ],
      "source": [
        "print(\"Random Decoding\")\n",
        "prompt = 'Thank You'\n",
        "gen_text = trainer.predict(trump_model,prompt,300,method=\"random\")\n",
        "print(f'Sample prompt: {prompt} | generated text: {gen_text}')\n",
        "#A title which you invent, which is not in the book, but similar in the style.\n",
        "prompt = 'Good'\n",
        "gen_text = trainer.predict(trump_model,prompt,300,method=\"random\")\n",
        "print(f'Sample prompt: {prompt} | generated text: {gen_text}')\n",
        "# Some texts in a similar style.\n",
        "prompt = 'China'\n",
        "gen_text = trainer.predict(trump_model,prompt,300,method=\"random\")\n",
        "print(f'Sample prompt: {prompt} | generated text: {gen_text}')\n",
        "#Anything you might find interesting\n",
        "prompt = 'We have to'\n",
        "gen_text = trainer.predict(trump_model,prompt,300,method=\"random\")\n",
        "print(f'Sample prompt: {prompt} | generated text: {gen_text}')\n",
        "prompt = ' '\n",
        "gen_text = trainer.predict(trump_model,prompt,1000,method=\"greedy\")\n",
        "print(f'Sample prompt: {prompt} | generated text: {gen_text}')\n",
        "prompt = ' '\n",
        "gen_text = trainer.predict(trump_model,prompt,1000,method=\"random\")\n",
        "print(f'Sample prompt: {prompt} | generated text: {gen_text}')\n",
        "print(\"Something not in the text\")"
      ]
    },
    {
      "cell_type": "markdown",
      "metadata": {
        "id": "zhB1N00bGFU2"
      },
      "source": [
        "# Comparing random and greedy for both models"
      ]
    },
    {
      "cell_type": "code",
      "execution_count": 32,
      "metadata": {
        "id": "wijMZenWGFU2",
        "outputId": "56457471-f765-4c99-e5e5-5fe4340b0f31",
        "colab": {
          "base_uri": "https://localhost:8080/"
        }
      },
      "outputs": [
        {
          "output_type": "stream",
          "name": "stdout",
          "text": [
            "Random Decoding\n",
            "Sample prompt: Birds fly high | generated text: tnriw tnat rt yas<eos>so wood as aiotneh, a pehme.t gahkelb (ilc oie tnriw<eos>rs uilu.’c[tne 17urhhel nas loiw awo lost all nrs teetnb<eos><eos><eos><eos><eos>vA: ?(S2 T)D vA: JTv<eos><eos><eos>T ?(S2 hai out om tne mohest rito a krllawe[iot to pac a krsrt, fut to<eos>sake rts lrme5 moh rt thegfled moh rts s’rib<eos><eos>vne nuitsgai aid a pa.’ om n\n",
            "Greedy Decoding\n",
            "Sample prompt: Birds fly high | generated text: l ri aid ri daiweh mhog tne wheat<eos>.lugsc .heatuhe, .alled out, WAelp” nelp”0 aid tne sehkaits, huiiriw<eos>ri, dhoke tne Doi’ec out om doohs yrtn str.’s aid stoiesb<eos><eos><eos><eos><eos>vA: ():“:N:D D(:<eos><eos><eos>T D(:, flrid ri oie ece, used to wha-e as ieah as sne .ould to tne edwe<eos>om a .lrmm, so tnat sne grwnt ’eep neh flrid\n",
            "Sample prompt: <eos> | generated text: 3hoyi“f<eos><eos>    vne vhugpeteh tnat tne HhoYe.t Muteifehw Srtehahc Th.nrke 2ouidatroi rs a ioi phomrt<eos>ULCR.8R68 edu.atroial .ohpohatroi ohwair-ed uideh tne lays om tne<eos>state om Prssrssrppr aid whaited ta4 e4egpt status fc tne Iitehial<eos>Bekeiue 1ehkr.eb vne 2ouidatroi–s :I) oh medehal ta4 rdeitrmr.atroi<eos>iugfeh rs KE“KFFCUECb Joithrfutrois to tne HhoYe.t Muteifehw Srteha<eos><eos><eos>vne ?olm yas prpriw aid tne …rd yas dai.riw, soge Dows, neahriw tne<eos>gusr., hai to tne pla.e to see ynat yas woriw oi5 aid tne ?olm yas wlad<eos>to ta’e nrgselm omm as mast as nrs lews yould .ahhc nrgb<eos><eos><eos><eos><eos>vA: AT?… T)D vA: )IMAvI)MTS:<eos><eos>\n",
            "Sample prompt: <eos> | generated text: 3hoyi“fa.’, Mhac“eah, aid<eos>?nrte“ynrs’ehb<eos><eos>Wvnehe rs io .ogmoht ri tne nouse,0 sard 3hoyi“fa.’b WIm I fut step<eos>rito tne paithc to pr.’ up a mey .hugfs, doyi .oges tne Jat, aid I nake<eos>nahdlc trge to hui to gc iest awarib0<eos><eos>W?nat .ai ye doG0 as’ed Mhac“eahb W1nall ye all hui at neh at oi.e aid<eos>frte neh, aid mhrwntei neh ayacG0<eos><eos>W)o,0 sard tne mrhst, WI mouid tne a4b It rs grieb0<eos><eos>vnec nad iot woie mah ynei tnec neahd tne oyieh om tne a4 puhsuriw<eos>tneg, aid tnec yehe old, aid .ahhcriw tneg, ynei he7urhed, mhog pla.e<eos>to pla.e upoi nrs fa.’b<eos><eos>WTll tnrs gac fe thue,0 heplred tne Ausfaidgai5 Wfut, as I\n",
            "Sample prompt: THE WOLF AND THE LAMB | generated text: C<eos>      FFCU<eos>      vne ?( aid tne 1yai                  C9<eos>    vne Pooi aid neh Potneh               C9K<eos>    vne Aohse aid tne 1taw              C9K<eos>    vne Joui.rl nelp ta’ei tnat oi a couiw           CL9<eos>    vne Doi’ec aid tne Sap Dow          CC$<eos>    vne (a’ aid tne Beed                  CC$<eos>    vne Dow aid tne Aahe                  CC$<eos>    vne Tits aid tne Mhassnoppehs          $6<eos>    vne Miat aid tne 3ull                   $U<eos>    vne 3uidle om 1tr.’s                CEL<eos>    vne Prs.nrekous Dow                     CUC<eos>    vne Dow aid tne Aahe                  CC<eos>    vne Tits aid tne Mhassnoppehs          C6<eos>    vne 2hows yno as’ed moh a …riw        CU<eos>    vne Doi’ec ri tne SroiOs 1’ri          C9<eos>    vne Pr.e ri Joui.rl                   FL<eos>    vne …rd aid tne ?olm                     CKC<eos>    vne Mouhd aid tne Hrie              C6!<eos>    vne Aay’, …rte, aid Hrweois           CFL<eos>    vne ?ah Aohse aid tne Pule            CLC<eos>    vne ?olm aid tne Moat                C6E<eos>    vne ?olm aid\n",
            "Sample prompt: THE WOLF AND THE LAMB | generated text: C<eos>      vne Dow ri tne Paiweh                       FF$<eos>    vne Pouse, tne 2how, aid tne Aay’     FF$<eos>    vne 1nepnehd 3oc aid tne ?olm         FF!<eos>    vne 2rsnehgai aid tne Srttle 2rsn     FF9<eos>    vne 2o4 aid tne Jhoy                   FF9<eos>    vne Hahthrdwe aid tne 2oyleh            F6L<eos>    vne vnrhstc Hrweoi                        E9<eos>    vne vnhee vhadesgei                           F6C<eos>    vne Aahes aid tne 2hows                   UL<eos>    vne :awle aid tne Thhoy                  U6<eos>    vne :awle aid tne 2o4                    UU<eos>    vne Dhug aid tne zase om 1yeet Aehfs   U$<eos>    vne vyo 2hows                                                        E9<eos>    vne Hahthrdwe aid tne 2oyleh           E!<eos>    vne vnrhstc Hrweoi                        E9<eos>    vne vnhee vhadesgei                             F6C<eos>    vne Aahes aid tne 2hows                   UL<eos>    vne :awle aid tne Thhoy                  U6<eos>    vne :awle aid tne 2o4                    UU<eos>    vne Dhug aid tne zase om 1yeet Aehfs   U$\n",
            "Greedy Decoding\n",
            "Sample prompt: President Donald J. Trump:  | generated text: 01:14)<eos>Thank you very much and hello, Kenosha. It’s nice to be back. It’s nice to be back. We spent a little time with you, a little law and order. We brought law and order to Kenosha. Right? That’s what we want. And hello, Wisconsin. Big day, tomorrow, big, big day, big day. And I think we’re going to do very well in Wisconsin just like we did four years ago. And it’s an honor to be with you. Thank you.<eos><eos>Audience: (01:41)<eos>USA! USA! USA! USA! USA! USA! USA! USA! USA! USA! USA! USA! USA! USA! USA! USA! USA! USA! USA! USA! USA! USA! USA! USA! USA! USA! USA! USA! USA! USA! USA! USA! USA! USA! USA\n",
            "Random Decoding\n",
            "Sample prompt: President Donald J. Trump:  | generated text: 01:14)<eos>Thank you very much and hello, Kenosha. It’s nice to be back. It’s nice to be back. We spent a little time with you, a little law and order. We brought law and order to Kenosha. Right? That’s what we want. And hello, Wisconsin. Big day, tomorrow, big, big day, big day. And I think we’re going to do very well in Wisconsin just like we did four years ago. And it’s an honor to be with you. Thank you.<eos><eos>Audience: (01:41)<eos>USA! USA! USA! USA! USA! USA! USA! USA! USA!<eos><eos>Donald Trump: (01:41:08)<eos>It’s a great group. Thank you. Thank you very much. We appreciate it. Next year will be the greatest e\n"
          ]
        }
      ],
      "source": [
        "\n",
        "print(\"Random Decoding\")\n",
        "prompt = 'Birds fly high'\n",
        "gen_text = trainer.predict(fable_model,prompt,300,method=\"random\")\n",
        "print(f'Sample prompt: {prompt} | generated text: {gen_text}')\n",
        "prompt = 'Birds fly high'\n",
        "print(\"Greedy Decoding\")\n",
        "gen_text = trainer.predict(fable_model,prompt,300,method=\"greedy\")\n",
        "print(f'Sample prompt: {prompt} | generated text: {gen_text}')\n",
        "prompt = '<eos>'\n",
        "gen_text = trainer.predict(fable_model,prompt,600,method=\"random\")\n",
        "print(f'Sample prompt: {prompt} | generated text: {gen_text}')\n",
        "gen_text = trainer.predict(fable_model,prompt,600,method=\"greedy\")\n",
        "print(f'Sample prompt: {prompt} | generated text: {gen_text}')\n",
        "\n",
        "prompt = 'THE WOLF AND THE LAMB'\n",
        "gen_text = trainer.predict(fable_model,prompt,1000,method=\"random\")\n",
        "print(f'Sample prompt: {prompt} | generated text: {gen_text}')\n",
        "prompt = 'THE WOLF AND THE LAMB'\n",
        "gen_text = trainer.predict(fable_model,prompt,1000,method=\"greedy\")\n",
        "print(f'Sample prompt: {prompt} | generated text: {gen_text}')\n",
        "\n",
        "\n",
        "print(\"Greedy Decoding\")\n",
        "prompt = \"President Donald J. Trump: \"\n",
        "gen_text = trainer.predict(trump_model,prompt,600,method=\"greedy\")\n",
        "print(f'Sample prompt: {prompt} | generated text: {gen_text}')\n",
        "print(\"Random Decoding\")\n",
        "prompt = \"President Donald J. Trump: \"\n",
        "gen_text = trainer.predict(trump_model,prompt,600,method=\"random\")\n",
        "print(f'Sample prompt: {prompt} | generated text: {gen_text}')"
      ]
    },
    {
      "cell_type": "code",
      "source": [],
      "metadata": {
        "id": "Fu9GwmFrX72t"
      },
      "execution_count": null,
      "outputs": []
    }
  ],
  "metadata": {
    "kernelspec": {
      "display_name": "Python 3.8.3 ('base')",
      "language": "python",
      "name": "python3"
    },
    "language_info": {
      "codemirror_mode": {
        "name": "ipython",
        "version": 3
      },
      "file_extension": ".py",
      "mimetype": "text/x-python",
      "name": "python",
      "nbconvert_exporter": "python",
      "pygments_lexer": "ipython3",
      "version": "3.8.3"
    },
    "orig_nbformat": 4,
    "vscode": {
      "interpreter": {
        "hash": "40d3a090f54c6569ab1632332b64b2c03c39dcf918b08424e98f38b5ae0af88f"
      }
    },
    "colab": {
      "provenance": []
    },
    "accelerator": "GPU"
  },
  "nbformat": 4,
  "nbformat_minor": 0
}